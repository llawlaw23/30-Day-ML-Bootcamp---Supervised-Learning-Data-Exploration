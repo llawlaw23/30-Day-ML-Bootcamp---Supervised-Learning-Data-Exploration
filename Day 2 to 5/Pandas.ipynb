{
 "cells": [
  {
   "cell_type": "code",
   "execution_count": null,
   "id": "8eadc232-0546-4cbd-b78d-ca60a2e7d7ff",
   "metadata": {},
   "outputs": [],
   "source": [
    "import pandas as pd\n",
    "import numpy as np"
   ]
  },
  {
   "cell_type": "code",
   "execution_count": null,
   "id": "98bed354-b72c-447c-80e4-e85c40d7488d",
   "metadata": {},
   "outputs": [],
   "source": [
    "law = pd.Series([1, 2, 3, 4, 5])"
   ]
  },
  {
   "cell_type": "code",
   "execution_count": null,
   "id": "3ca0305e-85be-4536-8861-f994669fdd3d",
   "metadata": {},
   "outputs": [],
   "source": [
    "law"
   ]
  },
  {
   "cell_type": "code",
   "execution_count": null,
   "id": "02c50e31-a6d4-4cb3-aeee-a14a1e1de78f",
   "metadata": {},
   "outputs": [],
   "source": [
    "df = pd.DataFrame([\n",
    "    [52, \"father\", 28],\n",
    "    [47, \"mother\", 23],\n",
    "    [29, \"brother\", 5],\n",
    "    [27, \"sister\", 3],\n",
    "    [18, \"sister\", -6],\n",
    "    [16, \"sister\", -8],\n",
    "], columns = [  \"Age\", \"Relation\", \"Age Gap\"])"
   ]
  },
  {
   "cell_type": "code",
   "execution_count": null,
   "id": "595f8d49-9fe4-4766-8cf7-dd112509970c",
   "metadata": {},
   "outputs": [],
   "source": [
    "df"
   ]
  },
  {
   "cell_type": "code",
   "execution_count": null,
   "id": "defedc38-db9c-4ece-9975-6379b5aa28c4",
   "metadata": {},
   "outputs": [],
   "source": [
    "df.index = [\n",
    "    \"Kofi\",\n",
    "    \"Patience\",\n",
    "    \"Bright\",\n",
    "    \"Abigail\",\n",
    "    \"Alberta\",\n",
    "    \"Jennifer\",\n",
    "]"
   ]
  },
  {
   "cell_type": "code",
   "execution_count": null,
   "id": "bdf3f7e5-0603-4e5a-9a07-7e4e07a6240f",
   "metadata": {},
   "outputs": [],
   "source": [
    "df"
   ]
  },
  {
   "cell_type": "code",
   "execution_count": null,
   "id": "93abed4f-5ccf-4b34-8b18-67ffe86c76bc",
   "metadata": {},
   "outputs": [],
   "source": [
    "df.columns"
   ]
  },
  {
   "cell_type": "code",
   "execution_count": null,
   "id": "e8f2ae00-9222-4c92-b5d3-655ed7a2df77",
   "metadata": {},
   "outputs": [],
   "source": [
    "df.index"
   ]
  },
  {
   "cell_type": "code",
   "execution_count": null,
   "id": "990ffda8-23b0-4fea-afaf-e4fe3a5192ca",
   "metadata": {},
   "outputs": [],
   "source": [
    "df.size"
   ]
  },
  {
   "cell_type": "code",
   "execution_count": null,
   "id": "fae6f4f9-9be9-4725-a0f5-205ddb7d6d1c",
   "metadata": {},
   "outputs": [],
   "source": [
    "df.loc[\"Kofi\"]"
   ]
  },
  {
   "cell_type": "code",
   "execution_count": null,
   "id": "70b8c436-1b1f-4de9-a951-ff6745e72952",
   "metadata": {},
   "outputs": [],
   "source": [
    "df.iloc[0]"
   ]
  },
  {
   "cell_type": "code",
   "execution_count": null,
   "id": "e1059b9d-acb7-4ac2-8658-6063eca8d884",
   "metadata": {},
   "outputs": [],
   "source": [
    "df.loc[\"Kofi\" : \"Jennifer\"]"
   ]
  },
  {
   "cell_type": "code",
   "execution_count": null,
   "id": "05e71f64-1b68-41bb-bef7-8fa5669beb15",
   "metadata": {},
   "outputs": [],
   "source": [
    "df.loc[\"Kofi\" : \"Jennifer\", [\"Age\", \"Relation\"]]"
   ]
  },
  {
   "cell_type": "code",
   "execution_count": null,
   "id": "9b84381b-1397-4a83-bb78-7d9f528ebda2",
   "metadata": {},
   "outputs": [],
   "source": [
    "df[\"Age Gap\"]"
   ]
  },
  {
   "cell_type": "code",
   "execution_count": null,
   "id": "0f09446d-6ab2-4c43-83c1-b8f48dd3c3ad",
   "metadata": {},
   "outputs": [],
   "source": [
    "df.iloc[0:3]"
   ]
  },
  {
   "cell_type": "code",
   "execution_count": null,
   "id": "9d5624ff-f1c9-4722-8b17-d2626433ccbb",
   "metadata": {},
   "outputs": [],
   "source": [
    "df.iloc[0:3, [0, 2]]"
   ]
  },
  {
   "cell_type": "code",
   "execution_count": null,
   "id": "0621c8c1-c989-428f-b12a-1f4169b55ebf",
   "metadata": {},
   "outputs": [],
   "source": [
    "df[\"Age\" ] < 50"
   ]
  },
  {
   "cell_type": "code",
   "execution_count": null,
   "id": "8a10389c-cd87-4ec5-adfd-b735ecb3755d",
   "metadata": {},
   "outputs": [],
   "source": [
    "df.loc[df[\"Age\" ] < 50,]"
   ]
  },
  {
   "cell_type": "code",
   "execution_count": null,
   "id": "0800da89-5660-4312-adca-8893e91c5537",
   "metadata": {},
   "outputs": [],
   "source": [
    "df.loc[df[\"Age\" ] < 50, \"Age\"]"
   ]
  },
  {
   "cell_type": "code",
   "execution_count": null,
   "id": "4270e895-a24f-4efb-bb17-aa4a6c6b4253",
   "metadata": {},
   "outputs": [],
   "source": [
    "df.drop(\"Bright\")"
   ]
  },
  {
   "cell_type": "code",
   "execution_count": null,
   "id": "94e71e2d-a75e-4126-b7f7-bc476c1e0fa1",
   "metadata": {},
   "outputs": [],
   "source": [
    "df.drop([\"Bright\", \"Alberta\"])"
   ]
  },
  {
   "cell_type": "code",
   "execution_count": null,
   "id": "c4ce2696-fb93-4c32-85f5-6f75f769ddfe",
   "metadata": {},
   "outputs": [],
   "source": [
    "df.drop(columns = [\"Age\", \"Relation\"])"
   ]
  },
  {
   "cell_type": "code",
   "execution_count": null,
   "id": "138331f6-8de1-41b4-839c-0216fa6bdbc4",
   "metadata": {},
   "outputs": [],
   "source": [
    "df.drop([\"Kofi\", \"Bright\"], axis = 0)"
   ]
  },
  {
   "cell_type": "code",
   "execution_count": null,
   "id": "4f85d94f-d552-4fa3-ab09-f171dd483ce1",
   "metadata": {},
   "outputs": [],
   "source": [
    "job = pd.Series(\n",
    "    [\"businessman\" , \"businesswoman\", \"housewife\"],\n",
    "    index = [\"Kofi\", \"Patience\", \"Abigail\"],\n",
    "    name = \"Occupation\"\n",
    ")"
   ]
  },
  {
   "cell_type": "code",
   "execution_count": null,
   "id": "cfa5432b-1737-4950-904b-070bf2540d62",
   "metadata": {},
   "outputs": [],
   "source": [
    "job"
   ]
  },
  {
   "cell_type": "code",
   "execution_count": null,
   "id": "1392c38a-3f5b-4671-8ae6-6633cffea2d2",
   "metadata": {},
   "outputs": [],
   "source": [
    "df[\"Occupation\"] = job\n",
    "df"
   ]
  },
  {
   "cell_type": "code",
   "execution_count": null,
   "id": "f8923333-c56b-489d-a9e0-d3679ef96695",
   "metadata": {},
   "outputs": [],
   "source": [
    "df.rename(\n",
    "    index = { \n",
    "        \"Kofi\": \"Dad\",\n",
    "        \"Patience\": \"Mom\"\n",
    "    },   \n",
    "    columns = {\"Occupation\": \"Work\"\n",
    "\n",
    "})"
   ]
  },
  {
   "cell_type": "code",
   "execution_count": null,
   "id": "54df062e-16ec-467b-9651-7768553ed090",
   "metadata": {},
   "outputs": [],
   "source": [
    "df"
   ]
  },
  {
   "cell_type": "code",
   "execution_count": null,
   "id": "f86302f5-fb0a-42b5-b9da-5dfcd1fbd029",
   "metadata": {},
   "outputs": [],
   "source": [
    "df [\"Age\"] / df[ \"Age Gap\"]"
   ]
  },
  {
   "cell_type": "code",
   "execution_count": null,
   "id": "cc32d6af-866a-4da9-81f0-162e7c782d22",
   "metadata": {},
   "outputs": [],
   "source": [
    "df [ \"Ratio of Age\"] = df [\"Age\"] / df[ \"Age Gap\"]"
   ]
  },
  {
   "cell_type": "code",
   "execution_count": null,
   "id": "d800c3b7-144c-40f5-95c2-1638fb96323c",
   "metadata": {},
   "outputs": [],
   "source": [
    "df"
   ]
  },
  {
   "cell_type": "markdown",
   "id": "7463a8c1-109f-4b0b-8249-7cd8f2fc6c2c",
   "metadata": {},
   "source": [
    "##### Reading Data from CSV files\n",
    "pd.read_csv()"
   ]
  },
  {
   "cell_type": "code",
   "execution_count": null,
   "id": "1afa686d-df5e-4979-9bec-98cde281f20d",
   "metadata": {},
   "outputs": [],
   "source": [
    "df = pd.read_csv(\"mine/btc-market-price.csv\")"
   ]
  },
  {
   "cell_type": "code",
   "execution_count": null,
   "id": "7804d483-2387-4bca-9cfe-cbfe98f3e3f3",
   "metadata": {},
   "outputs": [],
   "source": [
    "# giving it a header of 0 and 1 if it has no header\n",
    "df = pd.read_csv(\"mine/btc-market-price.csv\", header = None)"
   ]
  },
  {
   "cell_type": "code",
   "execution_count": null,
   "id": "1c937c0b-3447-4046-b2f1-75f467e82195",
   "metadata": {},
   "outputs": [],
   "source": [
    "df.head()"
   ]
  },
  {
   "cell_type": "code",
   "execution_count": null,
   "id": "725dd385-9651-4843-b2a2-cfe8b105118a",
   "metadata": {},
   "outputs": [],
   "source": [
    "# giving the data a header\n",
    "df.columns = [\"Timstamp\", \"Price\"]"
   ]
  },
  {
   "cell_type": "code",
   "execution_count": null,
   "id": "56e36ffe-9097-402d-afbf-9f98214891c0",
   "metadata": {},
   "outputs": [],
   "source": [
    "df.shape()\n",
    "df.info()"
   ]
  },
  {
   "cell_type": "code",
   "execution_count": null,
   "id": "18c8b3d3-62da-41ff-99ec-81989ffe09ce",
   "metadata": {},
   "outputs": [],
   "source": [
    "df.tail(5)"
   ]
  },
  {
   "cell_type": "code",
   "execution_count": null,
   "id": "ec77623a-724f-4ed6-9d9a-d68158fe5732",
   "metadata": {},
   "outputs": [],
   "source": [
    "# changing object date to int/float date \n",
    "pd.to_datetime(df[\"Timestamp\"]).head()"
   ]
  },
  {
   "cell_type": "code",
   "execution_count": null,
   "id": "47215100-7ca0-4d35-8844-bce8ffe2cdbd",
   "metadata": {},
   "outputs": [],
   "source": [
    "df[\"Timestamp\"] = pd.to_datetime(df[\"Timestamp\"])"
   ]
  },
  {
   "cell_type": "code",
   "execution_count": null,
   "id": "2ceff8ab-da23-485d-a9ff-ca1735596280",
   "metadata": {},
   "outputs": [],
   "source": [
    "df.head()"
   ]
  },
  {
   "cell_type": "code",
   "execution_count": null,
   "id": "6911091a-7c31-4c42-b3f9-800d60021954",
   "metadata": {},
   "outputs": [],
   "source": [
    "la = pd.DataFrame([52, 46, 29, 27, 24, 18, 16]) "
   ]
  },
  {
   "cell_type": "code",
   "execution_count": null,
   "id": "edf94902-c603-4ab1-b1a8-5c27e64481fc",
   "metadata": {},
   "outputs": [],
   "source": [
    "la"
   ]
  },
  {
   "cell_type": "code",
   "execution_count": null,
   "id": "202f33b2-15ad-4856-8671-6fe0556ad5b9",
   "metadata": {},
   "outputs": [],
   "source": [
    "la.index =  [\"Kofi\", \"Patience\", \"Bright\", \"Lawrenci\", \"Abigail\", \"Alberta\", \"Jennifer\"]"
   ]
  },
  {
   "cell_type": "code",
   "execution_count": null,
   "id": "fd284d39-d6b8-4359-9247-90986c2fd34e",
   "metadata": {},
   "outputs": [],
   "source": [
    "la"
   ]
  },
  {
   "cell_type": "code",
   "execution_count": null,
   "id": "84d02fad-b8da-496e-927b-0309424199f5",
   "metadata": {},
   "outputs": [],
   "source": [
    "la.plot()"
   ]
  }
 ],
 "metadata": {
  "kernelspec": {
   "display_name": "Python 3 (ipykernel)",
   "language": "python",
   "name": "python3"
  },
  "language_info": {
   "codemirror_mode": {
    "name": "ipython",
    "version": 3
   },
   "file_extension": ".py",
   "mimetype": "text/x-python",
   "name": "python",
   "nbconvert_exporter": "python",
   "pygments_lexer": "ipython3",
   "version": "3.12.8"
  }
 },
 "nbformat": 4,
 "nbformat_minor": 5
}
