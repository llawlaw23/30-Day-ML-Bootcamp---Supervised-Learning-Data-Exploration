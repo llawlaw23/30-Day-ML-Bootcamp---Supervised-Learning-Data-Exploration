{
 "cells": [
  {
   "cell_type": "code",
   "execution_count": null,
   "id": "8aa1c035-8bf7-4794-8059-064d23222dac",
   "metadata": {},
   "outputs": [],
   "source": [
    "import pandas as pd\n",
    "import numpy as np"
   ]
  },
  {
   "cell_type": "markdown",
   "id": "e59726ff-55e8-4f1b-9536-e441946495a3",
   "metadata": {},
   "source": [
    "#### Handling missing data in pandas"
   ]
  },
  {
   "cell_type": "code",
   "execution_count": null,
   "id": "022be51c-e932-4c9f-82c6-03a8586456b3",
   "metadata": {},
   "outputs": [],
   "source": [
    "pd.isnull(np.nan)"
   ]
  },
  {
   "cell_type": "code",
   "execution_count": null,
   "id": "9c8dd3f4-caf5-4f69-bf9c-1936292dcd25",
   "metadata": {},
   "outputs": [],
   "source": [
    "pd.isnull(None)"
   ]
  },
  {
   "cell_type": "code",
   "execution_count": null,
   "id": "882626a4-0808-43cd-af35-5ac8b940117c",
   "metadata": {},
   "outputs": [],
   "source": [
    "pd.isna(np.nan)"
   ]
  },
  {
   "cell_type": "code",
   "execution_count": null,
   "id": "51bf9eb4-ccfa-455c-8035-dca304429c77",
   "metadata": {},
   "outputs": [],
   "source": [
    "pd.isna(None)"
   ]
  },
  {
   "cell_type": "code",
   "execution_count": null,
   "id": "ac8019f8-1acf-4e80-9da5-b4642ed7cb37",
   "metadata": {},
   "outputs": [],
   "source": [
    "pd.notnull(np.nan)"
   ]
  },
  {
   "cell_type": "code",
   "execution_count": null,
   "id": "b1005fd6-23be-495a-89d6-4826ca1212f9",
   "metadata": {},
   "outputs": [],
   "source": [
    "pd.notna(None)"
   ]
  },
  {
   "cell_type": "markdown",
   "id": "5a5a926e-d029-4df5-ada3-ac948640b5f6",
   "metadata": {},
   "source": [
    "#### Checking missing Data from pd Series and DataFrame"
   ]
  },
  {
   "cell_type": "code",
   "execution_count": null,
   "id": "01fc586f-5739-4384-90d6-266422d3d67f",
   "metadata": {},
   "outputs": [],
   "source": [
    "pd.isnull(pd.Series([1, np.nan, 7]))"
   ]
  },
  {
   "cell_type": "code",
   "execution_count": null,
   "id": "54ea7131-d0e8-42a8-ad79-b49ac3c4825b",
   "metadata": {},
   "outputs": [],
   "source": [
    "s = pd.Series([1, np.nan, 3, np.nan, np.nan, 6, 7])"
   ]
  },
  {
   "cell_type": "code",
   "execution_count": null,
   "id": "18bd1d1b-b466-4567-940a-9f374194b396",
   "metadata": {},
   "outputs": [],
   "source": [
    "pd.notnull(s).sum()"
   ]
  },
  {
   "cell_type": "code",
   "execution_count": null,
   "id": "36bfee13-e156-4fc1-9ce9-8292bea5649c",
   "metadata": {},
   "outputs": [],
   "source": [
    "pd.isnull(s).sum()"
   ]
  },
  {
   "cell_type": "code",
   "execution_count": null,
   "id": "995af9e2-93df-47a2-aa4d-d36f8e2f939b",
   "metadata": {},
   "outputs": [],
   "source": [
    "s[pd.notnull(s)]"
   ]
  },
  {
   "cell_type": "code",
   "execution_count": null,
   "id": "d6c10caf-1d2d-4527-ba98-692de36ab190",
   "metadata": {},
   "outputs": [],
   "source": [
    "s[s.notnull()]"
   ]
  },
  {
   "cell_type": "code",
   "execution_count": null,
   "id": "33132883-a1c9-4ab7-a370-36ea40ef7fab",
   "metadata": {},
   "outputs": [],
   "source": [
    "# this drops all the rows with null values on them\n",
    "s.dropna()"
   ]
  },
  {
   "cell_type": "code",
   "execution_count": null,
   "id": "2f0c77e3-4c9a-4e20-aeb2-9b830cb08c57",
   "metadata": {},
   "outputs": [],
   "source": [
    "law = pd.DataFrame({\n",
    "    \"Column A\": [1, 2, 3, np.nan], \n",
    "    \"Column B\": [np.nan, 2, np.nan, 4],\n",
    "    \"Column E\": [1, 2, 3, np.nan], \n",
    "    \"Column C\": [1, 2, 3, 4], \n",
    "    \"Column D\": [np.nan, 2, 3, np.nan]\n",
    "})"
   ]
  },
  {
   "cell_type": "code",
   "execution_count": null,
   "id": "e34cf195-48ee-4538-89ab-9e1111f5fcd4",
   "metadata": {},
   "outputs": [],
   "source": [
    "law"
   ]
  },
  {
   "cell_type": "code",
   "execution_count": null,
   "id": "37370e4b-8ad4-4c0f-8f7b-fe8f7be97f08",
   "metadata": {},
   "outputs": [],
   "source": [
    "pd.notnull(law).count()"
   ]
  },
  {
   "cell_type": "code",
   "execution_count": null,
   "id": "f29ae811-9905-48f8-8dd4-f14188202e09",
   "metadata": {},
   "outputs": [],
   "source": [
    "pd.notnull(law).sum()"
   ]
  },
  {
   "cell_type": "code",
   "execution_count": null,
   "id": "fb78ce48-024b-4c44-9924-51a675346338",
   "metadata": {},
   "outputs": [],
   "source": [
    "pd.isnull(law).sum()"
   ]
  },
  {
   "cell_type": "code",
   "execution_count": null,
   "id": "9573676a-f6c8-4ee8-bf9c-0e2628a9e413",
   "metadata": {},
   "outputs": [],
   "source": [
    "law.isnull()"
   ]
  },
  {
   "cell_type": "code",
   "execution_count": null,
   "id": "b5f42463-4e84-4826-b41e-9507544eefd5",
   "metadata": {},
   "outputs": [],
   "source": [
    "law.notnull()"
   ]
  },
  {
   "cell_type": "code",
   "execution_count": null,
   "id": "c0e3f742-d331-40ff-bc12-7f838f1861bf",
   "metadata": {},
   "outputs": [],
   "source": [
    "law[pd.notnull(law)]"
   ]
  },
  {
   "cell_type": "code",
   "execution_count": null,
   "id": "57a438e9-b68f-4859-81c3-f27629124393",
   "metadata": {},
   "outputs": [],
   "source": [
    "law[law.notnull()]"
   ]
  },
  {
   "cell_type": "code",
   "execution_count": null,
   "id": "086b3157-c774-49c6-8f8a-506d486eb7d2",
   "metadata": {},
   "outputs": [],
   "source": [
    "# this drops all the rows with null values on them\n",
    "law.dropna()"
   ]
  },
  {
   "cell_type": "code",
   "execution_count": null,
   "id": "399309a4-6e2b-41d0-8ce7-82bbb501d205",
   "metadata": {},
   "outputs": [],
   "source": [
    "law.dropna(axis = 1)"
   ]
  },
  {
   "cell_type": "code",
   "execution_count": null,
   "id": "1200e335-dffa-4c03-88b8-27d4b7482250",
   "metadata": {},
   "outputs": [],
   "source": [
    "# this drops all the rows with null values on them\n",
    "law.dropna(how = \"any\")"
   ]
  },
  {
   "cell_type": "code",
   "execution_count": null,
   "id": "bfbfce95-03f1-47ab-b875-8095b1e522ab",
   "metadata": {},
   "outputs": [],
   "source": [
    "law.dropna(how = \"any\", axis = \"columns\")"
   ]
  },
  {
   "cell_type": "code",
   "execution_count": null,
   "id": "21471b32-3693-4261-b895-e1ecb2b6a9e4",
   "metadata": {},
   "outputs": [],
   "source": [
    "# this will drop the rows with their vlaues intact\n",
    "law.dropna(how = \"all\")"
   ]
  },
  {
   "cell_type": "code",
   "execution_count": null,
   "id": "4383297d-bc4d-40b0-a0b6-0a7af01cda7b",
   "metadata": {},
   "outputs": [],
   "source": [
    "law.dropna(how = \"all\", axis = \"columns\")"
   ]
  },
  {
   "cell_type": "code",
   "execution_count": null,
   "id": "88d6d4ac-1a0c-4c79-ae7c-26cb9f11fef3",
   "metadata": {},
   "outputs": [],
   "source": [
    "# thresh sets a threshold\n",
    "law.dropna(thresh = 3)"
   ]
  },
  {
   "cell_type": "code",
   "execution_count": null,
   "id": "c4fa4c65-da43-4a47-8e4e-5e0e8ce6dcbb",
   "metadata": {},
   "outputs": [],
   "source": [
    "law.dropna(thresh = 3, axis = \"columns\")"
   ]
  },
  {
   "cell_type": "markdown",
   "id": "31209f8f-8f1c-4c42-b6f0-e3a6b9cf975d",
   "metadata": {},
   "source": [
    "#### Filling null values "
   ]
  },
  {
   "cell_type": "code",
   "execution_count": null,
   "id": "0e4abd0a-83d2-498e-a85a-a1d715510ec7",
   "metadata": {},
   "outputs": [],
   "source": [
    "law"
   ]
  },
  {
   "cell_type": "code",
   "execution_count": null,
   "id": "5c86f3bd-6726-40d1-aba7-59832de2b6b6",
   "metadata": {},
   "outputs": [],
   "source": [
    "law.fillna(0)"
   ]
  },
  {
   "cell_type": "code",
   "execution_count": null,
   "id": "122e6298-ccc1-4ee4-8996-2147b68955c3",
   "metadata": {},
   "outputs": [],
   "source": [
    "law.fillna({\"Column A\": 1, \"Column B\": 2, \"Column C\": 3, \"Column D\": 4, \"Column E\":5})"
   ]
  },
  {
   "cell_type": "code",
   "execution_count": null,
   "id": "47058ee8-8425-4110-aa3c-28fe0b5863c7",
   "metadata": {},
   "outputs": [],
   "source": [
    "law.fillna(method = \"ffill\")"
   ]
  },
  {
   "cell_type": "code",
   "execution_count": null,
   "id": "e2277909-c12d-4c57-b8f5-337d8920205f",
   "metadata": {},
   "outputs": [],
   "source": [
    "law.fillna(method = \"bfill\")"
   ]
  },
  {
   "cell_type": "code",
   "execution_count": null,
   "id": "f904080f-a3c0-4deb-bee4-22e898c3afa5",
   "metadata": {},
   "outputs": [],
   "source": [
    "s"
   ]
  },
  {
   "cell_type": "code",
   "execution_count": null,
   "id": "d6c98f1b-a13d-4a5e-b07a-a157b21084fb",
   "metadata": {},
   "outputs": [],
   "source": [
    "s.fillna(0)"
   ]
  },
  {
   "cell_type": "code",
   "execution_count": null,
   "id": "08897841-0925-46c2-8b32-4efd4768b5be",
   "metadata": {},
   "outputs": [],
   "source": [
    "s.fillna(method = \"ffill\")"
   ]
  },
  {
   "cell_type": "code",
   "execution_count": null,
   "id": "aa3c4f51-7211-4e9a-affa-16ddadc01e8f",
   "metadata": {},
   "outputs": [],
   "source": [
    "s.fillna(method = \"bfill\")"
   ]
  },
  {
   "cell_type": "markdown",
   "id": "781a35a7-7bd4-487b-937e-28506e06d26c",
   "metadata": {},
   "source": [
    "#### Cleaning Not Null Values"
   ]
  },
  {
   "cell_type": "code",
   "execution_count": null,
   "id": "9630da85-bea3-47b6-81c7-094bb194e788",
   "metadata": {},
   "outputs": [],
   "source": [
    "ar = pd.DataFrame({\n",
    "    \"Sex\": [\"M\", \"B\", \"M\", \"F\", \"M\"],\n",
    "    \"Age\": [22, 55, 17, 35, 333]\n",
    "})\n",
    "ar"
   ]
  },
  {
   "cell_type": "code",
   "execution_count": null,
   "id": "b414908c-dee4-413c-916d-4b31ab0f52ff",
   "metadata": {},
   "outputs": [],
   "source": [
    "ar[ar[\"Age\"] > 100]"
   ]
  },
  {
   "cell_type": "markdown",
   "id": "e119e2c7-62b1-404a-88ff-d2fac06b028c",
   "metadata": {},
   "source": [
    "#### Duplicates"
   ]
  },
  {
   "cell_type": "code",
   "execution_count": null,
   "id": "81e122d1-626b-4c9e-a15a-d3326b4403aa",
   "metadata": {},
   "outputs": [],
   "source": [
    "pa = pd.Series([\n",
    "    \"Ghana\",\n",
    "    \"Russia\",\n",
    "    \"Russia\",\n",
    "    \"United State\",\n",
    "    \"United Kindom\",\n",
    "    \"Nigeria\",\n",
    "    \"Nigeria\",\n",
    "    \"Nigeria\"\n",
    "], index = [\n",
    "    \"Mahama\",\n",
    "    \"Putin\",\n",
    "    \"Mrman\",\n",
    "    \"Trump\",\n",
    "    \"Queen\",\n",
    "    \"Tinbu\",\n",
    "    \"Guy\",\n",
    "    \"Man\"\n",
    "])\n",
    "pa"
   ]
  },
  {
   "cell_type": "code",
   "execution_count": null,
   "id": "5353dc28-af07-4780-b116-7b34a34ca6a6",
   "metadata": {},
   "outputs": [],
   "source": [
    "pa.duplicated()"
   ]
  },
  {
   "cell_type": "code",
   "execution_count": null,
   "id": "eefb44a5-ce6d-4c15-a353-1692e8eeb3a9",
   "metadata": {},
   "outputs": [],
   "source": [
    "pa.duplicated( keep = \"last\")"
   ]
  },
  {
   "cell_type": "code",
   "execution_count": null,
   "id": "c45c876c-48bf-4262-b4ac-7c140559dc6d",
   "metadata": {},
   "outputs": [],
   "source": [
    "pa.duplicated( keep = False)"
   ]
  },
  {
   "cell_type": "code",
   "execution_count": null,
   "id": "ef14cfae-cd35-4e74-ad36-fd973928dd61",
   "metadata": {},
   "outputs": [],
   "source": [
    "pa.drop_duplicates()"
   ]
  },
  {
   "cell_type": "code",
   "execution_count": null,
   "id": "99087af7-7449-4683-bbce-eca5d60fddeb",
   "metadata": {},
   "outputs": [],
   "source": [
    "pa.drop_duplicates( keep = \"last\")"
   ]
  },
  {
   "cell_type": "code",
   "execution_count": null,
   "id": "1aa81328-6170-4289-9878-9af679e7b5c7",
   "metadata": {},
   "outputs": [],
   "source": [
    "pa.drop_duplicates( keep = False)"
   ]
  },
  {
   "cell_type": "code",
   "execution_count": null,
   "id": "1682c921-3dd8-494c-ac9d-9f43f90e6f3b",
   "metadata": {},
   "outputs": [],
   "source": [
    "ja = pd.DataFrame({\n",
    "    \"schools\": [ \n",
    "        \"GCTU\",\n",
    "        \"UG\",\n",
    "        \"UG\",\n",
    "        \"UDS\",\n",
    "        \"KNUST\",\n",
    "        \"GCTU\",\n",
    "        \"UCC\",\n",
    "        \"UCC\",\n",
    "    ],     \n",
    "    \"region\": [\n",
    "        \"Accra\",\n",
    "        \"Accra\",\n",
    "        \"idustrial\",\n",
    "        \"Bolga\",\n",
    "        \"Asanti\",\n",
    "        \"Tesano\",\n",
    "        \"Cape Coast\",\n",
    "        \"Elmina\"\n",
    "    ]\n",
    "})\n",
    "ja"
   ]
  },
  {
   "cell_type": "code",
   "execution_count": null,
   "id": "6ad1cdff-40f6-42fe-b6e7-586c3e1cea93",
   "metadata": {},
   "outputs": [],
   "source": [
    "ja.duplicated()"
   ]
  },
  {
   "cell_type": "code",
   "execution_count": null,
   "id": "d769ec33-9a74-43b0-b2ec-62cdd753cf74",
   "metadata": {},
   "outputs": [],
   "source": [
    "ja.duplicated( subset = [\"schools\"])"
   ]
  },
  {
   "cell_type": "code",
   "execution_count": null,
   "id": "8fdee86e-3e06-4c12-89b6-e2e268fb722d",
   "metadata": {},
   "outputs": [],
   "source": [
    "ja.duplicated( subset = [\"schools\"], keep = \"last\")"
   ]
  },
  {
   "cell_type": "code",
   "execution_count": null,
   "id": "1e5f1f06-04a3-4709-8280-9a912cea1841",
   "metadata": {},
   "outputs": [],
   "source": [
    "ja.drop_duplicates()"
   ]
  },
  {
   "cell_type": "code",
   "execution_count": null,
   "id": "0bd87641-0ede-49e2-ad39-4a4a7371de50",
   "metadata": {},
   "outputs": [],
   "source": [
    "ja.drop_duplicates( subset = [\"schools\"])"
   ]
  },
  {
   "cell_type": "code",
   "execution_count": null,
   "id": "8dd6c0d2-2572-4fd8-8a8c-e5a594877bff",
   "metadata": {},
   "outputs": [],
   "source": [
    "ja.drop_duplicates( subset = [\"schools\"], keep = \"last\")"
   ]
  },
  {
   "cell_type": "code",
   "execution_count": null,
   "id": "560b64dc-25fe-497f-9075-2f1b19b536d5",
   "metadata": {},
   "outputs": [],
   "source": [
    "aa = pd.DataFrame({\n",
    "    \"Data\": [ \n",
    "        \"1974_M_CA_1\",\n",
    "        \"1979_F_AU_2\",\n",
    "        \"1995?_M_US_1\",\n",
    "        \"1997_F_UK_2\",\n",
    "        \"2000?_F_US_3\",\n",
    "        \"2005_F_CA_4\",\n",
    "        \"2007?_M_US_5\",\n",
    "        \"2019_M_AU_1\",\n",
    "]})\n",
    "aa"
   ]
  },
  {
   "cell_type": "code",
   "execution_count": null,
   "id": "93d4fff2-9ccc-42d9-97e2-94bf71b2c608",
   "metadata": {},
   "outputs": [],
   "source": [
    "aa.info()"
   ]
  },
  {
   "cell_type": "code",
   "execution_count": null,
   "id": "0139bfa5-35a6-403f-8d7e-4579119a90b5",
   "metadata": {},
   "outputs": [],
   "source": [
    "aa[\"Data\"].str.split(\"_\")"
   ]
  },
  {
   "cell_type": "code",
   "execution_count": null,
   "id": "687f6c17-28ec-4f2f-bedc-3eb8f981adce",
   "metadata": {},
   "outputs": [],
   "source": [
    "aa[\"Data\"].str.split(\"_\", expand = True)"
   ]
  },
  {
   "cell_type": "code",
   "execution_count": null,
   "id": "953a50a3-6e9b-4698-8703-4b42e37435db",
   "metadata": {},
   "outputs": [],
   "source": [
    "aa = aa[\"Data\"].str.split(\"_\", expand = True)"
   ]
  },
  {
   "cell_type": "code",
   "execution_count": null,
   "id": "8d9ca7bd-8471-4c58-a3ff-bf5a6ccf86b0",
   "metadata": {},
   "outputs": [],
   "source": [
    "aa.columns = [\"Year\", \"Sex\", \"Country\", \"Position\"]"
   ]
  },
  {
   "cell_type": "code",
   "execution_count": null,
   "id": "7d6b91a2-5f0f-46b4-b9ea-80f1a2f59936",
   "metadata": {},
   "outputs": [],
   "source": [
    "aa"
   ]
  },
  {
   "cell_type": "code",
   "execution_count": null,
   "id": "c4064f7b-7892-47be-8b86-4d2f2f0bd5dd",
   "metadata": {},
   "outputs": [],
   "source": [
    "aa[\"Year\"].str.contains(\"\\?\")"
   ]
  },
  {
   "cell_type": "code",
   "execution_count": null,
   "id": "7ddd4d23-b46c-44b9-a14f-063701d4246b",
   "metadata": {},
   "outputs": [],
   "source": [
    "aa[\"Country\"].str.contains(\"U\")"
   ]
  },
  {
   "cell_type": "code",
   "execution_count": null,
   "id": "f113f099-6c41-4dbe-a194-5e21d15d171d",
   "metadata": {},
   "outputs": [],
   "source": [
    "aa[\"Country\"].str.strip()"
   ]
  },
  {
   "cell_type": "code",
   "execution_count": null,
   "id": "c02150a6-c846-4113-9b02-eee5420ada1e",
   "metadata": {},
   "outputs": [],
   "source": [
    "aa[\"Country\"].str.replace(\" \", \" \")"
   ]
  }
 ],
 "metadata": {
  "kernelspec": {
   "display_name": "Python 3 (ipykernel)",
   "language": "python",
   "name": "python3"
  },
  "language_info": {
   "codemirror_mode": {
    "name": "ipython",
    "version": 3
   },
   "file_extension": ".py",
   "mimetype": "text/x-python",
   "name": "python",
   "nbconvert_exporter": "python",
   "pygments_lexer": "ipython3",
   "version": "3.12.8"
  }
 },
 "nbformat": 4,
 "nbformat_minor": 5
}
