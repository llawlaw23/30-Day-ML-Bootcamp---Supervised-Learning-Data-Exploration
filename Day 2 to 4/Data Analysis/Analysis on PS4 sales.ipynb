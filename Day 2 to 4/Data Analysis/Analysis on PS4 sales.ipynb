{
 "cells": [
  {
   "cell_type": "markdown",
   "metadata": {
    "id": "feFkF6Rno8n7"
   },
   "source": [
    "## Analysing PS4 sales Data"
   ]
  },
  {
   "cell_type": "markdown",
   "metadata": {
    "id": "-dKBNl7Huns_"
   },
   "source": [
    "##### Problem Statement\n",
    "A teenager wanted to show his mom how many people use PS4 console in the world, so his mom would purchase one for him. So he reached out to Ama to analyze the sales data for PS4 so that his more will have a fair idea of:\n",
    "1. How many people use PS4 console in the world?\n",
    "2. Which Game on PS4 console has the highest number of sales?\n",
    "3. Which Game on PS4 console has the lowest number of sales?"
   ]
  },
  {
   "cell_type": "code",
   "execution_count": 1,
   "metadata": {
    "id": "PYSUf2pfrn-O"
   },
   "outputs": [],
   "source": [
    "# Importing the necessary libraries \n",
    "import pandas as pd\n",
    "import plotly.express as px\n",
    "from plotly.offline import iplot\n",
    "import numpy as np\n",
    "import matplotlib.pyplot as plt\n",
    "import seaborn as sns\n",
    "import chardet"
   ]
  },
  {
   "cell_type": "markdown",
   "metadata": {},
   "source": [
    "#### Reading The data\n",
    "This is allows you to know the various rows and columns available.\n",
    "This allows you to have a clear view of the data, so you will analyse and know what changes to make according to goal of the data cleaning."
   ]
  },
  {
   "cell_type": "code",
   "execution_count": 2,
   "metadata": {},
   "outputs": [],
   "source": [
    "with open('PS4_GamesSales.csv', 'rb') as file:\n",
    "    content = file.read().decode('utf-8', errors='replace')\n",
    "    with open('cleaned_file.csv', 'w', encoding='utf-8') as clean_file:\n",
    "        clean_file.write(content)\n",
    "\n",
    "#Then read the cleaned file\n",
    "df = pd.read_csv('cleaned_file.csv')"
   ]
  },
  {
   "cell_type": "code",
   "execution_count": null,
   "metadata": {
    "id": "1WpgAPWvruAM"
   },
   "outputs": [],
   "source": [
    "df.head()"
   ]
  },
  {
   "cell_type": "code",
   "execution_count": null,
   "metadata": {},
   "outputs": [],
   "source": [
    "#reading the various columns\n",
    "df.columns"
   ]
  },
  {
   "cell_type": "code",
   "execution_count": 3,
   "metadata": {},
   "outputs": [
    {
     "data": {
      "text/html": [
       "<div>\n",
       "<style scoped>\n",
       "    .dataframe tbody tr th:only-of-type {\n",
       "        vertical-align: middle;\n",
       "    }\n",
       "\n",
       "    .dataframe tbody tr th {\n",
       "        vertical-align: top;\n",
       "    }\n",
       "\n",
       "    .dataframe thead th {\n",
       "        text-align: right;\n",
       "    }\n",
       "</style>\n",
       "<table border=\"1\" class=\"dataframe\">\n",
       "  <thead>\n",
       "    <tr style=\"text-align: right;\">\n",
       "      <th></th>\n",
       "      <th>Game</th>\n",
       "      <th>Year</th>\n",
       "      <th>Genre</th>\n",
       "      <th>Publisher</th>\n",
       "      <th>North America</th>\n",
       "      <th>Europe</th>\n",
       "      <th>Japan</th>\n",
       "      <th>Rest of World</th>\n",
       "      <th>Global</th>\n",
       "    </tr>\n",
       "  </thead>\n",
       "  <tbody>\n",
       "    <tr>\n",
       "      <th>113</th>\n",
       "      <td>EA Sports UFC 2</td>\n",
       "      <td>2016.0</td>\n",
       "      <td>Sports</td>\n",
       "      <td>EA Sports</td>\n",
       "      <td>0.44</td>\n",
       "      <td>0.65</td>\n",
       "      <td>0.0</td>\n",
       "      <td>0.21</td>\n",
       "      <td>1.31</td>\n",
       "    </tr>\n",
       "    <tr>\n",
       "      <th>918</th>\n",
       "      <td>The Legend of Korra (2014)</td>\n",
       "      <td>2014.0</td>\n",
       "      <td>Action</td>\n",
       "      <td>Activision</td>\n",
       "      <td>0.00</td>\n",
       "      <td>0.00</td>\n",
       "      <td>0.0</td>\n",
       "      <td>0.00</td>\n",
       "      <td>0.00</td>\n",
       "    </tr>\n",
       "    <tr>\n",
       "      <th>32</th>\n",
       "      <td>Destiny 2</td>\n",
       "      <td>2017.0</td>\n",
       "      <td>Shooter</td>\n",
       "      <td>Activision</td>\n",
       "      <td>1.92</td>\n",
       "      <td>1.44</td>\n",
       "      <td>0.1</td>\n",
       "      <td>0.69</td>\n",
       "      <td>4.14</td>\n",
       "    </tr>\n",
       "    <tr>\n",
       "      <th>804</th>\n",
       "      <td>Mercenary Kings</td>\n",
       "      <td>NaN</td>\n",
       "      <td>Misc</td>\n",
       "      <td>NaN</td>\n",
       "      <td>0.00</td>\n",
       "      <td>0.00</td>\n",
       "      <td>0.0</td>\n",
       "      <td>0.00</td>\n",
       "      <td>0.00</td>\n",
       "    </tr>\n",
       "    <tr>\n",
       "      <th>233</th>\n",
       "      <td>Skylanders: SuperChargers</td>\n",
       "      <td>2015.0</td>\n",
       "      <td>Action-Adventure</td>\n",
       "      <td>Activision</td>\n",
       "      <td>0.29</td>\n",
       "      <td>0.09</td>\n",
       "      <td>0.0</td>\n",
       "      <td>0.08</td>\n",
       "      <td>0.45</td>\n",
       "    </tr>\n",
       "  </tbody>\n",
       "</table>\n",
       "</div>"
      ],
      "text/plain": [
       "                           Game    Year             Genre   Publisher  \\\n",
       "113             EA Sports UFC 2  2016.0            Sports   EA Sports   \n",
       "918  The Legend of Korra (2014)  2014.0            Action  Activision   \n",
       "32                    Destiny 2  2017.0           Shooter  Activision   \n",
       "804             Mercenary Kings     NaN              Misc         NaN   \n",
       "233   Skylanders: SuperChargers  2015.0  Action-Adventure  Activision   \n",
       "\n",
       "     North America  Europe  Japan  Rest of World  Global  \n",
       "113           0.44    0.65    0.0           0.21    1.31  \n",
       "918           0.00    0.00    0.0           0.00    0.00  \n",
       "32            1.92    1.44    0.1           0.69    4.14  \n",
       "804           0.00    0.00    0.0           0.00    0.00  \n",
       "233           0.29    0.09    0.0           0.08    0.45  "
      ]
     },
     "execution_count": 3,
     "metadata": {},
     "output_type": "execute_result"
    }
   ],
   "source": [
    "df.sample(5)"
   ]
  },
  {
   "cell_type": "code",
   "execution_count": null,
   "metadata": {},
   "outputs": [],
   "source": [
    "#display the available rows and columns\n",
    "df.shape"
   ]
  },
  {
   "cell_type": "code",
   "execution_count": null,
   "metadata": {
    "id": "D3ttV7xKrxiw"
   },
   "outputs": [],
   "source": [
    "#Reading the information about the dataset\n",
    "df.info()"
   ]
  },
  {
   "cell_type": "code",
   "execution_count": null,
   "metadata": {},
   "outputs": [],
   "source": [
    "#Using missingno to visualise the missing value in the dataset\n",
    "import missingno as msno\n",
    "msno.bar(df)"
   ]
  },
  {
   "cell_type": "code",
   "execution_count": 4,
   "metadata": {},
   "outputs": [
    {
     "data": {
      "text/html": [
       "<div>\n",
       "<style scoped>\n",
       "    .dataframe tbody tr th:only-of-type {\n",
       "        vertical-align: middle;\n",
       "    }\n",
       "\n",
       "    .dataframe tbody tr th {\n",
       "        vertical-align: top;\n",
       "    }\n",
       "\n",
       "    .dataframe thead th {\n",
       "        text-align: right;\n",
       "    }\n",
       "</style>\n",
       "<table border=\"1\" class=\"dataframe\">\n",
       "  <thead>\n",
       "    <tr style=\"text-align: right;\">\n",
       "      <th></th>\n",
       "      <th>count</th>\n",
       "      <th>mean</th>\n",
       "      <th>std</th>\n",
       "      <th>min</th>\n",
       "      <th>25%</th>\n",
       "      <th>50%</th>\n",
       "      <th>75%</th>\n",
       "      <th>max</th>\n",
       "    </tr>\n",
       "  </thead>\n",
       "  <tbody>\n",
       "    <tr>\n",
       "      <th>Year</th>\n",
       "      <td>825.0</td>\n",
       "      <td>2015.966061</td>\n",
       "      <td>1.298360</td>\n",
       "      <td>2013.0</td>\n",
       "      <td>2015.0</td>\n",
       "      <td>2016.00</td>\n",
       "      <td>2017.0000</td>\n",
       "      <td>2020.00</td>\n",
       "    </tr>\n",
       "    <tr>\n",
       "      <th>North America</th>\n",
       "      <td>1034.0</td>\n",
       "      <td>0.204613</td>\n",
       "      <td>0.563471</td>\n",
       "      <td>0.0</td>\n",
       "      <td>0.0</td>\n",
       "      <td>0.02</td>\n",
       "      <td>0.1200</td>\n",
       "      <td>6.18</td>\n",
       "    </tr>\n",
       "    <tr>\n",
       "      <th>Europe</th>\n",
       "      <td>1034.0</td>\n",
       "      <td>0.248714</td>\n",
       "      <td>0.785491</td>\n",
       "      <td>0.0</td>\n",
       "      <td>0.0</td>\n",
       "      <td>0.00</td>\n",
       "      <td>0.1300</td>\n",
       "      <td>9.71</td>\n",
       "    </tr>\n",
       "    <tr>\n",
       "      <th>Japan</th>\n",
       "      <td>1034.0</td>\n",
       "      <td>0.033636</td>\n",
       "      <td>0.108344</td>\n",
       "      <td>0.0</td>\n",
       "      <td>0.0</td>\n",
       "      <td>0.00</td>\n",
       "      <td>0.0300</td>\n",
       "      <td>2.17</td>\n",
       "    </tr>\n",
       "    <tr>\n",
       "      <th>Rest of World</th>\n",
       "      <td>1034.0</td>\n",
       "      <td>0.089014</td>\n",
       "      <td>0.249410</td>\n",
       "      <td>0.0</td>\n",
       "      <td>0.0</td>\n",
       "      <td>0.01</td>\n",
       "      <td>0.0500</td>\n",
       "      <td>3.02</td>\n",
       "    </tr>\n",
       "    <tr>\n",
       "      <th>Global</th>\n",
       "      <td>1034.0</td>\n",
       "      <td>0.576054</td>\n",
       "      <td>1.583534</td>\n",
       "      <td>0.0</td>\n",
       "      <td>0.0</td>\n",
       "      <td>0.06</td>\n",
       "      <td>0.3575</td>\n",
       "      <td>19.39</td>\n",
       "    </tr>\n",
       "  </tbody>\n",
       "</table>\n",
       "</div>"
      ],
      "text/plain": [
       "                count         mean       std     min     25%      50%  \\\n",
       "Year            825.0  2015.966061  1.298360  2013.0  2015.0  2016.00   \n",
       "North America  1034.0     0.204613  0.563471     0.0     0.0     0.02   \n",
       "Europe         1034.0     0.248714  0.785491     0.0     0.0     0.00   \n",
       "Japan          1034.0     0.033636  0.108344     0.0     0.0     0.00   \n",
       "Rest of World  1034.0     0.089014  0.249410     0.0     0.0     0.01   \n",
       "Global         1034.0     0.576054  1.583534     0.0     0.0     0.06   \n",
       "\n",
       "                     75%      max  \n",
       "Year           2017.0000  2020.00  \n",
       "North America     0.1200     6.18  \n",
       "Europe            0.1300     9.71  \n",
       "Japan             0.0300     2.17  \n",
       "Rest of World     0.0500     3.02  \n",
       "Global            0.3575    19.39  "
      ]
     },
     "execution_count": 4,
     "metadata": {},
     "output_type": "execute_result"
    }
   ],
   "source": [
    "df.describe().T"
   ]
  },
  {
   "cell_type": "markdown",
   "metadata": {},
   "source": [
    "#### Data Cleaning \n",
    "I will start by Changing some of the names of the columns, dropping Null values, dropping zeros, and changing the datatype of some of the columns."
   ]
  },
  {
   "cell_type": "code",
   "execution_count": null,
   "metadata": {},
   "outputs": [],
   "source": []
  },
  {
   "cell_type": "code",
   "execution_count": null,
   "metadata": {},
   "outputs": [],
   "source": []
  },
  {
   "cell_type": "markdown",
   "metadata": {},
   "source": [
    "### Changing  column names to suite the specified goal stated earlier"
   ]
  },
  {
   "cell_type": "code",
   "execution_count": 5,
   "metadata": {},
   "outputs": [
    {
     "data": {
      "text/html": [
       "<div>\n",
       "<style scoped>\n",
       "    .dataframe tbody tr th:only-of-type {\n",
       "        vertical-align: middle;\n",
       "    }\n",
       "\n",
       "    .dataframe tbody tr th {\n",
       "        vertical-align: top;\n",
       "    }\n",
       "\n",
       "    .dataframe thead th {\n",
       "        text-align: right;\n",
       "    }\n",
       "</style>\n",
       "<table border=\"1\" class=\"dataframe\">\n",
       "  <thead>\n",
       "    <tr style=\"text-align: right;\">\n",
       "      <th></th>\n",
       "      <th>Game</th>\n",
       "      <th>Year_Published</th>\n",
       "      <th>Genre</th>\n",
       "      <th>Publisher</th>\n",
       "      <th>North America</th>\n",
       "      <th>Europe</th>\n",
       "      <th>Japan</th>\n",
       "      <th>Rest of World</th>\n",
       "      <th>Total Sales</th>\n",
       "    </tr>\n",
       "  </thead>\n",
       "  <tbody>\n",
       "    <tr>\n",
       "      <th>0</th>\n",
       "      <td>Grand Theft Auto V</td>\n",
       "      <td>2014.0</td>\n",
       "      <td>Action</td>\n",
       "      <td>Rockstar Games</td>\n",
       "      <td>6.06</td>\n",
       "      <td>9.71</td>\n",
       "      <td>0.60</td>\n",
       "      <td>3.02</td>\n",
       "      <td>19.39</td>\n",
       "    </tr>\n",
       "    <tr>\n",
       "      <th>1</th>\n",
       "      <td>Call of Duty: Black Ops 3</td>\n",
       "      <td>2015.0</td>\n",
       "      <td>Shooter</td>\n",
       "      <td>Activision</td>\n",
       "      <td>6.18</td>\n",
       "      <td>6.05</td>\n",
       "      <td>0.41</td>\n",
       "      <td>2.44</td>\n",
       "      <td>15.09</td>\n",
       "    </tr>\n",
       "    <tr>\n",
       "      <th>2</th>\n",
       "      <td>Red Dead Redemption 2</td>\n",
       "      <td>2018.0</td>\n",
       "      <td>Action-Adventure</td>\n",
       "      <td>Rockstar Games</td>\n",
       "      <td>5.26</td>\n",
       "      <td>6.21</td>\n",
       "      <td>0.21</td>\n",
       "      <td>2.26</td>\n",
       "      <td>13.94</td>\n",
       "    </tr>\n",
       "    <tr>\n",
       "      <th>3</th>\n",
       "      <td>Call of Duty: WWII</td>\n",
       "      <td>2017.0</td>\n",
       "      <td>Shooter</td>\n",
       "      <td>Activision</td>\n",
       "      <td>4.67</td>\n",
       "      <td>6.21</td>\n",
       "      <td>0.40</td>\n",
       "      <td>2.12</td>\n",
       "      <td>13.40</td>\n",
       "    </tr>\n",
       "    <tr>\n",
       "      <th>4</th>\n",
       "      <td>FIFA 18</td>\n",
       "      <td>2017.0</td>\n",
       "      <td>Sports</td>\n",
       "      <td>EA Sports</td>\n",
       "      <td>1.27</td>\n",
       "      <td>8.64</td>\n",
       "      <td>0.15</td>\n",
       "      <td>1.73</td>\n",
       "      <td>11.80</td>\n",
       "    </tr>\n",
       "  </tbody>\n",
       "</table>\n",
       "</div>"
      ],
      "text/plain": [
       "                        Game  Year_Published             Genre  \\\n",
       "0         Grand Theft Auto V          2014.0            Action   \n",
       "1  Call of Duty: Black Ops 3          2015.0           Shooter   \n",
       "2      Red Dead Redemption 2          2018.0  Action-Adventure   \n",
       "3         Call of Duty: WWII          2017.0           Shooter   \n",
       "4                    FIFA 18          2017.0            Sports   \n",
       "\n",
       "        Publisher  North America  Europe  Japan  Rest of World  Total Sales  \n",
       "0  Rockstar Games           6.06    9.71   0.60           3.02        19.39  \n",
       "1      Activision           6.18    6.05   0.41           2.44        15.09  \n",
       "2  Rockstar Games           5.26    6.21   0.21           2.26        13.94  \n",
       "3      Activision           4.67    6.21   0.40           2.12        13.40  \n",
       "4       EA Sports           1.27    8.64   0.15           1.73        11.80  "
      ]
     },
     "execution_count": 5,
     "metadata": {},
     "output_type": "execute_result"
    }
   ],
   "source": [
    "# changing year to year_published\n",
    "df.rename(columns={\"Year\":\"Year_Published\", \"Global\":\"Total Sales\"}, inplace=True)\n",
    "df.head()"
   ]
  },
  {
   "cell_type": "code",
   "execution_count": null,
   "metadata": {},
   "outputs": [],
   "source": [
    "# confirming if the column name has been changed successfully\n",
    "df.info()"
   ]
  },
  {
   "cell_type": "markdown",
   "metadata": {},
   "source": [
    "### Checking DataType and nulls values"
   ]
  },
  {
   "cell_type": "code",
   "execution_count": 6,
   "metadata": {},
   "outputs": [
    {
     "data": {
      "text/plain": [
       "Game                0\n",
       "Year_Published    209\n",
       "Genre               0\n",
       "Publisher         209\n",
       "North America       0\n",
       "Europe              0\n",
       "Japan               0\n",
       "Rest of World       0\n",
       "Total Sales         0\n",
       "dtype: int64"
      ]
     },
     "execution_count": 6,
     "metadata": {},
     "output_type": "execute_result"
    }
   ],
   "source": [
    "# counting null in the dataset\n",
    "df.isnull().sum()"
   ]
  },
  {
   "cell_type": "code",
   "execution_count": 7,
   "metadata": {},
   "outputs": [],
   "source": [
    "#dropping the null values \n",
    "df = df.dropna(subset=['Year_Published','Publisher'])"
   ]
  },
  {
   "cell_type": "code",
   "execution_count": 8,
   "metadata": {},
   "outputs": [
    {
     "data": {
      "text/plain": [
       "Game              0\n",
       "Year_Published    0\n",
       "Genre             0\n",
       "Publisher         0\n",
       "North America     0\n",
       "Europe            0\n",
       "Japan             0\n",
       "Rest of World     0\n",
       "Total Sales       0\n",
       "dtype: int64"
      ]
     },
     "execution_count": 8,
     "metadata": {},
     "output_type": "execute_result"
    }
   ],
   "source": [
    "# checking if the nulls were successfully dropped \n",
    "df.isna().sum()"
   ]
  },
  {
   "cell_type": "code",
   "execution_count": 9,
   "metadata": {},
   "outputs": [
    {
     "data": {
      "text/html": [
       "<div>\n",
       "<style scoped>\n",
       "    .dataframe tbody tr th:only-of-type {\n",
       "        vertical-align: middle;\n",
       "    }\n",
       "\n",
       "    .dataframe tbody tr th {\n",
       "        vertical-align: top;\n",
       "    }\n",
       "\n",
       "    .dataframe thead th {\n",
       "        text-align: right;\n",
       "    }\n",
       "</style>\n",
       "<table border=\"1\" class=\"dataframe\">\n",
       "  <thead>\n",
       "    <tr style=\"text-align: right;\">\n",
       "      <th></th>\n",
       "      <th>count</th>\n",
       "      <th>mean</th>\n",
       "      <th>std</th>\n",
       "      <th>min</th>\n",
       "      <th>25%</th>\n",
       "      <th>50%</th>\n",
       "      <th>75%</th>\n",
       "      <th>max</th>\n",
       "    </tr>\n",
       "  </thead>\n",
       "  <tbody>\n",
       "    <tr>\n",
       "      <th>Year_Published</th>\n",
       "      <td>825.0</td>\n",
       "      <td>2015.966061</td>\n",
       "      <td>1.298360</td>\n",
       "      <td>2013.0</td>\n",
       "      <td>2015.00</td>\n",
       "      <td>2016.00</td>\n",
       "      <td>2017.00</td>\n",
       "      <td>2020.00</td>\n",
       "    </tr>\n",
       "    <tr>\n",
       "      <th>North America</th>\n",
       "      <td>825.0</td>\n",
       "      <td>0.256448</td>\n",
       "      <td>0.620259</td>\n",
       "      <td>0.0</td>\n",
       "      <td>0.00</td>\n",
       "      <td>0.05</td>\n",
       "      <td>0.19</td>\n",
       "      <td>6.18</td>\n",
       "    </tr>\n",
       "    <tr>\n",
       "      <th>Europe</th>\n",
       "      <td>825.0</td>\n",
       "      <td>0.311600</td>\n",
       "      <td>0.868271</td>\n",
       "      <td>0.0</td>\n",
       "      <td>0.00</td>\n",
       "      <td>0.02</td>\n",
       "      <td>0.22</td>\n",
       "      <td>9.71</td>\n",
       "    </tr>\n",
       "    <tr>\n",
       "      <th>Japan</th>\n",
       "      <td>825.0</td>\n",
       "      <td>0.042048</td>\n",
       "      <td>0.119814</td>\n",
       "      <td>0.0</td>\n",
       "      <td>0.00</td>\n",
       "      <td>0.00</td>\n",
       "      <td>0.04</td>\n",
       "      <td>2.17</td>\n",
       "    </tr>\n",
       "    <tr>\n",
       "      <th>Rest of World</th>\n",
       "      <td>825.0</td>\n",
       "      <td>0.111552</td>\n",
       "      <td>0.274713</td>\n",
       "      <td>0.0</td>\n",
       "      <td>0.00</td>\n",
       "      <td>0.02</td>\n",
       "      <td>0.09</td>\n",
       "      <td>3.02</td>\n",
       "    </tr>\n",
       "    <tr>\n",
       "      <th>Total Sales</th>\n",
       "      <td>825.0</td>\n",
       "      <td>0.721721</td>\n",
       "      <td>1.743122</td>\n",
       "      <td>0.0</td>\n",
       "      <td>0.03</td>\n",
       "      <td>0.12</td>\n",
       "      <td>0.56</td>\n",
       "      <td>19.39</td>\n",
       "    </tr>\n",
       "  </tbody>\n",
       "</table>\n",
       "</div>"
      ],
      "text/plain": [
       "                count         mean       std     min      25%      50%  \\\n",
       "Year_Published  825.0  2015.966061  1.298360  2013.0  2015.00  2016.00   \n",
       "North America   825.0     0.256448  0.620259     0.0     0.00     0.05   \n",
       "Europe          825.0     0.311600  0.868271     0.0     0.00     0.02   \n",
       "Japan           825.0     0.042048  0.119814     0.0     0.00     0.00   \n",
       "Rest of World   825.0     0.111552  0.274713     0.0     0.00     0.02   \n",
       "Total Sales     825.0     0.721721  1.743122     0.0     0.03     0.12   \n",
       "\n",
       "                    75%      max  \n",
       "Year_Published  2017.00  2020.00  \n",
       "North America      0.19     6.18  \n",
       "Europe             0.22     9.71  \n",
       "Japan              0.04     2.17  \n",
       "Rest of World      0.09     3.02  \n",
       "Total Sales        0.56    19.39  "
      ]
     },
     "execution_count": 9,
     "metadata": {},
     "output_type": "execute_result"
    }
   ],
   "source": [
    "df.describe().T"
   ]
  },
  {
   "cell_type": "markdown",
   "metadata": {},
   "source": [
    "#### Checking Zero values count in the dataset"
   ]
  },
  {
   "cell_type": "code",
   "execution_count": null,
   "metadata": {},
   "outputs": [],
   "source": [
    "#count zero values in runtime data using group by\n",
    "df.groupby(\"Total Sales\").count()"
   ]
  },
  {
   "cell_type": "markdown",
   "metadata": {},
   "source": [
    "since the zero count is less we are going to drop them"
   ]
  },
  {
   "cell_type": "code",
   "execution_count": 10,
   "metadata": {},
   "outputs": [],
   "source": [
    "#dropping the zero values in runtime column\n",
    "df = df[df['Total Sales'] != 0]"
   ]
  },
  {
   "cell_type": "code",
   "execution_count": null,
   "metadata": {},
   "outputs": [],
   "source": [
    "df"
   ]
  },
  {
   "cell_type": "markdown",
   "metadata": {},
   "source": [
    "## EXPLORATORY DATA ANALYSIS"
   ]
  },
  {
   "cell_type": "markdown",
   "metadata": {},
   "source": [
    "Q1. \n",
    "How many people use PS4 in the world?"
   ]
  },
  {
   "cell_type": "code",
   "execution_count": null,
   "metadata": {},
   "outputs": [],
   "source": [
    "# Printing the total sales made globally an the games\n",
    "sales = df['Total Sales'].sum()\n",
    "print(\"Total Sales: \", sales)"
   ]
  },
  {
   "cell_type": "markdown",
   "metadata": {},
   "source": [
    "Q2. \n",
    "Which Game on PS4 has the highest number of sales?"
   ]
  },
  {
   "cell_type": "code",
   "execution_count": null,
   "metadata": {},
   "outputs": [],
   "source": [
    "# Game with the most sales\n",
    "max = df.loc[df['Total Sales'].idxmax()]\n",
    "print(\"Game With The Highest Number of Sales: \", max)"
   ]
  },
  {
   "cell_type": "markdown",
   "metadata": {},
   "source": [
    "Q3.\n",
    "Which Game on PS4 has the lowest number of sales?"
   ]
  },
  {
   "cell_type": "code",
   "execution_count": null,
   "metadata": {},
   "outputs": [],
   "source": [
    "# Game with the fewer sales\n",
    "min = df.loc[df['Total Sales'].idxmin()]\n",
    "print(\"Game With The Lowest Number of Sales: \", min)"
   ]
  },
  {
   "cell_type": "code",
   "execution_count": null,
   "metadata": {},
   "outputs": [],
   "source": [
    "# Bar Graph showing the number of games published each year \n",
    "# df['Year_Published'].value_counts().plot(kind='bar')\n",
    "# plt.show()\n",
    "df['Year_Published'].value_counts()\n",
    "plt.bar(df['Year_Published'].value_counts().index, df['Year_Published'].value_counts().values)\n",
    "plt.show()"
   ]
  },
  {
   "cell_type": "code",
   "execution_count": null,
   "metadata": {},
   "outputs": [],
   "source": [
    "# Pie Chart For Games number of Games release each year\n",
    "# df['Year'].value_counts().plot(kind='pie')\n",
    "# plt.show()\n",
    "data = df['Year_Published'].value_counts()\n",
    "plt.pie(df['Year_Published'].value_counts().values, labels=df['Year_Published'].value_counts().index)\n",
    "plt.show()"
   ]
  },
  {
   "cell_type": "code",
   "execution_count": 16,
   "metadata": {},
   "outputs": [
    {
     "data": {
      "application/vnd.plotly.v1+json": {
       "config": {
        "linkText": "Export to plot.ly",
        "plotlyServerURL": "https://plot.ly",
        "showLink": false
       },
       "data": [
        {
         "customdata": [
          [
           2014
          ],
          [
           2015
          ],
          [
           2018
          ],
          [
           2017
          ],
          [
           2017
          ],
          [
           2016
          ],
          [
           2016
          ],
          [
           2018
          ],
          [
           2016
          ],
          [
           2015
          ],
          [
           2015
          ],
          [
           2015
          ],
          [
           2014
          ],
          [
           2016
          ],
          [
           2014
          ],
          [
           2014
          ],
          [
           2014
          ],
          [
           2018
          ],
          [
           2017
          ],
          [
           2014
          ],
          [
           2015
          ],
          [
           2015
          ],
          [
           2016
          ],
          [
           2017
          ],
          [
           2018
          ],
          [
           2016
          ],
          [
           2017
          ],
          [
           2016
          ],
          [
           2015
          ],
          [
           2014
          ],
          [
           2013
          ],
          [
           2014
          ],
          [
           2017
          ],
          [
           2015
          ],
          [
           2017
          ],
          [
           2014
          ],
          [
           2015
          ],
          [
           2018
          ],
          [
           2013
          ],
          [
           2017
          ],
          [
           2015
          ],
          [
           2016
          ],
          [
           2015
          ],
          [
           2013
          ],
          [
           2016
          ],
          [
           2016
          ],
          [
           2017
          ],
          [
           2017
          ],
          [
           2015
          ],
          [
           2016
          ],
          [
           2014
          ],
          [
           2013
          ],
          [
           2017
          ],
          [
           2015
          ],
          [
           2015
          ],
          [
           2013
          ],
          [
           2014
          ],
          [
           2016
          ],
          [
           2016
          ],
          [
           2014
          ],
          [
           2016
          ],
          [
           2015
          ],
          [
           2017
          ],
          [
           2014
          ],
          [
           2015
          ],
          [
           2016
          ],
          [
           2016
          ],
          [
           2014
          ],
          [
           2017
          ],
          [
           2014
          ],
          [
           2016
          ],
          [
           2014
          ],
          [
           2017
          ],
          [
           2015
          ],
          [
           2013
          ],
          [
           2016
          ],
          [
           2015
          ],
          [
           2016
          ],
          [
           2014
          ],
          [
           2015
          ],
          [
           2017
          ],
          [
           2017
          ],
          [
           2016
          ],
          [
           2015
          ],
          [
           2016
          ],
          [
           2013
          ],
          [
           2015
          ],
          [
           2013
          ],
          [
           2014
          ],
          [
           2014
          ],
          [
           2017
          ],
          [
           2017
          ],
          [
           2016
          ],
          [
           2017
          ],
          [
           2017
          ],
          [
           2017
          ],
          [
           2016
          ],
          [
           2015
          ],
          [
           2014
          ],
          [
           2018
          ],
          [
           2016
          ],
          [
           2013
          ],
          [
           2014
          ],
          [
           2016
          ],
          [
           2014
          ],
          [
           2017
          ],
          [
           2018
          ],
          [
           2017
          ],
          [
           2017
          ],
          [
           2016
          ],
          [
           2017
          ],
          [
           2017
          ],
          [
           2016
          ],
          [
           2016
          ],
          [
           2016
          ],
          [
           2015
          ],
          [
           2015
          ],
          [
           2015
          ],
          [
           2016
          ],
          [
           2015
          ],
          [
           2014
          ],
          [
           2015
          ],
          [
           2018
          ],
          [
           2017
          ],
          [
           2015
          ],
          [
           2015
          ],
          [
           2015
          ],
          [
           2014
          ],
          [
           2017
          ],
          [
           2017
          ],
          [
           2017
          ],
          [
           2017
          ],
          [
           2014
          ],
          [
           2017
          ],
          [
           2014
          ],
          [
           2018
          ],
          [
           2017
          ],
          [
           2017
          ],
          [
           2015
          ],
          [
           2017
          ],
          [
           2015
          ],
          [
           2016
          ],
          [
           2016
          ],
          [
           2015
          ],
          [
           2013
          ],
          [
           2018
          ],
          [
           2013
          ],
          [
           2016
          ],
          [
           2014
          ],
          [
           2015
          ],
          [
           2018
          ],
          [
           2015
          ],
          [
           2017
          ],
          [
           2016
          ],
          [
           2015
          ],
          [
           2016
          ],
          [
           2014
          ],
          [
           2016
          ],
          [
           2015
          ],
          [
           2016
          ],
          [
           2018
          ],
          [
           2015
          ],
          [
           2017
          ],
          [
           2015
          ],
          [
           2016
          ],
          [
           2014
          ],
          [
           2016
          ],
          [
           2016
          ],
          [
           2017
          ],
          [
           2014
          ],
          [
           2017
          ],
          [
           2017
          ],
          [
           2014
          ],
          [
           2016
          ],
          [
           2014
          ],
          [
           2014
          ],
          [
           2017
          ],
          [
           2016
          ],
          [
           2014
          ],
          [
           2017
          ],
          [
           2015
          ],
          [
           2016
          ],
          [
           2015
          ],
          [
           2014
          ],
          [
           2014
          ],
          [
           2015
          ],
          [
           2014
          ],
          [
           2016
          ],
          [
           2015
          ],
          [
           2016
          ],
          [
           2016
          ],
          [
           2016
          ],
          [
           2014
          ],
          [
           2016
          ],
          [
           2017
          ],
          [
           2014
          ],
          [
           2017
          ],
          [
           2017
          ],
          [
           2017
          ],
          [
           2017
          ],
          [
           2016
          ],
          [
           2017
          ],
          [
           2015
          ],
          [
           2015
          ],
          [
           2017
          ],
          [
           2017
          ],
          [
           2014
          ],
          [
           2017
          ],
          [
           2017
          ],
          [
           2018
          ],
          [
           2014
          ],
          [
           2017
          ],
          [
           2015
          ],
          [
           2017
          ],
          [
           2014
          ],
          [
           2016
          ],
          [
           2015
          ],
          [
           2016
          ],
          [
           2016
          ],
          [
           2016
          ],
          [
           2017
          ],
          [
           2017
          ],
          [
           2016
          ],
          [
           2018
          ],
          [
           2017
          ],
          [
           2014
          ],
          [
           2015
          ],
          [
           2015
          ],
          [
           2016
          ],
          [
           2016
          ],
          [
           2017
          ],
          [
           2013
          ],
          [
           2018
          ],
          [
           2015
          ],
          [
           2016
          ],
          [
           2015
          ],
          [
           2016
          ],
          [
           2014
          ],
          [
           2013
          ],
          [
           2016
          ],
          [
           2014
          ],
          [
           2015
          ],
          [
           2015
          ],
          [
           2016
          ],
          [
           2015
          ],
          [
           2014
          ],
          [
           2016
          ],
          [
           2015
          ],
          [
           2016
          ],
          [
           2017
          ],
          [
           2015
          ],
          [
           2016
          ],
          [
           2016
          ],
          [
           2017
          ],
          [
           2018
          ],
          [
           2017
          ],
          [
           2017
          ],
          [
           2018
          ],
          [
           2015
          ],
          [
           2015
          ],
          [
           2015
          ],
          [
           2017
          ],
          [
           2016
          ],
          [
           2015
          ],
          [
           2016
          ],
          [
           2017
          ],
          [
           2016
          ],
          [
           2014
          ],
          [
           2015
          ],
          [
           2016
          ],
          [
           2015
          ],
          [
           2017
          ],
          [
           2015
          ],
          [
           2016
          ],
          [
           2014
          ],
          [
           2017
          ],
          [
           2015
          ],
          [
           2017
          ],
          [
           2014
          ],
          [
           2018
          ],
          [
           2018
          ],
          [
           2017
          ],
          [
           2017
          ],
          [
           2016
          ],
          [
           2014
          ],
          [
           2017
          ],
          [
           2016
          ],
          [
           2017
          ],
          [
           2014
          ],
          [
           2018
          ],
          [
           2017
          ],
          [
           2013
          ],
          [
           2018
          ],
          [
           2016
          ],
          [
           2016
          ],
          [
           2016
          ],
          [
           2016
          ],
          [
           2017
          ],
          [
           2017
          ],
          [
           2014
          ],
          [
           2018
          ],
          [
           2014
          ],
          [
           2017
          ],
          [
           2015
          ],
          [
           2017
          ],
          [
           2015
          ],
          [
           2016
          ],
          [
           2017
          ],
          [
           2015
          ],
          [
           2015
          ],
          [
           2016
          ],
          [
           2017
          ],
          [
           2017
          ],
          [
           2017
          ],
          [
           2015
          ],
          [
           2013
          ],
          [
           2017
          ],
          [
           2016
          ],
          [
           2014
          ],
          [
           2016
          ],
          [
           2018
          ],
          [
           2017
          ],
          [
           2017
          ],
          [
           2018
          ],
          [
           2014
          ],
          [
           2017
          ],
          [
           2015
          ],
          [
           2015
          ],
          [
           2017
          ],
          [
           2016
          ],
          [
           2017
          ],
          [
           2017
          ],
          [
           2014
          ],
          [
           2015
          ],
          [
           2016
          ],
          [
           2014
          ],
          [
           2017
          ],
          [
           2014
          ],
          [
           2016
          ],
          [
           2017
          ],
          [
           2014
          ],
          [
           2017
          ],
          [
           2014
          ],
          [
           2015
          ],
          [
           2016
          ],
          [
           2017
          ],
          [
           2015
          ],
          [
           2017
          ],
          [
           2015
          ],
          [
           2015
          ],
          [
           2017
          ],
          [
           2016
          ],
          [
           2015
          ],
          [
           2017
          ],
          [
           2014
          ],
          [
           2016
          ],
          [
           2016
          ],
          [
           2017
          ],
          [
           2016
          ],
          [
           2017
          ],
          [
           2013
          ],
          [
           2017
          ],
          [
           2016
          ],
          [
           2017
          ],
          [
           2016
          ],
          [
           2015
          ],
          [
           2017
          ],
          [
           2017
          ],
          [
           2015
          ],
          [
           2016
          ],
          [
           2015
          ],
          [
           2014
          ],
          [
           2015
          ],
          [
           2015
          ],
          [
           2016
          ],
          [
           2014
          ],
          [
           2016
          ],
          [
           2016
          ],
          [
           2017
          ],
          [
           2017
          ],
          [
           2017
          ],
          [
           2015
          ],
          [
           2016
          ],
          [
           2016
          ],
          [
           2015
          ],
          [
           2015
          ],
          [
           2016
          ],
          [
           2018
          ],
          [
           2016
          ],
          [
           2015
          ],
          [
           2016
          ],
          [
           2017
          ],
          [
           2015
          ],
          [
           2015
          ],
          [
           2014
          ],
          [
           2016
          ],
          [
           2017
          ],
          [
           2017
          ],
          [
           2016
          ],
          [
           2017
          ],
          [
           2014
          ],
          [
           2015
          ],
          [
           2016
          ],
          [
           2017
          ],
          [
           2015
          ],
          [
           2018
          ],
          [
           2015
          ],
          [
           2015
          ],
          [
           2016
          ],
          [
           2017
          ],
          [
           2017
          ],
          [
           2015
          ],
          [
           2017
          ],
          [
           2015
          ],
          [
           2017
          ],
          [
           2017
          ],
          [
           2016
          ],
          [
           2017
          ],
          [
           2017
          ],
          [
           2016
          ],
          [
           2016
          ],
          [
           2017
          ],
          [
           2018
          ],
          [
           2016
          ],
          [
           2015
          ],
          [
           2016
          ],
          [
           2017
          ],
          [
           2016
          ],
          [
           2016
          ],
          [
           2015
          ],
          [
           2014
          ],
          [
           2016
          ],
          [
           2016
          ],
          [
           2017
          ],
          [
           2016
          ],
          [
           2017
          ],
          [
           2015
          ],
          [
           2017
          ],
          [
           2017
          ],
          [
           2017
          ],
          [
           2015
          ],
          [
           2014
          ],
          [
           2014
          ],
          [
           2017
          ],
          [
           2017
          ],
          [
           2017
          ],
          [
           2017
          ],
          [
           2015
          ],
          [
           2016
          ],
          [
           2017
          ],
          [
           2016
          ],
          [
           2015
          ],
          [
           2017
          ],
          [
           2016
          ],
          [
           2015
          ],
          [
           2017
          ],
          [
           2015
          ],
          [
           2015
          ],
          [
           2016
          ],
          [
           2016
          ],
          [
           2016
          ],
          [
           2016
          ],
          [
           2017
          ],
          [
           2015
          ],
          [
           2014
          ],
          [
           2016
          ],
          [
           2016
          ],
          [
           2016
          ],
          [
           2015
          ],
          [
           2017
          ],
          [
           2015
          ],
          [
           2016
          ],
          [
           2016
          ],
          [
           2017
          ],
          [
           2016
          ],
          [
           2016
          ],
          [
           2016
          ],
          [
           2016
          ],
          [
           2016
          ],
          [
           2017
          ],
          [
           2016
          ],
          [
           2017
          ],
          [
           2016
          ],
          [
           2016
          ],
          [
           2017
          ],
          [
           2017
          ],
          [
           2017
          ],
          [
           2016
          ],
          [
           2015
          ],
          [
           2016
          ],
          [
           2017
          ],
          [
           2017
          ],
          [
           2017
          ],
          [
           2017
          ],
          [
           2016
          ],
          [
           2017
          ],
          [
           2017
          ],
          [
           2017
          ],
          [
           2015
          ],
          [
           2014
          ],
          [
           2016
          ],
          [
           2017
          ],
          [
           2016
          ],
          [
           2015
          ],
          [
           2015
          ],
          [
           2016
          ],
          [
           2015
          ],
          [
           2016
          ],
          [
           2016
          ],
          [
           2017
          ],
          [
           2017
          ],
          [
           2017
          ],
          [
           2016
          ],
          [
           2017
          ],
          [
           2015
          ],
          [
           2017
          ],
          [
           2015
          ],
          [
           2017
          ],
          [
           2014
          ],
          [
           2017
          ],
          [
           2017
          ],
          [
           2015
          ],
          [
           2016
          ],
          [
           2017
          ],
          [
           2016
          ],
          [
           2015
          ],
          [
           2018
          ],
          [
           2015
          ],
          [
           2015
          ],
          [
           2016
          ],
          [
           2017
          ],
          [
           2017
          ],
          [
           2017
          ],
          [
           2015
          ],
          [
           2017
          ],
          [
           2017
          ],
          [
           2015
          ],
          [
           2017
          ],
          [
           2018
          ],
          [
           2017
          ],
          [
           2015
          ],
          [
           2014
          ],
          [
           2014
          ],
          [
           2017
          ],
          [
           2015
          ],
          [
           2016
          ],
          [
           2017
          ],
          [
           2017
          ],
          [
           2016
          ],
          [
           2017
          ],
          [
           2016
          ],
          [
           2015
          ],
          [
           2016
          ],
          [
           2018
          ],
          [
           2016
          ],
          [
           2016
          ],
          [
           2016
          ],
          [
           2016
          ],
          [
           2016
          ],
          [
           2017
          ],
          [
           2017
          ],
          [
           2017
          ],
          [
           2017
          ],
          [
           2017
          ],
          [
           2015
          ],
          [
           2017
          ],
          [
           2016
          ],
          [
           2017
          ],
          [
           2017
          ],
          [
           2015
          ],
          [
           2017
          ],
          [
           2016
          ],
          [
           2018
          ],
          [
           2016
          ],
          [
           2016
          ],
          [
           2017
          ],
          [
           2017
          ],
          [
           2016
          ],
          [
           2017
          ],
          [
           2016
          ],
          [
           2017
          ],
          [
           2015
          ],
          [
           2015
          ],
          [
           2017
          ],
          [
           2014
          ],
          [
           2017
          ],
          [
           2016
          ],
          [
           2016
          ],
          [
           2018
          ],
          [
           2016
          ],
          [
           2017
          ],
          [
           2017
          ],
          [
           2018
          ],
          [
           2017
          ],
          [
           2015
          ],
          [
           2017
          ],
          [
           2016
          ],
          [
           2016
          ],
          [
           2015
          ],
          [
           2014
          ],
          [
           2017
          ],
          [
           2015
          ],
          [
           2016
          ],
          [
           2016
          ],
          [
           2016
          ],
          [
           2016
          ],
          [
           2017
          ],
          [
           2016
          ],
          [
           2015
          ],
          [
           2017
          ],
          [
           2017
          ],
          [
           2017
          ],
          [
           2017
          ],
          [
           2016
          ],
          [
           2017
          ],
          [
           2017
          ],
          [
           2016
          ],
          [
           2016
          ],
          [
           2016
          ],
          [
           2017
          ],
          [
           2017
          ],
          [
           2016
          ],
          [
           2016
          ],
          [
           2016
          ],
          [
           2016
          ],
          [
           2017
          ],
          [
           2016
          ],
          [
           2017
          ],
          [
           2017
          ],
          [
           2017
          ],
          [
           2017
          ],
          [
           2016
          ],
          [
           2017
          ],
          [
           2017
          ],
          [
           2014
          ],
          [
           2017
          ],
          [
           2016
          ],
          [
           2015
          ],
          [
           2017
          ],
          [
           2017
          ],
          [
           2017
          ],
          [
           2016
          ],
          [
           2016
          ],
          [
           2017
          ],
          [
           2016
          ],
          [
           2016
          ],
          [
           2017
          ],
          [
           2016
          ],
          [
           2016
          ],
          [
           2016
          ],
          [
           2017
          ],
          [
           2017
          ],
          [
           2017
          ],
          [
           2016
          ],
          [
           2018
          ],
          [
           2018
          ],
          [
           2017
          ],
          [
           2016
          ],
          [
           2015
          ],
          [
           2015
          ],
          [
           2017
          ],
          [
           2016
          ],
          [
           2017
          ],
          [
           2016
          ],
          [
           2017
          ],
          [
           2016
          ],
          [
           2017
          ],
          [
           2014
          ],
          [
           2017
          ],
          [
           2015
          ],
          [
           2016
          ],
          [
           2017
          ],
          [
           2015
          ],
          [
           2017
          ],
          [
           2017
          ],
          [
           2017
          ],
          [
           2017
          ],
          [
           2017
          ],
          [
           2015
          ],
          [
           2017
          ],
          [
           2017
          ],
          [
           2017
          ],
          [
           2016
          ],
          [
           2017
          ],
          [
           2017
          ],
          [
           2017
          ],
          [
           2016
          ],
          [
           2017
          ],
          [
           2016
          ],
          [
           2017
          ],
          [
           2016
          ],
          [
           2017
          ],
          [
           2016
          ],
          [
           2017
          ],
          [
           2016
          ],
          [
           2017
          ],
          [
           2017
          ],
          [
           2015
          ],
          [
           2015
          ],
          [
           2017
          ],
          [
           2017
          ],
          [
           2017
          ],
          [
           2015
          ],
          [
           2017
          ],
          [
           2017
          ],
          [
           2014
          ],
          [
           2017
          ],
          [
           2016
          ],
          [
           2016
          ]
         ],
         "domain": {
          "x": [
           0,
           1
          ],
          "y": [
           0,
           1
          ]
         },
         "hole": 0.4,
         "hovertemplate": "Year_Published=%{customdata[0]}<extra></extra>",
         "labels": [
          2014,
          2015,
          2018,
          2017,
          2017,
          2016,
          2016,
          2018,
          2016,
          2015,
          2015,
          2015,
          2014,
          2016,
          2014,
          2014,
          2014,
          2018,
          2017,
          2014,
          2015,
          2015,
          2016,
          2017,
          2018,
          2016,
          2017,
          2016,
          2015,
          2014,
          2013,
          2014,
          2017,
          2015,
          2017,
          2014,
          2015,
          2018,
          2013,
          2017,
          2015,
          2016,
          2015,
          2013,
          2016,
          2016,
          2017,
          2017,
          2015,
          2016,
          2014,
          2013,
          2017,
          2015,
          2015,
          2013,
          2014,
          2016,
          2016,
          2014,
          2016,
          2015,
          2017,
          2014,
          2015,
          2016,
          2016,
          2014,
          2017,
          2014,
          2016,
          2014,
          2017,
          2015,
          2013,
          2016,
          2015,
          2016,
          2014,
          2015,
          2017,
          2017,
          2016,
          2015,
          2016,
          2013,
          2015,
          2013,
          2014,
          2014,
          2017,
          2017,
          2016,
          2017,
          2017,
          2017,
          2016,
          2015,
          2014,
          2018,
          2016,
          2013,
          2014,
          2016,
          2014,
          2017,
          2018,
          2017,
          2017,
          2016,
          2017,
          2017,
          2016,
          2016,
          2016,
          2015,
          2015,
          2015,
          2016,
          2015,
          2014,
          2015,
          2018,
          2017,
          2015,
          2015,
          2015,
          2014,
          2017,
          2017,
          2017,
          2017,
          2014,
          2017,
          2014,
          2018,
          2017,
          2017,
          2015,
          2017,
          2015,
          2016,
          2016,
          2015,
          2013,
          2018,
          2013,
          2016,
          2014,
          2015,
          2018,
          2015,
          2017,
          2016,
          2015,
          2016,
          2014,
          2016,
          2015,
          2016,
          2018,
          2015,
          2017,
          2015,
          2016,
          2014,
          2016,
          2016,
          2017,
          2014,
          2017,
          2017,
          2014,
          2016,
          2014,
          2014,
          2017,
          2016,
          2014,
          2017,
          2015,
          2016,
          2015,
          2014,
          2014,
          2015,
          2014,
          2016,
          2015,
          2016,
          2016,
          2016,
          2014,
          2016,
          2017,
          2014,
          2017,
          2017,
          2017,
          2017,
          2016,
          2017,
          2015,
          2015,
          2017,
          2017,
          2014,
          2017,
          2017,
          2018,
          2014,
          2017,
          2015,
          2017,
          2014,
          2016,
          2015,
          2016,
          2016,
          2016,
          2017,
          2017,
          2016,
          2018,
          2017,
          2014,
          2015,
          2015,
          2016,
          2016,
          2017,
          2013,
          2018,
          2015,
          2016,
          2015,
          2016,
          2014,
          2013,
          2016,
          2014,
          2015,
          2015,
          2016,
          2015,
          2014,
          2016,
          2015,
          2016,
          2017,
          2015,
          2016,
          2016,
          2017,
          2018,
          2017,
          2017,
          2018,
          2015,
          2015,
          2015,
          2017,
          2016,
          2015,
          2016,
          2017,
          2016,
          2014,
          2015,
          2016,
          2015,
          2017,
          2015,
          2016,
          2014,
          2017,
          2015,
          2017,
          2014,
          2018,
          2018,
          2017,
          2017,
          2016,
          2014,
          2017,
          2016,
          2017,
          2014,
          2018,
          2017,
          2013,
          2018,
          2016,
          2016,
          2016,
          2016,
          2017,
          2017,
          2014,
          2018,
          2014,
          2017,
          2015,
          2017,
          2015,
          2016,
          2017,
          2015,
          2015,
          2016,
          2017,
          2017,
          2017,
          2015,
          2013,
          2017,
          2016,
          2014,
          2016,
          2018,
          2017,
          2017,
          2018,
          2014,
          2017,
          2015,
          2015,
          2017,
          2016,
          2017,
          2017,
          2014,
          2015,
          2016,
          2014,
          2017,
          2014,
          2016,
          2017,
          2014,
          2017,
          2014,
          2015,
          2016,
          2017,
          2015,
          2017,
          2015,
          2015,
          2017,
          2016,
          2015,
          2017,
          2014,
          2016,
          2016,
          2017,
          2016,
          2017,
          2013,
          2017,
          2016,
          2017,
          2016,
          2015,
          2017,
          2017,
          2015,
          2016,
          2015,
          2014,
          2015,
          2015,
          2016,
          2014,
          2016,
          2016,
          2017,
          2017,
          2017,
          2015,
          2016,
          2016,
          2015,
          2015,
          2016,
          2018,
          2016,
          2015,
          2016,
          2017,
          2015,
          2015,
          2014,
          2016,
          2017,
          2017,
          2016,
          2017,
          2014,
          2015,
          2016,
          2017,
          2015,
          2018,
          2015,
          2015,
          2016,
          2017,
          2017,
          2015,
          2017,
          2015,
          2017,
          2017,
          2016,
          2017,
          2017,
          2016,
          2016,
          2017,
          2018,
          2016,
          2015,
          2016,
          2017,
          2016,
          2016,
          2015,
          2014,
          2016,
          2016,
          2017,
          2016,
          2017,
          2015,
          2017,
          2017,
          2017,
          2015,
          2014,
          2014,
          2017,
          2017,
          2017,
          2017,
          2015,
          2016,
          2017,
          2016,
          2015,
          2017,
          2016,
          2015,
          2017,
          2015,
          2015,
          2016,
          2016,
          2016,
          2016,
          2017,
          2015,
          2014,
          2016,
          2016,
          2016,
          2015,
          2017,
          2015,
          2016,
          2016,
          2017,
          2016,
          2016,
          2016,
          2016,
          2016,
          2017,
          2016,
          2017,
          2016,
          2016,
          2017,
          2017,
          2017,
          2016,
          2015,
          2016,
          2017,
          2017,
          2017,
          2017,
          2016,
          2017,
          2017,
          2017,
          2015,
          2014,
          2016,
          2017,
          2016,
          2015,
          2015,
          2016,
          2015,
          2016,
          2016,
          2017,
          2017,
          2017,
          2016,
          2017,
          2015,
          2017,
          2015,
          2017,
          2014,
          2017,
          2017,
          2015,
          2016,
          2017,
          2016,
          2015,
          2018,
          2015,
          2015,
          2016,
          2017,
          2017,
          2017,
          2015,
          2017,
          2017,
          2015,
          2017,
          2018,
          2017,
          2015,
          2014,
          2014,
          2017,
          2015,
          2016,
          2017,
          2017,
          2016,
          2017,
          2016,
          2015,
          2016,
          2018,
          2016,
          2016,
          2016,
          2016,
          2016,
          2017,
          2017,
          2017,
          2017,
          2017,
          2015,
          2017,
          2016,
          2017,
          2017,
          2015,
          2017,
          2016,
          2018,
          2016,
          2016,
          2017,
          2017,
          2016,
          2017,
          2016,
          2017,
          2015,
          2015,
          2017,
          2014,
          2017,
          2016,
          2016,
          2018,
          2016,
          2017,
          2017,
          2018,
          2017,
          2015,
          2017,
          2016,
          2016,
          2015,
          2014,
          2017,
          2015,
          2016,
          2016,
          2016,
          2016,
          2017,
          2016,
          2015,
          2017,
          2017,
          2017,
          2017,
          2016,
          2017,
          2017,
          2016,
          2016,
          2016,
          2017,
          2017,
          2016,
          2016,
          2016,
          2016,
          2017,
          2016,
          2017,
          2017,
          2017,
          2017,
          2016,
          2017,
          2017,
          2014,
          2017,
          2016,
          2015,
          2017,
          2017,
          2017,
          2016,
          2016,
          2017,
          2016,
          2016,
          2017,
          2016,
          2016,
          2016,
          2017,
          2017,
          2017,
          2016,
          2018,
          2018,
          2017,
          2016,
          2015,
          2015,
          2017,
          2016,
          2017,
          2016,
          2017,
          2016,
          2017,
          2014,
          2017,
          2015,
          2016,
          2017,
          2015,
          2017,
          2017,
          2017,
          2017,
          2017,
          2015,
          2017,
          2017,
          2017,
          2016,
          2017,
          2017,
          2017,
          2016,
          2017,
          2016,
          2017,
          2016,
          2017,
          2016,
          2017,
          2016,
          2017,
          2017,
          2015,
          2015,
          2017,
          2017,
          2017,
          2015,
          2017,
          2017,
          2014,
          2017,
          2016,
          2016
         ],
         "legendgroup": "",
         "marker": {
          "colors": [
           "rgb(103,0,31)",
           "rgb(178,24,43)",
           "rgb(214,96,77)",
           "rgb(244,165,130)",
           "rgb(244,165,130)",
           "rgb(253,219,199)",
           "rgb(253,219,199)",
           "rgb(214,96,77)",
           "rgb(253,219,199)",
           "rgb(178,24,43)",
           "rgb(178,24,43)",
           "rgb(178,24,43)",
           "rgb(103,0,31)",
           "rgb(253,219,199)",
           "rgb(103,0,31)",
           "rgb(103,0,31)",
           "rgb(103,0,31)",
           "rgb(214,96,77)",
           "rgb(244,165,130)",
           "rgb(103,0,31)",
           "rgb(178,24,43)",
           "rgb(178,24,43)",
           "rgb(253,219,199)",
           "rgb(244,165,130)",
           "rgb(214,96,77)",
           "rgb(253,219,199)",
           "rgb(244,165,130)",
           "rgb(253,219,199)",
           "rgb(178,24,43)",
           "rgb(103,0,31)",
           "rgb(247,247,247)",
           "rgb(103,0,31)",
           "rgb(244,165,130)",
           "rgb(178,24,43)",
           "rgb(244,165,130)",
           "rgb(103,0,31)",
           "rgb(178,24,43)",
           "rgb(214,96,77)",
           "rgb(247,247,247)",
           "rgb(244,165,130)",
           "rgb(178,24,43)",
           "rgb(253,219,199)",
           "rgb(178,24,43)",
           "rgb(247,247,247)",
           "rgb(253,219,199)",
           "rgb(253,219,199)",
           "rgb(244,165,130)",
           "rgb(244,165,130)",
           "rgb(178,24,43)",
           "rgb(253,219,199)",
           "rgb(103,0,31)",
           "rgb(247,247,247)",
           "rgb(244,165,130)",
           "rgb(178,24,43)",
           "rgb(178,24,43)",
           "rgb(247,247,247)",
           "rgb(103,0,31)",
           "rgb(253,219,199)",
           "rgb(253,219,199)",
           "rgb(103,0,31)",
           "rgb(253,219,199)",
           "rgb(178,24,43)",
           "rgb(244,165,130)",
           "rgb(103,0,31)",
           "rgb(178,24,43)",
           "rgb(253,219,199)",
           "rgb(253,219,199)",
           "rgb(103,0,31)",
           "rgb(244,165,130)",
           "rgb(103,0,31)",
           "rgb(253,219,199)",
           "rgb(103,0,31)",
           "rgb(244,165,130)",
           "rgb(178,24,43)",
           "rgb(247,247,247)",
           "rgb(253,219,199)",
           "rgb(178,24,43)",
           "rgb(253,219,199)",
           "rgb(103,0,31)",
           "rgb(178,24,43)",
           "rgb(244,165,130)",
           "rgb(244,165,130)",
           "rgb(253,219,199)",
           "rgb(178,24,43)",
           "rgb(253,219,199)",
           "rgb(247,247,247)",
           "rgb(178,24,43)",
           "rgb(247,247,247)",
           "rgb(103,0,31)",
           "rgb(103,0,31)",
           "rgb(244,165,130)",
           "rgb(244,165,130)",
           "rgb(253,219,199)",
           "rgb(244,165,130)",
           "rgb(244,165,130)",
           "rgb(244,165,130)",
           "rgb(253,219,199)",
           "rgb(178,24,43)",
           "rgb(103,0,31)",
           "rgb(214,96,77)",
           "rgb(253,219,199)",
           "rgb(247,247,247)",
           "rgb(103,0,31)",
           "rgb(253,219,199)",
           "rgb(103,0,31)",
           "rgb(244,165,130)",
           "rgb(214,96,77)",
           "rgb(244,165,130)",
           "rgb(244,165,130)",
           "rgb(253,219,199)",
           "rgb(244,165,130)",
           "rgb(244,165,130)",
           "rgb(253,219,199)",
           "rgb(253,219,199)",
           "rgb(253,219,199)",
           "rgb(178,24,43)",
           "rgb(178,24,43)",
           "rgb(178,24,43)",
           "rgb(253,219,199)",
           "rgb(178,24,43)",
           "rgb(103,0,31)",
           "rgb(178,24,43)",
           "rgb(214,96,77)",
           "rgb(244,165,130)",
           "rgb(178,24,43)",
           "rgb(178,24,43)",
           "rgb(178,24,43)",
           "rgb(103,0,31)",
           "rgb(244,165,130)",
           "rgb(244,165,130)",
           "rgb(244,165,130)",
           "rgb(244,165,130)",
           "rgb(103,0,31)",
           "rgb(244,165,130)",
           "rgb(103,0,31)",
           "rgb(214,96,77)",
           "rgb(244,165,130)",
           "rgb(244,165,130)",
           "rgb(178,24,43)",
           "rgb(244,165,130)",
           "rgb(178,24,43)",
           "rgb(253,219,199)",
           "rgb(253,219,199)",
           "rgb(178,24,43)",
           "rgb(247,247,247)",
           "rgb(214,96,77)",
           "rgb(247,247,247)",
           "rgb(253,219,199)",
           "rgb(103,0,31)",
           "rgb(178,24,43)",
           "rgb(214,96,77)",
           "rgb(178,24,43)",
           "rgb(244,165,130)",
           "rgb(253,219,199)",
           "rgb(178,24,43)",
           "rgb(253,219,199)",
           "rgb(103,0,31)",
           "rgb(253,219,199)",
           "rgb(178,24,43)",
           "rgb(253,219,199)",
           "rgb(214,96,77)",
           "rgb(178,24,43)",
           "rgb(244,165,130)",
           "rgb(178,24,43)",
           "rgb(253,219,199)",
           "rgb(103,0,31)",
           "rgb(253,219,199)",
           "rgb(253,219,199)",
           "rgb(244,165,130)",
           "rgb(103,0,31)",
           "rgb(244,165,130)",
           "rgb(244,165,130)",
           "rgb(103,0,31)",
           "rgb(253,219,199)",
           "rgb(103,0,31)",
           "rgb(103,0,31)",
           "rgb(244,165,130)",
           "rgb(253,219,199)",
           "rgb(103,0,31)",
           "rgb(244,165,130)",
           "rgb(178,24,43)",
           "rgb(253,219,199)",
           "rgb(178,24,43)",
           "rgb(103,0,31)",
           "rgb(103,0,31)",
           "rgb(178,24,43)",
           "rgb(103,0,31)",
           "rgb(253,219,199)",
           "rgb(178,24,43)",
           "rgb(253,219,199)",
           "rgb(253,219,199)",
           "rgb(253,219,199)",
           "rgb(103,0,31)",
           "rgb(253,219,199)",
           "rgb(244,165,130)",
           "rgb(103,0,31)",
           "rgb(244,165,130)",
           "rgb(244,165,130)",
           "rgb(244,165,130)",
           "rgb(244,165,130)",
           "rgb(253,219,199)",
           "rgb(244,165,130)",
           "rgb(178,24,43)",
           "rgb(178,24,43)",
           "rgb(244,165,130)",
           "rgb(244,165,130)",
           "rgb(103,0,31)",
           "rgb(244,165,130)",
           "rgb(244,165,130)",
           "rgb(214,96,77)",
           "rgb(103,0,31)",
           "rgb(244,165,130)",
           "rgb(178,24,43)",
           "rgb(244,165,130)",
           "rgb(103,0,31)",
           "rgb(253,219,199)",
           "rgb(178,24,43)",
           "rgb(253,219,199)",
           "rgb(253,219,199)",
           "rgb(253,219,199)",
           "rgb(244,165,130)",
           "rgb(244,165,130)",
           "rgb(253,219,199)",
           "rgb(214,96,77)",
           "rgb(244,165,130)",
           "rgb(103,0,31)",
           "rgb(178,24,43)",
           "rgb(178,24,43)",
           "rgb(253,219,199)",
           "rgb(253,219,199)",
           "rgb(244,165,130)",
           "rgb(247,247,247)",
           "rgb(214,96,77)",
           "rgb(178,24,43)",
           "rgb(253,219,199)",
           "rgb(178,24,43)",
           "rgb(253,219,199)",
           "rgb(103,0,31)",
           "rgb(247,247,247)",
           "rgb(253,219,199)",
           "rgb(103,0,31)",
           "rgb(178,24,43)",
           "rgb(178,24,43)",
           "rgb(253,219,199)",
           "rgb(178,24,43)",
           "rgb(103,0,31)",
           "rgb(253,219,199)",
           "rgb(178,24,43)",
           "rgb(253,219,199)",
           "rgb(244,165,130)",
           "rgb(178,24,43)",
           "rgb(253,219,199)",
           "rgb(253,219,199)",
           "rgb(244,165,130)",
           "rgb(214,96,77)",
           "rgb(244,165,130)",
           "rgb(244,165,130)",
           "rgb(214,96,77)",
           "rgb(178,24,43)",
           "rgb(178,24,43)",
           "rgb(178,24,43)",
           "rgb(244,165,130)",
           "rgb(253,219,199)",
           "rgb(178,24,43)",
           "rgb(253,219,199)",
           "rgb(244,165,130)",
           "rgb(253,219,199)",
           "rgb(103,0,31)",
           "rgb(178,24,43)",
           "rgb(253,219,199)",
           "rgb(178,24,43)",
           "rgb(244,165,130)",
           "rgb(178,24,43)",
           "rgb(253,219,199)",
           "rgb(103,0,31)",
           "rgb(244,165,130)",
           "rgb(178,24,43)",
           "rgb(244,165,130)",
           "rgb(103,0,31)",
           "rgb(214,96,77)",
           "rgb(214,96,77)",
           "rgb(244,165,130)",
           "rgb(244,165,130)",
           "rgb(253,219,199)",
           "rgb(103,0,31)",
           "rgb(244,165,130)",
           "rgb(253,219,199)",
           "rgb(244,165,130)",
           "rgb(103,0,31)",
           "rgb(214,96,77)",
           "rgb(244,165,130)",
           "rgb(247,247,247)",
           "rgb(214,96,77)",
           "rgb(253,219,199)",
           "rgb(253,219,199)",
           "rgb(253,219,199)",
           "rgb(253,219,199)",
           "rgb(244,165,130)",
           "rgb(244,165,130)",
           "rgb(103,0,31)",
           "rgb(214,96,77)",
           "rgb(103,0,31)",
           "rgb(244,165,130)",
           "rgb(178,24,43)",
           "rgb(244,165,130)",
           "rgb(178,24,43)",
           "rgb(253,219,199)",
           "rgb(244,165,130)",
           "rgb(178,24,43)",
           "rgb(178,24,43)",
           "rgb(253,219,199)",
           "rgb(244,165,130)",
           "rgb(244,165,130)",
           "rgb(244,165,130)",
           "rgb(178,24,43)",
           "rgb(247,247,247)",
           "rgb(244,165,130)",
           "rgb(253,219,199)",
           "rgb(103,0,31)",
           "rgb(253,219,199)",
           "rgb(214,96,77)",
           "rgb(244,165,130)",
           "rgb(244,165,130)",
           "rgb(214,96,77)",
           "rgb(103,0,31)",
           "rgb(244,165,130)",
           "rgb(178,24,43)",
           "rgb(178,24,43)",
           "rgb(244,165,130)",
           "rgb(253,219,199)",
           "rgb(244,165,130)",
           "rgb(244,165,130)",
           "rgb(103,0,31)",
           "rgb(178,24,43)",
           "rgb(253,219,199)",
           "rgb(103,0,31)",
           "rgb(244,165,130)",
           "rgb(103,0,31)",
           "rgb(253,219,199)",
           "rgb(244,165,130)",
           "rgb(103,0,31)",
           "rgb(244,165,130)",
           "rgb(103,0,31)",
           "rgb(178,24,43)",
           "rgb(253,219,199)",
           "rgb(244,165,130)",
           "rgb(178,24,43)",
           "rgb(244,165,130)",
           "rgb(178,24,43)",
           "rgb(178,24,43)",
           "rgb(244,165,130)",
           "rgb(253,219,199)",
           "rgb(178,24,43)",
           "rgb(244,165,130)",
           "rgb(103,0,31)",
           "rgb(253,219,199)",
           "rgb(253,219,199)",
           "rgb(244,165,130)",
           "rgb(253,219,199)",
           "rgb(244,165,130)",
           "rgb(247,247,247)",
           "rgb(244,165,130)",
           "rgb(253,219,199)",
           "rgb(244,165,130)",
           "rgb(253,219,199)",
           "rgb(178,24,43)",
           "rgb(244,165,130)",
           "rgb(244,165,130)",
           "rgb(178,24,43)",
           "rgb(253,219,199)",
           "rgb(178,24,43)",
           "rgb(103,0,31)",
           "rgb(178,24,43)",
           "rgb(178,24,43)",
           "rgb(253,219,199)",
           "rgb(103,0,31)",
           "rgb(253,219,199)",
           "rgb(253,219,199)",
           "rgb(244,165,130)",
           "rgb(244,165,130)",
           "rgb(244,165,130)",
           "rgb(178,24,43)",
           "rgb(253,219,199)",
           "rgb(253,219,199)",
           "rgb(178,24,43)",
           "rgb(178,24,43)",
           "rgb(253,219,199)",
           "rgb(214,96,77)",
           "rgb(253,219,199)",
           "rgb(178,24,43)",
           "rgb(253,219,199)",
           "rgb(244,165,130)",
           "rgb(178,24,43)",
           "rgb(178,24,43)",
           "rgb(103,0,31)",
           "rgb(253,219,199)",
           "rgb(244,165,130)",
           "rgb(244,165,130)",
           "rgb(253,219,199)",
           "rgb(244,165,130)",
           "rgb(103,0,31)",
           "rgb(178,24,43)",
           "rgb(253,219,199)",
           "rgb(244,165,130)",
           "rgb(178,24,43)",
           "rgb(214,96,77)",
           "rgb(178,24,43)",
           "rgb(178,24,43)",
           "rgb(253,219,199)",
           "rgb(244,165,130)",
           "rgb(244,165,130)",
           "rgb(178,24,43)",
           "rgb(244,165,130)",
           "rgb(178,24,43)",
           "rgb(244,165,130)",
           "rgb(244,165,130)",
           "rgb(253,219,199)",
           "rgb(244,165,130)",
           "rgb(244,165,130)",
           "rgb(253,219,199)",
           "rgb(253,219,199)",
           "rgb(244,165,130)",
           "rgb(214,96,77)",
           "rgb(253,219,199)",
           "rgb(178,24,43)",
           "rgb(253,219,199)",
           "rgb(244,165,130)",
           "rgb(253,219,199)",
           "rgb(253,219,199)",
           "rgb(178,24,43)",
           "rgb(103,0,31)",
           "rgb(253,219,199)",
           "rgb(253,219,199)",
           "rgb(244,165,130)",
           "rgb(253,219,199)",
           "rgb(244,165,130)",
           "rgb(178,24,43)",
           "rgb(244,165,130)",
           "rgb(244,165,130)",
           "rgb(244,165,130)",
           "rgb(178,24,43)",
           "rgb(103,0,31)",
           "rgb(103,0,31)",
           "rgb(244,165,130)",
           "rgb(244,165,130)",
           "rgb(244,165,130)",
           "rgb(244,165,130)",
           "rgb(178,24,43)",
           "rgb(253,219,199)",
           "rgb(244,165,130)",
           "rgb(253,219,199)",
           "rgb(178,24,43)",
           "rgb(244,165,130)",
           "rgb(253,219,199)",
           "rgb(178,24,43)",
           "rgb(244,165,130)",
           "rgb(178,24,43)",
           "rgb(178,24,43)",
           "rgb(253,219,199)",
           "rgb(253,219,199)",
           "rgb(253,219,199)",
           "rgb(253,219,199)",
           "rgb(244,165,130)",
           "rgb(178,24,43)",
           "rgb(103,0,31)",
           "rgb(253,219,199)",
           "rgb(253,219,199)",
           "rgb(253,219,199)",
           "rgb(178,24,43)",
           "rgb(244,165,130)",
           "rgb(178,24,43)",
           "rgb(253,219,199)",
           "rgb(253,219,199)",
           "rgb(244,165,130)",
           "rgb(253,219,199)",
           "rgb(253,219,199)",
           "rgb(253,219,199)",
           "rgb(253,219,199)",
           "rgb(253,219,199)",
           "rgb(244,165,130)",
           "rgb(253,219,199)",
           "rgb(244,165,130)",
           "rgb(253,219,199)",
           "rgb(253,219,199)",
           "rgb(244,165,130)",
           "rgb(244,165,130)",
           "rgb(244,165,130)",
           "rgb(253,219,199)",
           "rgb(178,24,43)",
           "rgb(253,219,199)",
           "rgb(244,165,130)",
           "rgb(244,165,130)",
           "rgb(244,165,130)",
           "rgb(244,165,130)",
           "rgb(253,219,199)",
           "rgb(244,165,130)",
           "rgb(244,165,130)",
           "rgb(244,165,130)",
           "rgb(178,24,43)",
           "rgb(103,0,31)",
           "rgb(253,219,199)",
           "rgb(244,165,130)",
           "rgb(253,219,199)",
           "rgb(178,24,43)",
           "rgb(178,24,43)",
           "rgb(253,219,199)",
           "rgb(178,24,43)",
           "rgb(253,219,199)",
           "rgb(253,219,199)",
           "rgb(244,165,130)",
           "rgb(244,165,130)",
           "rgb(244,165,130)",
           "rgb(253,219,199)",
           "rgb(244,165,130)",
           "rgb(178,24,43)",
           "rgb(244,165,130)",
           "rgb(178,24,43)",
           "rgb(244,165,130)",
           "rgb(103,0,31)",
           "rgb(244,165,130)",
           "rgb(244,165,130)",
           "rgb(178,24,43)",
           "rgb(253,219,199)",
           "rgb(244,165,130)",
           "rgb(253,219,199)",
           "rgb(178,24,43)",
           "rgb(214,96,77)",
           "rgb(178,24,43)",
           "rgb(178,24,43)",
           "rgb(253,219,199)",
           "rgb(244,165,130)",
           "rgb(244,165,130)",
           "rgb(244,165,130)",
           "rgb(178,24,43)",
           "rgb(244,165,130)",
           "rgb(244,165,130)",
           "rgb(178,24,43)",
           "rgb(244,165,130)",
           "rgb(214,96,77)",
           "rgb(244,165,130)",
           "rgb(178,24,43)",
           "rgb(103,0,31)",
           "rgb(103,0,31)",
           "rgb(244,165,130)",
           "rgb(178,24,43)",
           "rgb(253,219,199)",
           "rgb(244,165,130)",
           "rgb(244,165,130)",
           "rgb(253,219,199)",
           "rgb(244,165,130)",
           "rgb(253,219,199)",
           "rgb(178,24,43)",
           "rgb(253,219,199)",
           "rgb(214,96,77)",
           "rgb(253,219,199)",
           "rgb(253,219,199)",
           "rgb(253,219,199)",
           "rgb(253,219,199)",
           "rgb(253,219,199)",
           "rgb(244,165,130)",
           "rgb(244,165,130)",
           "rgb(244,165,130)",
           "rgb(244,165,130)",
           "rgb(244,165,130)",
           "rgb(178,24,43)",
           "rgb(244,165,130)",
           "rgb(253,219,199)",
           "rgb(244,165,130)",
           "rgb(244,165,130)",
           "rgb(178,24,43)",
           "rgb(244,165,130)",
           "rgb(253,219,199)",
           "rgb(214,96,77)",
           "rgb(253,219,199)",
           "rgb(253,219,199)",
           "rgb(244,165,130)",
           "rgb(244,165,130)",
           "rgb(253,219,199)",
           "rgb(244,165,130)",
           "rgb(253,219,199)",
           "rgb(244,165,130)",
           "rgb(178,24,43)",
           "rgb(178,24,43)",
           "rgb(244,165,130)",
           "rgb(103,0,31)",
           "rgb(244,165,130)",
           "rgb(253,219,199)",
           "rgb(253,219,199)",
           "rgb(214,96,77)",
           "rgb(253,219,199)",
           "rgb(244,165,130)",
           "rgb(244,165,130)",
           "rgb(214,96,77)",
           "rgb(244,165,130)",
           "rgb(178,24,43)",
           "rgb(244,165,130)",
           "rgb(253,219,199)",
           "rgb(253,219,199)",
           "rgb(178,24,43)",
           "rgb(103,0,31)",
           "rgb(244,165,130)",
           "rgb(178,24,43)",
           "rgb(253,219,199)",
           "rgb(253,219,199)",
           "rgb(253,219,199)",
           "rgb(253,219,199)",
           "rgb(244,165,130)",
           "rgb(253,219,199)",
           "rgb(178,24,43)",
           "rgb(244,165,130)",
           "rgb(244,165,130)",
           "rgb(244,165,130)",
           "rgb(244,165,130)",
           "rgb(253,219,199)",
           "rgb(244,165,130)",
           "rgb(244,165,130)",
           "rgb(253,219,199)",
           "rgb(253,219,199)",
           "rgb(253,219,199)",
           "rgb(244,165,130)",
           "rgb(244,165,130)",
           "rgb(253,219,199)",
           "rgb(253,219,199)",
           "rgb(253,219,199)",
           "rgb(253,219,199)",
           "rgb(244,165,130)",
           "rgb(253,219,199)",
           "rgb(244,165,130)",
           "rgb(244,165,130)",
           "rgb(244,165,130)",
           "rgb(244,165,130)",
           "rgb(253,219,199)",
           "rgb(244,165,130)",
           "rgb(244,165,130)",
           "rgb(103,0,31)",
           "rgb(244,165,130)",
           "rgb(253,219,199)",
           "rgb(178,24,43)",
           "rgb(244,165,130)",
           "rgb(244,165,130)",
           "rgb(244,165,130)",
           "rgb(253,219,199)",
           "rgb(253,219,199)",
           "rgb(244,165,130)",
           "rgb(253,219,199)",
           "rgb(253,219,199)",
           "rgb(244,165,130)",
           "rgb(253,219,199)",
           "rgb(253,219,199)",
           "rgb(253,219,199)",
           "rgb(244,165,130)",
           "rgb(244,165,130)",
           "rgb(244,165,130)",
           "rgb(253,219,199)",
           "rgb(214,96,77)",
           "rgb(214,96,77)",
           "rgb(244,165,130)",
           "rgb(253,219,199)",
           "rgb(178,24,43)",
           "rgb(178,24,43)",
           "rgb(244,165,130)",
           "rgb(253,219,199)",
           "rgb(244,165,130)",
           "rgb(253,219,199)",
           "rgb(244,165,130)",
           "rgb(253,219,199)",
           "rgb(244,165,130)",
           "rgb(103,0,31)",
           "rgb(244,165,130)",
           "rgb(178,24,43)",
           "rgb(253,219,199)",
           "rgb(244,165,130)",
           "rgb(178,24,43)",
           "rgb(244,165,130)",
           "rgb(244,165,130)",
           "rgb(244,165,130)",
           "rgb(244,165,130)",
           "rgb(244,165,130)",
           "rgb(178,24,43)",
           "rgb(244,165,130)",
           "rgb(244,165,130)",
           "rgb(244,165,130)",
           "rgb(253,219,199)",
           "rgb(244,165,130)",
           "rgb(244,165,130)",
           "rgb(244,165,130)",
           "rgb(253,219,199)",
           "rgb(244,165,130)",
           "rgb(253,219,199)",
           "rgb(244,165,130)",
           "rgb(253,219,199)",
           "rgb(244,165,130)",
           "rgb(253,219,199)",
           "rgb(244,165,130)",
           "rgb(253,219,199)",
           "rgb(244,165,130)",
           "rgb(244,165,130)",
           "rgb(178,24,43)",
           "rgb(178,24,43)",
           "rgb(244,165,130)",
           "rgb(244,165,130)",
           "rgb(244,165,130)",
           "rgb(178,24,43)",
           "rgb(244,165,130)",
           "rgb(244,165,130)",
           "rgb(103,0,31)",
           "rgb(244,165,130)",
           "rgb(253,219,199)",
           "rgb(253,219,199)"
          ]
         },
         "name": "",
         "showlegend": true,
         "type": "pie"
        }
       ],
       "layout": {
        "legend": {
         "tracegroupgap": 0
        },
        "piecolorway": [
         "rgb(103,0,31)",
         "rgb(178,24,43)",
         "rgb(214,96,77)",
         "rgb(244,165,130)",
         "rgb(253,219,199)",
         "rgb(247,247,247)",
         "rgb(209,229,240)",
         "rgb(146,197,222)",
         "rgb(67,147,195)",
         "rgb(33,102,172)",
         "rgb(5,48,97)"
        ],
        "template": {
         "data": {
          "bar": [
           {
            "error_x": {
             "color": "#f2f5fa"
            },
            "error_y": {
             "color": "#f2f5fa"
            },
            "marker": {
             "line": {
              "color": "rgb(17,17,17)",
              "width": 0.5
             },
             "pattern": {
              "fillmode": "overlay",
              "size": 10,
              "solidity": 0.2
             }
            },
            "type": "bar"
           }
          ],
          "barpolar": [
           {
            "marker": {
             "line": {
              "color": "rgb(17,17,17)",
              "width": 0.5
             },
             "pattern": {
              "fillmode": "overlay",
              "size": 10,
              "solidity": 0.2
             }
            },
            "type": "barpolar"
           }
          ],
          "carpet": [
           {
            "aaxis": {
             "endlinecolor": "#A2B1C6",
             "gridcolor": "#506784",
             "linecolor": "#506784",
             "minorgridcolor": "#506784",
             "startlinecolor": "#A2B1C6"
            },
            "baxis": {
             "endlinecolor": "#A2B1C6",
             "gridcolor": "#506784",
             "linecolor": "#506784",
             "minorgridcolor": "#506784",
             "startlinecolor": "#A2B1C6"
            },
            "type": "carpet"
           }
          ],
          "choropleth": [
           {
            "colorbar": {
             "outlinewidth": 0,
             "ticks": ""
            },
            "type": "choropleth"
           }
          ],
          "contour": [
           {
            "colorbar": {
             "outlinewidth": 0,
             "ticks": ""
            },
            "colorscale": [
             [
              0,
              "#0d0887"
             ],
             [
              0.1111111111111111,
              "#46039f"
             ],
             [
              0.2222222222222222,
              "#7201a8"
             ],
             [
              0.3333333333333333,
              "#9c179e"
             ],
             [
              0.4444444444444444,
              "#bd3786"
             ],
             [
              0.5555555555555556,
              "#d8576b"
             ],
             [
              0.6666666666666666,
              "#ed7953"
             ],
             [
              0.7777777777777778,
              "#fb9f3a"
             ],
             [
              0.8888888888888888,
              "#fdca26"
             ],
             [
              1,
              "#f0f921"
             ]
            ],
            "type": "contour"
           }
          ],
          "contourcarpet": [
           {
            "colorbar": {
             "outlinewidth": 0,
             "ticks": ""
            },
            "type": "contourcarpet"
           }
          ],
          "heatmap": [
           {
            "colorbar": {
             "outlinewidth": 0,
             "ticks": ""
            },
            "colorscale": [
             [
              0,
              "#0d0887"
             ],
             [
              0.1111111111111111,
              "#46039f"
             ],
             [
              0.2222222222222222,
              "#7201a8"
             ],
             [
              0.3333333333333333,
              "#9c179e"
             ],
             [
              0.4444444444444444,
              "#bd3786"
             ],
             [
              0.5555555555555556,
              "#d8576b"
             ],
             [
              0.6666666666666666,
              "#ed7953"
             ],
             [
              0.7777777777777778,
              "#fb9f3a"
             ],
             [
              0.8888888888888888,
              "#fdca26"
             ],
             [
              1,
              "#f0f921"
             ]
            ],
            "type": "heatmap"
           }
          ],
          "heatmapgl": [
           {
            "colorbar": {
             "outlinewidth": 0,
             "ticks": ""
            },
            "colorscale": [
             [
              0,
              "#0d0887"
             ],
             [
              0.1111111111111111,
              "#46039f"
             ],
             [
              0.2222222222222222,
              "#7201a8"
             ],
             [
              0.3333333333333333,
              "#9c179e"
             ],
             [
              0.4444444444444444,
              "#bd3786"
             ],
             [
              0.5555555555555556,
              "#d8576b"
             ],
             [
              0.6666666666666666,
              "#ed7953"
             ],
             [
              0.7777777777777778,
              "#fb9f3a"
             ],
             [
              0.8888888888888888,
              "#fdca26"
             ],
             [
              1,
              "#f0f921"
             ]
            ],
            "type": "heatmapgl"
           }
          ],
          "histogram": [
           {
            "marker": {
             "pattern": {
              "fillmode": "overlay",
              "size": 10,
              "solidity": 0.2
             }
            },
            "type": "histogram"
           }
          ],
          "histogram2d": [
           {
            "colorbar": {
             "outlinewidth": 0,
             "ticks": ""
            },
            "colorscale": [
             [
              0,
              "#0d0887"
             ],
             [
              0.1111111111111111,
              "#46039f"
             ],
             [
              0.2222222222222222,
              "#7201a8"
             ],
             [
              0.3333333333333333,
              "#9c179e"
             ],
             [
              0.4444444444444444,
              "#bd3786"
             ],
             [
              0.5555555555555556,
              "#d8576b"
             ],
             [
              0.6666666666666666,
              "#ed7953"
             ],
             [
              0.7777777777777778,
              "#fb9f3a"
             ],
             [
              0.8888888888888888,
              "#fdca26"
             ],
             [
              1,
              "#f0f921"
             ]
            ],
            "type": "histogram2d"
           }
          ],
          "histogram2dcontour": [
           {
            "colorbar": {
             "outlinewidth": 0,
             "ticks": ""
            },
            "colorscale": [
             [
              0,
              "#0d0887"
             ],
             [
              0.1111111111111111,
              "#46039f"
             ],
             [
              0.2222222222222222,
              "#7201a8"
             ],
             [
              0.3333333333333333,
              "#9c179e"
             ],
             [
              0.4444444444444444,
              "#bd3786"
             ],
             [
              0.5555555555555556,
              "#d8576b"
             ],
             [
              0.6666666666666666,
              "#ed7953"
             ],
             [
              0.7777777777777778,
              "#fb9f3a"
             ],
             [
              0.8888888888888888,
              "#fdca26"
             ],
             [
              1,
              "#f0f921"
             ]
            ],
            "type": "histogram2dcontour"
           }
          ],
          "mesh3d": [
           {
            "colorbar": {
             "outlinewidth": 0,
             "ticks": ""
            },
            "type": "mesh3d"
           }
          ],
          "parcoords": [
           {
            "line": {
             "colorbar": {
              "outlinewidth": 0,
              "ticks": ""
             }
            },
            "type": "parcoords"
           }
          ],
          "pie": [
           {
            "automargin": true,
            "type": "pie"
           }
          ],
          "scatter": [
           {
            "marker": {
             "line": {
              "color": "#283442"
             }
            },
            "type": "scatter"
           }
          ],
          "scatter3d": [
           {
            "line": {
             "colorbar": {
              "outlinewidth": 0,
              "ticks": ""
             }
            },
            "marker": {
             "colorbar": {
              "outlinewidth": 0,
              "ticks": ""
             }
            },
            "type": "scatter3d"
           }
          ],
          "scattercarpet": [
           {
            "marker": {
             "colorbar": {
              "outlinewidth": 0,
              "ticks": ""
             }
            },
            "type": "scattercarpet"
           }
          ],
          "scattergeo": [
           {
            "marker": {
             "colorbar": {
              "outlinewidth": 0,
              "ticks": ""
             }
            },
            "type": "scattergeo"
           }
          ],
          "scattergl": [
           {
            "marker": {
             "line": {
              "color": "#283442"
             }
            },
            "type": "scattergl"
           }
          ],
          "scattermapbox": [
           {
            "marker": {
             "colorbar": {
              "outlinewidth": 0,
              "ticks": ""
             }
            },
            "type": "scattermapbox"
           }
          ],
          "scatterpolar": [
           {
            "marker": {
             "colorbar": {
              "outlinewidth": 0,
              "ticks": ""
             }
            },
            "type": "scatterpolar"
           }
          ],
          "scatterpolargl": [
           {
            "marker": {
             "colorbar": {
              "outlinewidth": 0,
              "ticks": ""
             }
            },
            "type": "scatterpolargl"
           }
          ],
          "scatterternary": [
           {
            "marker": {
             "colorbar": {
              "outlinewidth": 0,
              "ticks": ""
             }
            },
            "type": "scatterternary"
           }
          ],
          "surface": [
           {
            "colorbar": {
             "outlinewidth": 0,
             "ticks": ""
            },
            "colorscale": [
             [
              0,
              "#0d0887"
             ],
             [
              0.1111111111111111,
              "#46039f"
             ],
             [
              0.2222222222222222,
              "#7201a8"
             ],
             [
              0.3333333333333333,
              "#9c179e"
             ],
             [
              0.4444444444444444,
              "#bd3786"
             ],
             [
              0.5555555555555556,
              "#d8576b"
             ],
             [
              0.6666666666666666,
              "#ed7953"
             ],
             [
              0.7777777777777778,
              "#fb9f3a"
             ],
             [
              0.8888888888888888,
              "#fdca26"
             ],
             [
              1,
              "#f0f921"
             ]
            ],
            "type": "surface"
           }
          ],
          "table": [
           {
            "cells": {
             "fill": {
              "color": "#506784"
             },
             "line": {
              "color": "rgb(17,17,17)"
             }
            },
            "header": {
             "fill": {
              "color": "#2a3f5f"
             },
             "line": {
              "color": "rgb(17,17,17)"
             }
            },
            "type": "table"
           }
          ]
         },
         "layout": {
          "annotationdefaults": {
           "arrowcolor": "#f2f5fa",
           "arrowhead": 0,
           "arrowwidth": 1
          },
          "autotypenumbers": "strict",
          "coloraxis": {
           "colorbar": {
            "outlinewidth": 0,
            "ticks": ""
           }
          },
          "colorscale": {
           "diverging": [
            [
             0,
             "#8e0152"
            ],
            [
             0.1,
             "#c51b7d"
            ],
            [
             0.2,
             "#de77ae"
            ],
            [
             0.3,
             "#f1b6da"
            ],
            [
             0.4,
             "#fde0ef"
            ],
            [
             0.5,
             "#f7f7f7"
            ],
            [
             0.6,
             "#e6f5d0"
            ],
            [
             0.7,
             "#b8e186"
            ],
            [
             0.8,
             "#7fbc41"
            ],
            [
             0.9,
             "#4d9221"
            ],
            [
             1,
             "#276419"
            ]
           ],
           "sequential": [
            [
             0,
             "#0d0887"
            ],
            [
             0.1111111111111111,
             "#46039f"
            ],
            [
             0.2222222222222222,
             "#7201a8"
            ],
            [
             0.3333333333333333,
             "#9c179e"
            ],
            [
             0.4444444444444444,
             "#bd3786"
            ],
            [
             0.5555555555555556,
             "#d8576b"
            ],
            [
             0.6666666666666666,
             "#ed7953"
            ],
            [
             0.7777777777777778,
             "#fb9f3a"
            ],
            [
             0.8888888888888888,
             "#fdca26"
            ],
            [
             1,
             "#f0f921"
            ]
           ],
           "sequentialminus": [
            [
             0,
             "#0d0887"
            ],
            [
             0.1111111111111111,
             "#46039f"
            ],
            [
             0.2222222222222222,
             "#7201a8"
            ],
            [
             0.3333333333333333,
             "#9c179e"
            ],
            [
             0.4444444444444444,
             "#bd3786"
            ],
            [
             0.5555555555555556,
             "#d8576b"
            ],
            [
             0.6666666666666666,
             "#ed7953"
            ],
            [
             0.7777777777777778,
             "#fb9f3a"
            ],
            [
             0.8888888888888888,
             "#fdca26"
            ],
            [
             1,
             "#f0f921"
            ]
           ]
          },
          "colorway": [
           "#636efa",
           "#EF553B",
           "#00cc96",
           "#ab63fa",
           "#FFA15A",
           "#19d3f3",
           "#FF6692",
           "#B6E880",
           "#FF97FF",
           "#FECB52"
          ],
          "font": {
           "color": "#f2f5fa"
          },
          "geo": {
           "bgcolor": "rgb(17,17,17)",
           "lakecolor": "rgb(17,17,17)",
           "landcolor": "rgb(17,17,17)",
           "showlakes": true,
           "showland": true,
           "subunitcolor": "#506784"
          },
          "hoverlabel": {
           "align": "left"
          },
          "hovermode": "closest",
          "mapbox": {
           "style": "dark"
          },
          "paper_bgcolor": "rgb(17,17,17)",
          "plot_bgcolor": "rgb(17,17,17)",
          "polar": {
           "angularaxis": {
            "gridcolor": "#506784",
            "linecolor": "#506784",
            "ticks": ""
           },
           "bgcolor": "rgb(17,17,17)",
           "radialaxis": {
            "gridcolor": "#506784",
            "linecolor": "#506784",
            "ticks": ""
           }
          },
          "scene": {
           "xaxis": {
            "backgroundcolor": "rgb(17,17,17)",
            "gridcolor": "#506784",
            "gridwidth": 2,
            "linecolor": "#506784",
            "showbackground": true,
            "ticks": "",
            "zerolinecolor": "#C8D4E3"
           },
           "yaxis": {
            "backgroundcolor": "rgb(17,17,17)",
            "gridcolor": "#506784",
            "gridwidth": 2,
            "linecolor": "#506784",
            "showbackground": true,
            "ticks": "",
            "zerolinecolor": "#C8D4E3"
           },
           "zaxis": {
            "backgroundcolor": "rgb(17,17,17)",
            "gridcolor": "#506784",
            "gridwidth": 2,
            "linecolor": "#506784",
            "showbackground": true,
            "ticks": "",
            "zerolinecolor": "#C8D4E3"
           }
          },
          "shapedefaults": {
           "line": {
            "color": "#f2f5fa"
           }
          },
          "sliderdefaults": {
           "bgcolor": "#C8D4E3",
           "bordercolor": "rgb(17,17,17)",
           "borderwidth": 1,
           "tickwidth": 0
          },
          "ternary": {
           "aaxis": {
            "gridcolor": "#506784",
            "linecolor": "#506784",
            "ticks": ""
           },
           "baxis": {
            "gridcolor": "#506784",
            "linecolor": "#506784",
            "ticks": ""
           },
           "bgcolor": "rgb(17,17,17)",
           "caxis": {
            "gridcolor": "#506784",
            "linecolor": "#506784",
            "ticks": ""
           }
          },
          "title": {
           "x": 0.05
          },
          "updatemenudefaults": {
           "bgcolor": "#506784",
           "borderwidth": 0
          },
          "xaxis": {
           "automargin": true,
           "gridcolor": "#283442",
           "linecolor": "#506784",
           "ticks": "",
           "title": {
            "standoff": 15
           },
           "zerolinecolor": "#283442",
           "zerolinewidth": 2
          },
          "yaxis": {
           "automargin": true,
           "gridcolor": "#283442",
           "linecolor": "#506784",
           "ticks": "",
           "title": {
            "standoff": 15
           },
           "zerolinecolor": "#283442",
           "zerolinewidth": 2
          }
         }
        },
        "title": {
         "text": "Games Published each Year Per Percentage"
        }
       }
      }
     },
     "metadata": {},
     "output_type": "display_data"
    }
   ],
   "source": [
    "fig = px.pie(df,\n",
    "            names = \"Year_Published\",\n",
    "            template = \"plotly_dark\",\n",
    "            color_discrete_sequence = px.colors.sequential.RdBu,\n",
    "            color = \"Year_Published\",\n",
    "            hole = 0.4,\n",
    "            title = \"Games Published each Year Per Percentage\")\n",
    "iplot(fig)"
   ]
  },
  {
   "cell_type": "code",
   "execution_count": null,
   "metadata": {},
   "outputs": [],
   "source": []
  }
 ],
 "metadata": {
  "colab": {
   "provenance": []
  },
  "kernelspec": {
   "display_name": "Python 3",
   "language": "python",
   "name": "python3"
  },
  "language_info": {
   "codemirror_mode": {
    "name": "ipython",
    "version": 3
   },
   "file_extension": ".py",
   "mimetype": "text/x-python",
   "name": "python",
   "nbconvert_exporter": "python",
   "pygments_lexer": "ipython3",
   "version": "3.11.5"
  }
 },
 "nbformat": 4,
 "nbformat_minor": 4
}
