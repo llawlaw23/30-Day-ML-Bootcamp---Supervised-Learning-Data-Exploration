{
 "cells": [
  {
   "cell_type": "markdown",
   "metadata": {
    "id": "feFkF6Rno8n7"
   },
   "source": [
    "## Analysing PS4 sales Data"
   ]
  },
  {
   "cell_type": "markdown",
   "metadata": {
    "id": "-dKBNl7Huns_"
   },
   "source": [
    "##### Problem Statement\n",
    "A teenager wanted to show his mom how many people use PS4 console in the world, so his mom would purchase one for him. So he reached out to Ama to analyze the sales data for PS4 so that his more will have a fair idea of:\n",
    "1. How many people use PS4 console in the world?\n",
    "2. Which Game on PS4 console has the highest number of sales?\n",
    "3. Which Game on PS4 console has the lowest number of sales?"
   ]
  },
  {
   "cell_type": "code",
   "execution_count": 1,
   "metadata": {
    "id": "PYSUf2pfrn-O"
   },
   "outputs": [],
   "source": [
    "# Importing the necessary libraries \n",
    "import pandas as pd\n",
    "import numpy as np\n",
    "import matplotlib.pyplot as plt\n",
    "import seaborn as sns\n",
    "import chardet"
   ]
  },
  {
   "cell_type": "markdown",
   "metadata": {},
   "source": [
    "#### Reading The data\n",
    "This is allows you to know the various rows and columns available.\n",
    "This allows you to have a clear view of the data, so you will analyse and know what changes to make according to goal of the data cleaning."
   ]
  },
  {
   "cell_type": "code",
   "execution_count": 2,
   "metadata": {},
   "outputs": [],
   "source": [
    "with open('PS4_GamesSales.csv', 'rb') as file:\n",
    "    content = file.read().decode('utf-8', errors='replace')\n",
    "    with open('cleaned_file.csv', 'w', encoding='utf-8') as clean_file:\n",
    "        clean_file.write(content)\n",
    "\n",
    "#Then read the cleaned file\n",
    "df = pd.read_csv('cleaned_file.csv')"
   ]
  },
  {
   "cell_type": "code",
   "execution_count": null,
   "metadata": {
    "id": "1WpgAPWvruAM"
   },
   "outputs": [],
   "source": [
    "df.head()"
   ]
  },
  {
   "cell_type": "code",
   "execution_count": null,
   "metadata": {},
   "outputs": [],
   "source": [
    "#reading the various columns\n",
    "df.columns"
   ]
  },
  {
   "cell_type": "code",
   "execution_count": null,
   "metadata": {},
   "outputs": [],
   "source": [
    "#display the available rows and columns\n",
    "df.shape"
   ]
  },
  {
   "cell_type": "code",
   "execution_count": null,
   "metadata": {
    "id": "D3ttV7xKrxiw"
   },
   "outputs": [],
   "source": [
    "#Reading the information about the dataset\n",
    "df.info()"
   ]
  },
  {
   "cell_type": "code",
   "execution_count": null,
   "metadata": {},
   "outputs": [],
   "source": [
    "#Using missingno to visualise the missing value in the dataset\n",
    "import missingno as msno\n",
    "msno.bar(df)"
   ]
  },
  {
   "cell_type": "code",
   "execution_count": null,
   "metadata": {},
   "outputs": [],
   "source": [
    "df.describe"
   ]
  },
  {
   "cell_type": "markdown",
   "metadata": {},
   "source": [
    "#### Data Cleaning \n",
    "I will start by Changing some of the names of the columns, dropping Null values, dropping zeros, and changing the datatype of some of the columns."
   ]
  },
  {
   "cell_type": "code",
   "execution_count": null,
   "metadata": {},
   "outputs": [],
   "source": []
  },
  {
   "cell_type": "code",
   "execution_count": null,
   "metadata": {},
   "outputs": [],
   "source": []
  },
  {
   "cell_type": "markdown",
   "metadata": {},
   "source": [
    "### Changing  column names to suite the specified goal stated earlier"
   ]
  },
  {
   "cell_type": "code",
   "execution_count": 3,
   "metadata": {},
   "outputs": [],
   "source": [
    "# changing year to year_published\n",
    "df.rename(columns={\"Year\":\"Year_Published\", \"Global\":\"Total Sales\"}, inplace=True)"
   ]
  },
  {
   "cell_type": "code",
   "execution_count": null,
   "metadata": {},
   "outputs": [],
   "source": [
    "# confirming if the column name has been changed successfully\n",
    "df.info()"
   ]
  },
  {
   "cell_type": "markdown",
   "metadata": {},
   "source": [
    "### Checking DataType and nulls values"
   ]
  },
  {
   "cell_type": "code",
   "execution_count": null,
   "metadata": {},
   "outputs": [],
   "source": [
    "# counting null in the dataset\n",
    "df.isna().sum()"
   ]
  },
  {
   "cell_type": "code",
   "execution_count": 4,
   "metadata": {},
   "outputs": [],
   "source": [
    "#dropping the null values \n",
    "df = df.dropna(subset=['Year_Published','Publisher'])"
   ]
  },
  {
   "cell_type": "code",
   "execution_count": null,
   "metadata": {},
   "outputs": [],
   "source": [
    "# checking if the nulls were successfully dropped \n",
    "df.isna().sum()"
   ]
  },
  {
   "cell_type": "code",
   "execution_count": null,
   "metadata": {},
   "outputs": [],
   "source": [
    "df.describe"
   ]
  },
  {
   "cell_type": "markdown",
   "metadata": {},
   "source": [
    "#### Checking Zero values count in the dataset"
   ]
  },
  {
   "cell_type": "code",
   "execution_count": null,
   "metadata": {},
   "outputs": [],
   "source": [
    "#count zero values in runtime data using group by\n",
    "df.groupby(\"Total Sales\").count()"
   ]
  },
  {
   "cell_type": "markdown",
   "metadata": {},
   "source": [
    "since the zero count is less we are going to drop them"
   ]
  },
  {
   "cell_type": "code",
   "execution_count": 5,
   "metadata": {},
   "outputs": [],
   "source": [
    "#dropping the zero values in runtime column\n",
    "df = df[df['Total Sales'] != 0]"
   ]
  },
  {
   "cell_type": "code",
   "execution_count": null,
   "metadata": {},
   "outputs": [],
   "source": [
    "df"
   ]
  },
  {
   "cell_type": "markdown",
   "metadata": {},
   "source": [
    "## EXPLORATORY DATA ANALYSIS"
   ]
  },
  {
   "cell_type": "markdown",
   "metadata": {},
   "source": [
    "Q1. \n",
    "How many people use PS4 in the world?"
   ]
  },
  {
   "cell_type": "code",
   "execution_count": 6,
   "metadata": {},
   "outputs": [
    {
     "name": "stdout",
     "output_type": "stream",
     "text": [
      "Total Sales:  595.4200000000001\n"
     ]
    }
   ],
   "source": [
    "# Printing the total sales made globally an the games\n",
    "sales = df['Total Sales'].sum()\n",
    "print(\"Total Sales: \", sales)"
   ]
  },
  {
   "cell_type": "markdown",
   "metadata": {},
   "source": [
    "Q2. \n",
    "Which Game on PS4 has the highest number of sales?"
   ]
  },
  {
   "cell_type": "code",
   "execution_count": 7,
   "metadata": {},
   "outputs": [
    {
     "name": "stdout",
     "output_type": "stream",
     "text": [
      "Game With The Highest Number of Sales:  Game              Grand Theft Auto V\n",
      "Year_Published                2014.0\n",
      "Genre                         Action\n",
      "Publisher             Rockstar Games\n",
      "North America                   6.06\n",
      "Europe                          9.71\n",
      "Japan                            0.6\n",
      "Rest of World                   3.02\n",
      "Total Sales                    19.39\n",
      "Name: 0, dtype: object\n"
     ]
    }
   ],
   "source": [
    "# Game with the most sales\n",
    "max = df.loc[df['Total Sales'].idxmax()]\n",
    "print(\"Game With The Highest Number of Sales: \", max)"
   ]
  },
  {
   "cell_type": "markdown",
   "metadata": {},
   "source": [
    "Q3.\n",
    "Which Game on PS4 has the lowest number of sales?"
   ]
  },
  {
   "cell_type": "code",
   "execution_count": 8,
   "metadata": {},
   "outputs": [
    {
     "name": "stdout",
     "output_type": "stream",
     "text": [
      "Game With The Lowest Number of Sales:  Game              Torment: Tides of Numenera\n",
      "Year_Published                        2017.0\n",
      "Genre                           Role-Playing\n",
      "Publisher                           Techland\n",
      "North America                           0.01\n",
      "Europe                                   0.0\n",
      "Japan                                    0.0\n",
      "Rest of World                            0.0\n",
      "Total Sales                             0.01\n",
      "Name: 678, dtype: object\n"
     ]
    }
   ],
   "source": [
    "# Game with the fewer sales\n",
    "min = df.loc[df['Total Sales'].idxmin()]\n",
    "print(\"Game With The Lowest Number of Sales: \", min)"
   ]
  },
  {
   "cell_type": "code",
   "execution_count": 14,
   "metadata": {},
   "outputs": [
    {
     "data": {
      "image/png": "[encoded data removed]",
      "text/plain": [
       "<Figure size 640x480 with 1 Axes>"
      ]
     },
     "metadata": {},
     "output_type": "display_data"
    }
   ],
   "source": [
    "# Graph showing the number of games published each year\n",
    "plt.bar(df[\"Year_Published\"], df[\"Total Sales\"])\n",
    "plt.xlabel =\"Year_Published\"\n",
    "plt.ylabel = \"Total Sales\"\n",
    "plt.show()"
   ]
  },
  {
   "cell_type": "code",
   "execution_count": null,
   "metadata": {},
   "outputs": [],
   "source": []
  }
 ],
 "metadata": {
  "colab": {
   "provenance": []
  },
  "kernelspec": {
   "display_name": "Python 3",
   "language": "python",
   "name": "python3"
  },
  "language_info": {
   "codemirror_mode": {
    "name": "ipython",
    "version": 3
   },
   "file_extension": ".py",
   "mimetype": "text/x-python",
   "name": "python",
   "nbconvert_exporter": "python",
   "pygments_lexer": "ipython3",
   "version": "3.11.5"
  }
 },
 "nbformat": 4,
 "nbformat_minor": 4
}
