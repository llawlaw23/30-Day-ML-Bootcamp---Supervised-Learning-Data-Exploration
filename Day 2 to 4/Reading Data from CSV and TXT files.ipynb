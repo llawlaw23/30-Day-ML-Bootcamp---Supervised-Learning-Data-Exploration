{
 "cells": [
  {
   "cell_type": "code",
   "execution_count": null,
   "id": "1acf235a-b794-4c23-aa5d-e54368b826f7",
   "metadata": {},
   "outputs": [],
   "source": [
    "import numpy as np\n",
    "import pandas as pd"
   ]
  },
  {
   "cell_type": "markdown",
   "id": "ce05e720-482a-4329-98ab-58eebcbc811e",
   "metadata": {},
   "source": [
    "#### Reading Data using python"
   ]
  },
  {
   "cell_type": "code",
   "execution_count": null,
   "id": "4a93608f-96c8-49a8-a0e4-d3e13b6eee55",
   "metadata": {},
   "outputs": [],
   "source": [
    "with open(\"new.csv\", \"r\") as fp:\n",
    "    print(fp)"
   ]
  },
  {
   "cell_type": "code",
   "execution_count": null,
   "id": "e16dc0af-0f88-4420-a110-0be453395dec",
   "metadata": {},
   "outputs": [],
   "source": [
    "with open(\"new.csv\", \"r\") as fp:\n",
    "    for index, line in enumerate(fp.readline()):\n",
    "        if (index < 10):\n",
    "            print(index, line)"
   ]
  },
  {
   "cell_type": "code",
   "execution_count": null,
   "id": "cd703013-0227-4b67-99f1-c892eaa5a40e",
   "metadata": {},
   "outputs": [],
   "source": [
    "with open(\"new.csv\", \"r\") as fp:\n",
    "    for index, line in enumerate(fp.readline()):\n",
    "        if (index < 10):\n",
    "            timestamp, price = line.split(\",\")\n",
    "            print(f\"{timestamp}: ${price}\")"
   ]
  },
  {
   "cell_type": "code",
   "execution_count": null,
   "id": "eefb3d9c-cab1-4d2f-bb3b-2cb2d850749a",
   "metadata": {},
   "outputs": [],
   "source": [
    "!head exam_review.cvs"
   ]
  },
  {
   "cell_type": "markdown",
   "id": "03983023-2df6-4653-8357-771acdeaac17",
   "metadata": {},
   "source": [
    "##### Using the CSV Module"
   ]
  },
  {
   "cell_type": "code",
   "execution_count": null,
   "id": "30699524-259b-47b4-9bc6-748de774acf5",
   "metadata": {},
   "outputs": [],
   "source": [
    "import csv"
   ]
  },
  {
   "cell_type": "code",
   "execution_count": null,
   "id": "86cc0757-10d0-4a5b-86bb-175bf7133ea2",
   "metadata": {},
   "outputs": [],
   "source": [
    "with open(\"new.csv\", \"r\") as fp:\n",
    "    reader = csv.reader(fp)\n",
    "    for index, (timestamp, price) in enumerate(reader):\n",
    "        if (index < 10):\n",
    "            print(f\"{timestamp}: ${price}\")"
   ]
  },
  {
   "cell_type": "markdown",
   "id": "7ac37540-4e9d-411a-9f40-69cbc8da707c",
   "metadata": {},
   "source": [
    "##### Reading with Pandas"
   ]
  },
  {
   "cell_type": "code",
   "execution_count": null,
   "id": "fa28be52-2528-4fb6-9e7c-cee07b4620d0",
   "metadata": {},
   "outputs": [],
   "source": [
    "pd.read_csv?"
   ]
  },
  {
   "cell_type": "code",
   "execution_count": null,
   "id": "8692ced6-34d7-45f9-a03d-66b694e99c07",
   "metadata": {},
   "outputs": [],
   "source": [
    "# using url\n",
    "csv_url = \"https://raw.githubusercontent.com/datasets/gbp/master/data/gbp.csv\"\n",
    "pd.read_csv(csv_url).head()"
   ]
  },
  {
   "cell_type": "code",
   "execution_count": null,
   "id": "c00fe073-29ee-465f-9ead-ef7665d90d12",
   "metadata": {},
   "outputs": [],
   "source": [
    "# Reading a local file\n",
    "law = pd.read_csv(\"new.csv\").head()\n",
    "law.head()"
   ]
  },
  {
   "cell_type": "code",
   "execution_count": null,
   "id": "814e4258-c6d5-47a9-92f8-6d125756eebd",
   "metadata": {},
   "outputs": [],
   "source": [
    "# Replacing missing values with NAN\n",
    "law = pd.read_csv(\"new.csv\",\n",
    "                  header = None,\n",
    "                  na_values =[\"-\"])\n",
    "law.head()"
   ]
  },
  {
   "cell_type": "code",
   "execution_count": null,
   "id": "a44dd3c1-535c-4067-86e9-2b852620ad68",
   "metadata": {},
   "outputs": [],
   "source": [
    "# Giving column names \n",
    "law = pd.read_csv(\"new.csv\",\n",
    "                  header = None,\n",
    "                  na_values =[\"-\"],\n",
    "                  names = [\"Timestamp\", \"Price\"])\n",
    "law.head()"
   ]
  },
  {
   "cell_type": "code",
   "execution_count": null,
   "id": "e77a9481-2757-474c-b1f6-b8cab6e1a2dd",
   "metadata": {},
   "outputs": [],
   "source": [
    "law.info()"
   ]
  },
  {
   "cell_type": "code",
   "execution_count": null,
   "id": "67d5ca10-ef8a-4909-8be0-babeec5fbd24",
   "metadata": {},
   "outputs": [],
   "source": [
    "# Giving column names \n",
    "law = pd.read_csv(\"new.csv\",\n",
    "                  header = None,\n",
    "                  na_values =[\"-\"],\n",
    "                  names = [\"Timestamp\", \"Price\"],\n",
    "                  dtype = {\"Price\": \"float\"})\n",
    "law.head()"
   ]
  },
  {
   "cell_type": "code",
   "execution_count": null,
   "id": "42065536-7f43-415e-a4a5-11de171c4196",
   "metadata": {},
   "outputs": [],
   "source": [
    "law.dtypes"
   ]
  },
  {
   "cell_type": "markdown",
   "id": "8e0d4e09-5456-4051-be78-bb6fd57c7d3c",
   "metadata": {},
   "source": [
    "#### Reading Data from SQL Database"
   ]
  },
  {
   "cell_type": "code",
   "execution_count": null,
   "id": "0203e01d-cf88-4072-a55f-ab6002e62561",
   "metadata": {},
   "outputs": [],
   "source": [
    "import sqlite3"
   ]
  },
  {
   "cell_type": "code",
   "execution_count": null,
   "id": "cc328902-b5e7-4cf3-9d87-f8c246ca600e",
   "metadata": {},
   "outputs": [],
   "source": [
    "# Sqlite3.connect() connects you to a database\n",
    "my = sqlite3.connect(\"chinook.db\")"
   ]
  },
  {
   "cell_type": "code",
   "execution_count": null,
   "id": "1ca26f13-a3bf-4ea6-9920-2981260b9ccf",
   "metadata": {},
   "outputs": [],
   "source": [
    "# A Cursor acts as a pointer \n",
    "cur = my.cursor()"
   ]
  },
  {
   "cell_type": "code",
   "execution_count": null,
   "id": "38e58fec-cb57-425f-b090-570cfb53c7c3",
   "metadata": {},
   "outputs": [],
   "source": [
    "cur.execute(\"SELECT * FROM employees LIMIT 5;\")"
   ]
  },
  {
   "cell_type": "code",
   "execution_count": null,
   "id": "59ea9496-d9cf-4350-a8ff-217430363ec7",
   "metadata": {},
   "outputs": [],
   "source": [
    "results = cur.fetchall()"
   ]
  },
  {
   "cell_type": "code",
   "execution_count": null,
   "id": "189fcbfd-8a3f-48ff-b012-07560209b662",
   "metadata": {},
   "outputs": [],
   "source": [
    "results"
   ]
  },
  {
   "cell_type": "code",
   "execution_count": null,
   "id": "974a254c-3d33-4170-b75d-d53a0b8b5dfd",
   "metadata": {},
   "outputs": [],
   "source": [
    "df = pd.DataFrame(results)"
   ]
  },
  {
   "cell_type": "code",
   "execution_count": null,
   "id": "386e62db-8adc-42c3-9658-3ec18cbc91fc",
   "metadata": {},
   "outputs": [],
   "source": [
    "df.head()"
   ]
  },
  {
   "cell_type": "code",
   "execution_count": null,
   "id": "c7ba0acf-acd7-4090-9547-9480afbfd416",
   "metadata": {},
   "outputs": [],
   "source": [
    "cur.close()\n",
    "conn.close()"
   ]
  },
  {
   "cell_type": "markdown",
   "id": "c76f1e56-9d1d-4630-8f6c-d34c1f2d3d72",
   "metadata": {},
   "source": [
    "#### Using Pandas read_sql method"
   ]
  },
  {
   "cell_type": "code",
   "execution_count": null,
   "id": "ca6c7a85-9e78-420f-9b5d-e41951d5abb1",
   "metadata": {},
   "outputs": [],
   "source": [
    "myf = sqlite3.connect(\"chinook.db\")"
   ]
  },
  {
   "cell_type": "code",
   "execution_count": null,
   "id": "9932c59b-757d-44ac-bac7-b80a6ee11e33",
   "metadata": {},
   "outputs": [],
   "source": [
    "df = pd.read_sql(\"SELECT * FROM employees;\", myf)"
   ]
  },
  {
   "cell_type": "code",
   "execution_count": null,
   "id": "3c156c99-a2dd-4e2d-82c5-3ce93f372580",
   "metadata": {},
   "outputs": [],
   "source": [
    "df.head()"
   ]
  },
  {
   "cell_type": "code",
   "execution_count": null,
   "id": "5f62be59-b353-4ba1-8a29-7f2d31077fcf",
   "metadata": {},
   "outputs": [],
   "source": [
    "law = pd.read_csv(\"SELECT * FROM employees;\", myf,\n",
    "                  index_col =\"EmployeeID\",\n",
    "                  parse_dates = [\"BirthDate\", \"HireDate\"])"
   ]
  },
  {
   "cell_type": "code",
   "execution_count": null,
   "id": "fe8d8060-ea21-4f12-a109-9689def891ea",
   "metadata": {},
   "outputs": [],
   "source": [
    "df.head()"
   ]
  },
  {
   "cell_type": "markdown",
   "id": "6b12d5f1-1e44-4ca1-a406-61c65874c505",
   "metadata": {},
   "source": [
    "#### Using Pandas read_sql_query method"
   ]
  },
  {
   "cell_type": "code",
   "execution_count": null,
   "id": "4955901c-38ca-4b20-84d2-e25560610fee",
   "metadata": {},
   "outputs": [],
   "source": [
    "iwu = sqlite3.connect(\"chinook.db\")"
   ]
  },
  {
   "cell_type": "code",
   "execution_count": null,
   "id": "de0726c0-de21-499c-ac35-85485de8496a",
   "metadata": {},
   "outputs": [],
   "source": [
    "df = pd.read_sql(\"SELECT * FROM employees;\", iwu)"
   ]
  },
  {
   "cell_type": "code",
   "execution_count": null,
   "id": "5b4db78b-20f0-49ae-ba24-0c4aa917ec68",
   "metadata": {},
   "outputs": [],
   "source": [
    "df.head()"
   ]
  },
  {
   "cell_type": "code",
   "execution_count": null,
   "id": "66d7ff67-2b8f-43e9-9c69-d75019ed3360",
   "metadata": {},
   "outputs": [],
   "source": [
    "law = pd.read_csv(\"SELECT * FROM employees;\", iwu,\n",
    "                  index_col =\"EmployeeID\",\n",
    "                  parse_dates = [\"BirthDate\", \"HireDate\"])"
   ]
  },
  {
   "cell_type": "code",
   "execution_count": null,
   "id": "a2ee7238-ba20-430d-b5fe-f8bdc463c6db",
   "metadata": {},
   "outputs": [],
   "source": [
    "df.head()"
   ]
  }
 ],
 "metadata": {
  "kernelspec": {
   "display_name": "Python 3 (ipykernel)",
   "language": "python",
   "name": "python3"
  },
  "language_info": {
   "codemirror_mode": {
    "name": "ipython",
    "version": 3
   },
   "file_extension": ".py",
   "mimetype": "text/x-python",
   "name": "python",
   "nbconvert_exporter": "python",
   "pygments_lexer": "ipython3",
   "version": "3.12.8"
  }
 },
 "nbformat": 4,
 "nbformat_minor": 5
}
