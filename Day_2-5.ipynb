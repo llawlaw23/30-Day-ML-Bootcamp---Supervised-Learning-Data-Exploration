{
 "cells": [
  {
   "cell_type": "markdown",
   "id": "5e98ad90-645e-4c3a-9647-a7359ae25311",
   "metadata": {},
   "source": [
    "## Data Analysis with Numpy, Pandas, Matplotlid and Seaborn"
   ]
  },
  {
   "cell_type": "markdown",
   "id": "e6f85396-51fc-4494-b304-36edf3f4d703",
   "metadata": {},
   "source": [
    "#### Data Analysis "
   ]
  },
  {
   "cell_type": "code",
   "execution_count": null,
   "id": "23f9a85c-8500-4f71-943f-c5006bb483b2",
   "metadata": {},
   "outputs": [],
   "source": [
    "This is the process of inspecting, cleaning, transforming and modelling of data.\n"
   ]
  },
  {
   "cell_type": "markdown",
   "id": "799f793c-d9e0-490a-842d-0057578f0b71",
   "metadata": {},
   "source": [
    "#### Numpy"
   ]
  },
  {
   "cell_type": "code",
   "execution_count": null,
   "id": "b5144d85-4c29-4487-bf0d-04b90caf9799",
   "metadata": {
    "jp-MarkdownHeadingCollapsed": true
   },
   "outputs": [],
   "source": [
    "numpy which stands for numerical python is a an open source mathematical and scientific library for python programming tasks. it offers a collection of high-level mathematical functions including support for multi-dimensional arrays, masked arrays and matrices. \n",
    "cc:techtarget.com\n",
    "in other to use the numpy library you will always have to import it "
   ]
  },
  {
   "cell_type": "code",
   "execution_count": null,
   "id": "8f41403a-f5f8-4352-9106-f689a956a87f",
   "metadata": {},
   "outputs": [],
   "source": [
    "import numpy as np"
   ]
  },
  {
   "cell_type": "markdown",
   "id": "aabd4498-bbdf-4407-a946-d172a3c2647c",
   "metadata": {},
   "source": [
    "#### Creating an Array"
   ]
  },
  {
   "cell_type": "code",
   "execution_count": null,
   "id": "a942aea2-5d7e-4988-a099-106236baeed5",
   "metadata": {},
   "outputs": [],
   "source": [
    "x = np.array([1, 2, 3, 4, 5])\n",
    "x"
   ]
  },
  {
   "cell_type": "markdown",
   "id": "9cbdbc9d-4eac-47df-9400-135ab8898a65",
   "metadata": {},
   "source": [
    "#### slicing and indexing arrays"
   ]
  },
  {
   "cell_type": "markdown",
   "id": "3922b728-8850-4a1a-95c2-a2098bee8ccd",
   "metadata": {},
   "source": [
    "#### indexing"
   ]
  },
  {
   "cell_type": "code",
   "execution_count": null,
   "id": "68678eeb-a741-45f6-bb7e-4005ed7398e8",
   "metadata": {},
   "outputs": [],
   "source": [
    "x[-1]"
   ]
  },
  {
   "cell_type": "code",
   "execution_count": null,
   "id": "619ee190-f9b6-48de-a986-5b706d82f461",
   "metadata": {},
   "outputs": [],
   "source": [
    "x[0]"
   ]
  },
  {
   "cell_type": "markdown",
   "id": "f65c09d1-a28e-41e1-a1a0-ba986e9c4f88",
   "metadata": {},
   "source": [
    "#### Slicing"
   ]
  },
  {
   "cell_type": "code",
   "execution_count": null,
   "id": "0961bfc5-9a94-4f02-bba8-6f65b09827ba",
   "metadata": {},
   "outputs": [],
   "source": [
    "x[:2]"
   ]
  },
  {
   "cell_type": "code",
   "execution_count": null,
   "id": "cce412bd-2c9c-4dea-8952-da5b48a1062b",
   "metadata": {},
   "outputs": [],
   "source": [
    "x[2:]"
   ]
  },
  {
   "cell_type": "markdown",
   "id": "84980ea6-e8d2-4656-a20c-ba5e72dda4f4",
   "metadata": {},
   "source": [
    "#### Numpy types"
   ]
  },
  {
   "cell_type": "code",
   "execution_count": null,
   "id": "1fbb0d4b-306c-4d9f-8bfb-adfe00975382",
   "metadata": {},
   "outputs": [],
   "source": [
    "x.dtype"
   ]
  },
  {
   "cell_type": "markdown",
   "id": "0e157dfe-2342-454d-a7b8-e322596359f4",
   "metadata": {},
   "source": [
    "#### Dimension and shape of Matrices"
   ]
  },
  {
   "cell_type": "code",
   "execution_count": null,
   "id": "24331521-6e86-4c9d-b0d0-7786e3d2b5f4",
   "metadata": {},
   "outputs": [],
   "source": [
    "a = np.arange(1,10).reshape(3,3)\n",
    "a"
   ]
  },
  {
   "cell_type": "code",
   "execution_count": null,
   "id": "01735cec-9b4c-4eb4-9e19-331f685f01ec",
   "metadata": {},
   "outputs": [],
   "source": [
    "a.shape"
   ]
  },
  {
   "cell_type": "code",
   "execution_count": null,
   "id": "524f9e9b-0203-4854-a593-361714344404",
   "metadata": {},
   "outputs": [],
   "source": [
    "a.size"
   ]
  },
  {
   "cell_type": "code",
   "execution_count": null,
   "id": "c946a43c-0a2b-453f-a95b-f516f8296f81",
   "metadata": {},
   "outputs": [],
   "source": [
    "a.ndim"
   ]
  },
  {
   "cell_type": "markdown",
   "id": "f1e0fcc8-9442-493c-b958-a2e884afb9fd",
   "metadata": {},
   "source": [
    "#### indexing"
   ]
  },
  {
   "cell_type": "code",
   "execution_count": null,
   "id": "6b776eae-531f-461f-be13-2248611dcf63",
   "metadata": {},
   "outputs": [],
   "source": [
    "a[1]"
   ]
  },
  {
   "cell_type": "code",
   "execution_count": 18,
   "id": "7604e1ab-8462-40b3-b7a1-994f0cc9099a",
   "metadata": {},
   "outputs": [
    {
     "data": {
      "text/plain": [
       "np.int64(4)"
      ]
     },
     "execution_count": 18,
     "metadata": {},
     "output_type": "execute_result"
    }
   ],
   "source": [
    "a[1,0]"
   ]
  },
  {
   "cell_type": "markdown",
   "id": "7a99459b-2438-47bc-bb1f-3ca4fbb62946",
   "metadata": {},
   "source": [
    "#### Slicing"
   ]
  },
  {
   "cell_type": "code",
   "execution_count": null,
   "id": "44fe2a8d-72d1-4bd6-b182-77945ac63539",
   "metadata": {},
   "outputs": [],
   "source": []
  }
 ],
 "metadata": {
  "kernelspec": {
   "display_name": "Python 3 (ipykernel)",
   "language": "python",
   "name": "python3"
  },
  "language_info": {
   "codemirror_mode": {
    "name": "ipython",
    "version": 3
   },
   "file_extension": ".py",
   "mimetype": "text/x-python",
   "name": "python",
   "nbconvert_exporter": "python",
   "pygments_lexer": "ipython3",
   "version": "3.12.8"
  }
 },
 "nbformat": 4,
 "nbformat_minor": 5
}
