{
  "cells": [
    {
      "cell_type": "markdown",
      "metadata": {
        "id": "Qh0xLYRSqdUJ"
      },
      "source": [
        "# Data Visualization\n",
        "Using Matplotlib and Seadorn"
      ]
    },
    {
      "cell_type": "code",
      "execution_count": 1,
      "metadata": {
        "id": "J0i14nX5qr7C"
      },
      "outputs": [],
      "source": [
        "import matplotlib.pyplot as plt\n",
        "import plotly.express as px\n",
        "from plotly.offline import iplot\n",
        "import seaborn as sns\n",
        "import pandas as pd\n",
        "import numpy as np"
      ]
    },
    {
      "cell_type": "code",
      "execution_count": 2,
      "metadata": {
        "colab": {
          "base_uri": "https://localhost:8080/",
          "height": 430
        },
        "id": "qzimmElAqves",
        "outputId": "b4483583-9e95-4525-8333-029196d7ab00"
      },
      "outputs": [
        {
          "data": {
            "image/png": "[encoded data removed]",
            "text/plain": [
              "<Figure size 640x480 with 1 Axes>"
            ]
          },
          "metadata": {},
          "output_type": "display_data"
        }
      ],
      "source": [
        "# The plot function\n",
        "plt.plot([2, 14, 8, 5, 10, 4])\n",
        "plt.show()"
      ]
    },
    {
      "cell_type": "code",
      "execution_count": null,
      "metadata": {
        "colab": {
          "base_uri": "https://localhost:8080/",
          "height": 255
        },
        "id": "NHvfXy1frHF6",
        "outputId": "8da97e15-7bc6-4b4d-b917-311256f3bbe3"
      },
      "outputs": [],
      "source": [
        "law = pd.read_csv('test.csv')\n",
        "law.dropna( axis=1, inplace=True)\n",
        "law.head()"
      ]
    },
    {
      "cell_type": "code",
      "execution_count": null,
      "metadata": {
        "colab": {
          "base_uri": "https://localhost:8080/"
        },
        "id": "6o-K-sqVOGYb",
        "outputId": "ca7ebedb-33a9-43f6-e9a9-6869bb493764"
      },
      "outputs": [],
      "source": [
        "# Checking the various columns in the DataFrame\n",
        "law.columns"
      ]
    },
    {
      "cell_type": "code",
      "execution_count": null,
      "metadata": {
        "colab": {
          "base_uri": "https://localhost:8080/"
        },
        "id": "tgTurf-D4P39",
        "outputId": "0b626d9b-45d7-4ced-d22c-6c139e9d13eb"
      },
      "outputs": [],
      "source": [
        "law.info()"
      ]
    },
    {
      "cell_type": "code",
      "execution_count": null,
      "metadata": {
        "colab": {
          "base_uri": "https://localhost:8080/",
          "height": 349
        },
        "id": "uBNFaPmqOfLM",
        "outputId": "721228fd-4eb5-40d8-a6e8-c77b47301b51"
      },
      "outputs": [],
      "source": [
        "law.groupby(\"PoolArea\").count()"
      ]
    },
    {
      "cell_type": "code",
      "execution_count": null,
      "metadata": {
        "colab": {
          "base_uri": "https://localhost:8080/",
          "height": 443
        },
        "id": "hNk3KH9UOt6v",
        "outputId": "5c59b6be-1156-404c-ef91-edb796a69009"
      },
      "outputs": [],
      "source": [
        "# Changing zeros to NaN\n",
        "law.replace(0, \"-\")"
      ]
    },
    {
      "cell_type": "code",
      "execution_count": null,
      "metadata": {
        "colab": {
          "base_uri": "https://localhost:8080/",
          "height": 475
        },
        "id": "-J9oZOKtPyXM",
        "outputId": "f926da7d-d2ee-4840-85ba-6809e90d8d76"
      },
      "outputs": [],
      "source": [
        "law.groupby(\"2ndFlrSF\").count()"
      ]
    },
    {
      "cell_type": "code",
      "execution_count": null,
      "metadata": {
        "colab": {
          "base_uri": "https://localhost:8080/",
          "height": 449
        },
        "id": "_Uxp_VDlRH2z",
        "outputId": "62a003e2-7ed4-4ab3-ef51-f2b150791001"
      },
      "outputs": [],
      "source": [
        "# Scatter Graph\n",
        "plt.scatter(x = law[\"2ndFlrSF\"],  y = law[\"LotArea\"])\n",
        "plt.ylabel(\"LotArea\")\n",
        "plt.xlabel(\"2ndFlrSF\")\n",
        "plt.show()"
      ]
    },
    {
      "cell_type": "code",
      "execution_count": null,
      "metadata": {
        "colab": {
          "base_uri": "https://localhost:8080/",
          "height": 449
        },
        "id": "DrmVCLcHQH6V",
        "outputId": "5d8377c7-0e4c-4f65-b419-2ea5dbcb0fe4"
      },
      "outputs": [],
      "source": [
        "# Bar Graph\n",
        "plt.bar(law[\"2ndFlrSF\"], law[\"LotArea\"])\n",
        "plt.ylabel(\"LotArea\")\n",
        "plt.xlabel(\"2ndFlrSF\")\n",
        "plt.show()"
      ]
    },
    {
      "cell_type": "code",
      "execution_count": null,
      "metadata": {
        "id": "YtseVq6bR9tm"
      },
      "outputs": [],
      "source": [
        "# Pie Chart\n",
        "values = data[\"WoodDeckSF\"].count(), data[\"OpenPorchSF\"].count(), data[\"MSSubClass\"].count(), data[\"LotArea\"].count()\n",
        "labels = [\"WoodDeckSF\", \"OpenPorchSF\", \"MSSubClass\", \"LotArea\"]\n",
        "plt.pie(values, labels=labels, autopct='%1.1f%%')\n",
        "plt.title(\"My Trial\")\n",
        "plt.show()"
      ]
    },
    {
      "cell_type": "code",
      "execution_count": null,
      "metadata": {},
      "outputs": [],
      "source": [
        "x = law[\"LotArea\"]\n",
        "y = law[\"WoodDeckSF\"]\n",
        "plt.plot(x, y)\n",
        "plt.xlabel(\"X axis\")\n",
        "plt.ylabel(\"Y axis\")"
      ]
    },
    {
      "cell_type": "code",
      "execution_count": null,
      "metadata": {},
      "outputs": [],
      "source": []
    }
  ],
  "metadata": {
    "colab": {
      "provenance": []
    },
    "kernelspec": {
      "display_name": "Python 3",
      "name": "python3"
    },
    "language_info": {
      "codemirror_mode": {
        "name": "ipython",
        "version": 3
      },
      "file_extension": ".py",
      "mimetype": "text/x-python",
      "name": "python",
      "nbconvert_exporter": "python",
      "pygments_lexer": "ipython3",
      "version": "3.11.5"
    }
  },
  "nbformat": 4,
  "nbformat_minor": 0
}
