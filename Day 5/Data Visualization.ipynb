{
  "cells": [
    {
      "cell_type": "markdown",
      "metadata": {
        "id": "Qh0xLYRSqdUJ"
      },
      "source": [
        "# Data Visualization\n",
        "Using Matplotlib and Seadorn"
      ]
    },
    {
      "cell_type": "code",
      "execution_count": 11,
      "metadata": {
        "id": "J0i14nX5qr7C"
      },
      "outputs": [],
      "source": [
        "import matplotlib.pyplot as plt\n",
        "import plotly.express as px\n",
        "from plotly.offline import iplot\n",
        "import seaborn as sns\n",
        "import pandas as pd\n",
        "import numpy as np"
      ]
    },
    {
      "cell_type": "code",
      "execution_count": null,
      "metadata": {
        "colab": {
          "base_uri": "https://localhost:8080/",
          "height": 430
        },
        "id": "qzimmElAqves",
        "outputId": "b4483583-9e95-4525-8333-029196d7ab00"
      },
      "outputs": [],
      "source": [
        "# The plot function\n",
        "plt.plot([2, 14, 8, 5, 10, 4])\n",
        "plt.show()"
      ]
    },
    {
      "cell_type": "code",
      "execution_count": null,
      "metadata": {
        "colab": {
          "base_uri": "https://localhost:8080/",
          "height": 255
        },
        "id": "NHvfXy1frHF6",
        "outputId": "8da97e15-7bc6-4b4d-b917-311256f3bbe3"
      },
      "outputs": [],
      "source": [
        "law = pd.read_csv('test.csv')\n",
        "law.dropna( axis=1, inplace=True)\n",
        "law.head()"
      ]
    },
    {
      "cell_type": "code",
      "execution_count": null,
      "metadata": {
        "colab": {
          "base_uri": "https://localhost:8080/"
        },
        "id": "6o-K-sqVOGYb",
        "outputId": "ca7ebedb-33a9-43f6-e9a9-6869bb493764"
      },
      "outputs": [],
      "source": [
        "# Checking the various columns in the DataFrame\n",
        "law.columns"
      ]
    },
    {
      "cell_type": "code",
      "execution_count": null,
      "metadata": {
        "colab": {
          "base_uri": "https://localhost:8080/"
        },
        "id": "tgTurf-D4P39",
        "outputId": "0b626d9b-45d7-4ced-d22c-6c139e9d13eb"
      },
      "outputs": [],
      "source": [
        "law.info()"
      ]
    },
    {
      "cell_type": "code",
      "execution_count": null,
      "metadata": {
        "colab": {
          "base_uri": "https://localhost:8080/",
          "height": 349
        },
        "id": "uBNFaPmqOfLM",
        "outputId": "721228fd-4eb5-40d8-a6e8-c77b47301b51"
      },
      "outputs": [],
      "source": [
        "law.groupby(\"PoolArea\").count()"
      ]
    },
    {
      "cell_type": "code",
      "execution_count": null,
      "metadata": {
        "colab": {
          "base_uri": "https://localhost:8080/",
          "height": 443
        },
        "id": "hNk3KH9UOt6v",
        "outputId": "5c59b6be-1156-404c-ef91-edb796a69009"
      },
      "outputs": [],
      "source": [
        "# Changing zeros to NaN\n",
        "law.replace(0, \"-\")"
      ]
    },
    {
      "cell_type": "code",
      "execution_count": null,
      "metadata": {
        "colab": {
          "base_uri": "https://localhost:8080/",
          "height": 475
        },
        "id": "-J9oZOKtPyXM",
        "outputId": "f926da7d-d2ee-4840-85ba-6809e90d8d76"
      },
      "outputs": [],
      "source": [
        "law.groupby(\"2ndFlrSF\").count()"
      ]
    },
    {
      "cell_type": "code",
      "execution_count": null,
      "metadata": {
        "colab": {
          "base_uri": "https://localhost:8080/",
          "height": 449
        },
        "id": "_Uxp_VDlRH2z",
        "outputId": "62a003e2-7ed4-4ab3-ef51-f2b150791001"
      },
      "outputs": [],
      "source": [
        "# Scatter Graph\n",
        "plt.scatter(x = law[\"2ndFlrSF\"],  y = law[\"LotArea\"])\n",
        "plt.ylabel(\"LotArea\")\n",
        "plt.xlabel(\"2ndFlrSF\")\n",
        "plt.show()"
      ]
    },
    {
      "cell_type": "code",
      "execution_count": null,
      "metadata": {
        "colab": {
          "base_uri": "https://localhost:8080/",
          "height": 449
        },
        "id": "DrmVCLcHQH6V",
        "outputId": "5d8377c7-0e4c-4f65-b419-2ea5dbcb0fe4"
      },
      "outputs": [],
      "source": [
        "# Bar Graph\n",
        "plt.bar(law[\"2ndFlrSF\"], law[\"LotArea\"])\n",
        "plt.ylabel(\"LotArea\")\n",
        "plt.xlabel(\"2ndFlrSF\")\n",
        "plt.show()"
      ]
    },
    {
      "cell_type": "code",
      "execution_count": null,
      "metadata": {
        "id": "YtseVq6bR9tm"
      },
      "outputs": [],
      "source": [
        "# Pie Chart\n",
        "values = data[\"WoodDeckSF\"].count(), data[\"OpenPorchSF\"].count(), data[\"MSSubClass\"].count(), data[\"LotArea\"].count()\n",
        "labels = [\"WoodDeckSF\", \"OpenPorchSF\", \"MSSubClass\", \"LotArea\"]\n",
        "plt.pie(values, labels=labels, autopct='%1.1f%%')\n",
        "plt.title(\"My Trial\")\n",
        "plt.show()"
      ]
    },
    {
      "cell_type": "code",
      "execution_count": null,
      "metadata": {},
      "outputs": [],
      "source": [
        "x = law[\"LotArea\"]\n",
        "y = law[\"WoodDeckSF\"]\n",
        "plt.plot(x, y)\n",
        "plt.xlabel(\"X axis\")\n",
        "plt.ylabel(\"Y axis\")"
      ]
    },
    {
      "cell_type": "code",
      "execution_count": 4,
      "metadata": {},
      "outputs": [
        {
          "data": {
            "text/html": [
              "<div>\n",
              "<style scoped>\n",
              "    .dataframe tbody tr th:only-of-type {\n",
              "        vertical-align: middle;\n",
              "    }\n",
              "\n",
              "    .dataframe tbody tr th {\n",
              "        vertical-align: top;\n",
              "    }\n",
              "\n",
              "    .dataframe thead th {\n",
              "        text-align: right;\n",
              "    }\n",
              "</style>\n",
              "<table border=\"1\" class=\"dataframe\">\n",
              "  <thead>\n",
              "    <tr style=\"text-align: right;\">\n",
              "      <th></th>\n",
              "      <th>gender</th>\n",
              "      <th>race/ethnicity</th>\n",
              "      <th>parental level of education</th>\n",
              "      <th>lunch</th>\n",
              "      <th>test preparation course</th>\n",
              "      <th>math score</th>\n",
              "      <th>reading score</th>\n",
              "      <th>writing score</th>\n",
              "    </tr>\n",
              "  </thead>\n",
              "  <tbody>\n",
              "    <tr>\n",
              "      <th>0</th>\n",
              "      <td>female</td>\n",
              "      <td>group B</td>\n",
              "      <td>bachelor's degree</td>\n",
              "      <td>standard</td>\n",
              "      <td>none</td>\n",
              "      <td>72</td>\n",
              "      <td>72</td>\n",
              "      <td>74</td>\n",
              "    </tr>\n",
              "    <tr>\n",
              "      <th>1</th>\n",
              "      <td>female</td>\n",
              "      <td>group C</td>\n",
              "      <td>some college</td>\n",
              "      <td>standard</td>\n",
              "      <td>completed</td>\n",
              "      <td>69</td>\n",
              "      <td>90</td>\n",
              "      <td>88</td>\n",
              "    </tr>\n",
              "    <tr>\n",
              "      <th>2</th>\n",
              "      <td>female</td>\n",
              "      <td>group B</td>\n",
              "      <td>master's degree</td>\n",
              "      <td>standard</td>\n",
              "      <td>none</td>\n",
              "      <td>90</td>\n",
              "      <td>95</td>\n",
              "      <td>93</td>\n",
              "    </tr>\n",
              "    <tr>\n",
              "      <th>3</th>\n",
              "      <td>male</td>\n",
              "      <td>group A</td>\n",
              "      <td>associate's degree</td>\n",
              "      <td>free/reduced</td>\n",
              "      <td>none</td>\n",
              "      <td>47</td>\n",
              "      <td>57</td>\n",
              "      <td>44</td>\n",
              "    </tr>\n",
              "    <tr>\n",
              "      <th>4</th>\n",
              "      <td>male</td>\n",
              "      <td>group C</td>\n",
              "      <td>some college</td>\n",
              "      <td>standard</td>\n",
              "      <td>none</td>\n",
              "      <td>76</td>\n",
              "      <td>78</td>\n",
              "      <td>75</td>\n",
              "    </tr>\n",
              "  </tbody>\n",
              "</table>\n",
              "</div>"
            ],
            "text/plain": [
              "   gender race/ethnicity parental level of education         lunch  \\\n",
              "0  female        group B           bachelor's degree      standard   \n",
              "1  female        group C                some college      standard   \n",
              "2  female        group B             master's degree      standard   \n",
              "3    male        group A          associate's degree  free/reduced   \n",
              "4    male        group C                some college      standard   \n",
              "\n",
              "  test preparation course  math score  reading score  writing score  \n",
              "0                    none          72             72             74  \n",
              "1               completed          69             90             88  \n",
              "2                    none          90             95             93  \n",
              "3                    none          47             57             44  \n",
              "4                    none          76             78             75  "
            ]
          },
          "execution_count": 4,
          "metadata": {},
          "output_type": "execute_result"
        }
      ],
      "source": [
        "law = pd.read_csv(\"StudentsPerformance.csv\")\n",
        "law.head()"
      ]
    },
    {
      "cell_type": "code",
      "execution_count": 9,
      "metadata": {},
      "outputs": [
        {
          "data": {
            "text/html": [
              "<div>\n",
              "<style scoped>\n",
              "    .dataframe tbody tr th:only-of-type {\n",
              "        vertical-align: middle;\n",
              "    }\n",
              "\n",
              "    .dataframe tbody tr th {\n",
              "        vertical-align: top;\n",
              "    }\n",
              "\n",
              "    .dataframe thead th {\n",
              "        text-align: right;\n",
              "    }\n",
              "</style>\n",
              "<table border=\"1\" class=\"dataframe\">\n",
              "  <thead>\n",
              "    <tr style=\"text-align: right;\">\n",
              "      <th></th>\n",
              "      <th>gender</th>\n",
              "      <th>race/ethnicity</th>\n",
              "      <th>parental level of education</th>\n",
              "      <th>lunch</th>\n",
              "      <th>test preparation course</th>\n",
              "      <th>math score</th>\n",
              "      <th>reading score</th>\n",
              "      <th>writing score</th>\n",
              "      <th>Average Score</th>\n",
              "    </tr>\n",
              "  </thead>\n",
              "  <tbody>\n",
              "    <tr>\n",
              "      <th>0</th>\n",
              "      <td>female</td>\n",
              "      <td>group B</td>\n",
              "      <td>bachelor's degree</td>\n",
              "      <td>standard</td>\n",
              "      <td>none</td>\n",
              "      <td>72</td>\n",
              "      <td>72</td>\n",
              "      <td>74</td>\n",
              "      <td>72.7</td>\n",
              "    </tr>\n",
              "    <tr>\n",
              "      <th>1</th>\n",
              "      <td>female</td>\n",
              "      <td>group C</td>\n",
              "      <td>some college</td>\n",
              "      <td>standard</td>\n",
              "      <td>completed</td>\n",
              "      <td>69</td>\n",
              "      <td>90</td>\n",
              "      <td>88</td>\n",
              "      <td>82.3</td>\n",
              "    </tr>\n",
              "    <tr>\n",
              "      <th>2</th>\n",
              "      <td>female</td>\n",
              "      <td>group B</td>\n",
              "      <td>master's degree</td>\n",
              "      <td>standard</td>\n",
              "      <td>none</td>\n",
              "      <td>90</td>\n",
              "      <td>95</td>\n",
              "      <td>93</td>\n",
              "      <td>92.7</td>\n",
              "    </tr>\n",
              "    <tr>\n",
              "      <th>3</th>\n",
              "      <td>male</td>\n",
              "      <td>group A</td>\n",
              "      <td>associate's degree</td>\n",
              "      <td>free/reduced</td>\n",
              "      <td>none</td>\n",
              "      <td>47</td>\n",
              "      <td>57</td>\n",
              "      <td>44</td>\n",
              "      <td>49.3</td>\n",
              "    </tr>\n",
              "    <tr>\n",
              "      <th>4</th>\n",
              "      <td>male</td>\n",
              "      <td>group C</td>\n",
              "      <td>some college</td>\n",
              "      <td>standard</td>\n",
              "      <td>none</td>\n",
              "      <td>76</td>\n",
              "      <td>78</td>\n",
              "      <td>75</td>\n",
              "      <td>76.3</td>\n",
              "    </tr>\n",
              "  </tbody>\n",
              "</table>\n",
              "</div>"
            ],
            "text/plain": [
              "   gender race/ethnicity parental level of education         lunch  \\\n",
              "0  female        group B           bachelor's degree      standard   \n",
              "1  female        group C                some college      standard   \n",
              "2  female        group B             master's degree      standard   \n",
              "3    male        group A          associate's degree  free/reduced   \n",
              "4    male        group C                some college      standard   \n",
              "\n",
              "  test preparation course  math score  reading score  writing score  \\\n",
              "0                    none          72             72             74   \n",
              "1               completed          69             90             88   \n",
              "2                    none          90             95             93   \n",
              "3                    none          47             57             44   \n",
              "4                    none          76             78             75   \n",
              "\n",
              "   Average Score  \n",
              "0           72.7  \n",
              "1           82.3  \n",
              "2           92.7  \n",
              "3           49.3  \n",
              "4           76.3  "
            ]
          },
          "execution_count": 9,
          "metadata": {},
          "output_type": "execute_result"
        }
      ],
      "source": [
        "law[\"Average Score\"] = (law[\"math score\"] + law[\"reading score\"] + law[\"writing score\"]) / 3\n",
        "law[\"Average Score\"] = law[\"Average Score\"].round(1)\n",
        "law.head()"
      ]
    },
    {
      "cell_type": "code",
      "execution_count": null,
      "metadata": {},
      "outputs": [],
      "source": [
        "law.describe().T"
      ]
    },
    {
      "cell_type": "code",
      "execution_count": 5,
      "metadata": {},
      "outputs": [
        {
          "data": {
            "text/plain": [
              "gender                         0\n",
              "race/ethnicity                 0\n",
              "parental level of education    0\n",
              "lunch                          0\n",
              "test preparation course        0\n",
              "math score                     0\n",
              "reading score                  0\n",
              "writing score                  0\n",
              "dtype: int64"
            ]
          },
          "execution_count": 5,
          "metadata": {},
          "output_type": "execute_result"
        }
      ],
      "source": [
        "law.isnull().sum()"
      ]
    },
    {
      "cell_type": "code",
      "execution_count": null,
      "metadata": {},
      "outputs": [],
      "source": [
        "law.sample(5)"
      ]
    },
    {
      "cell_type": "code",
      "execution_count": 12,
      "metadata": {},
      "outputs": [
        {
          "data": {
            "text/plain": [
              "gender\n",
              "female    518\n",
              "male      482\n",
              "Name: count, dtype: int64"
            ]
          },
          "execution_count": 12,
          "metadata": {},
          "output_type": "execute_result"
        }
      ],
      "source": [
        "law[\"gender\"].value_counts()"
      ]
    },
    {
      "cell_type": "code",
      "execution_count": 13,
      "metadata": {},
      "outputs": [
        {
          "data": {
            "application/vnd.plotly.v1+json": {
              "config": {
                "linkText": "Export to plot.ly",
                "plotlyServerURL": "https://plot.ly",
                "showLink": false
              },
              "data": [
                {
                  "customdata": [
                    [
                      "female"
                    ],
                    [
                      "female"
                    ],
                    [
                      "female"
                    ],
                    [
                      "male"
                    ],
                    [
                      "male"
                    ],
                    [
                      "female"
                    ],
                    [
                      "female"
                    ],
                    [
                      "male"
                    ],
                    [
                      "male"
                    ],
                    [
                      "female"
                    ],
                    [
                      "male"
                    ],
                    [
                      "male"
                    ],
                    [
                      "female"
                    ],
                    [
                      "male"
                    ],
                    [
                      "female"
                    ],
                    [
                      "female"
                    ],
                    [
                      "male"
                    ],
                    [
                      "female"
                    ],
                    [
                      "male"
                    ],
                    [
                      "female"
                    ],
                    [
                      "male"
                    ],
                    [
                      "female"
                    ],
                    [
                      "male"
                    ],
                    [
                      "female"
                    ],
                    [
                      "male"
                    ],
                    [
                      "male"
                    ],
                    [
                      "male"
                    ],
                    [
                      "female"
                    ],
                    [
                      "male"
                    ],
                    [
                      "female"
                    ],
                    [
                      "female"
                    ],
                    [
                      "female"
                    ],
                    [
                      "female"
                    ],
                    [
                      "male"
                    ],
                    [
                      "male"
                    ],
                    [
                      "male"
                    ],
                    [
                      "female"
                    ],
                    [
                      "female"
                    ],
                    [
                      "female"
                    ],
                    [
                      "male"
                    ],
                    [
                      "male"
                    ],
                    [
                      "female"
                    ],
                    [
                      "female"
                    ],
                    [
                      "male"
                    ],
                    [
                      "female"
                    ],
                    [
                      "male"
                    ],
                    [
                      "female"
                    ],
                    [
                      "female"
                    ],
                    [
                      "female"
                    ],
                    [
                      "male"
                    ],
                    [
                      "male"
                    ],
                    [
                      "male"
                    ],
                    [
                      "male"
                    ],
                    [
                      "male"
                    ],
                    [
                      "female"
                    ],
                    [
                      "female"
                    ],
                    [
                      "female"
                    ],
                    [
                      "male"
                    ],
                    [
                      "male"
                    ],
                    [
                      "female"
                    ],
                    [
                      "male"
                    ],
                    [
                      "male"
                    ],
                    [
                      "male"
                    ],
                    [
                      "female"
                    ],
                    [
                      "female"
                    ],
                    [
                      "male"
                    ],
                    [
                      "male"
                    ],
                    [
                      "female"
                    ],
                    [
                      "male"
                    ],
                    [
                      "female"
                    ],
                    [
                      "female"
                    ],
                    [
                      "male"
                    ],
                    [
                      "female"
                    ],
                    [
                      "male"
                    ],
                    [
                      "male"
                    ],
                    [
                      "male"
                    ],
                    [
                      "male"
                    ],
                    [
                      "male"
                    ],
                    [
                      "female"
                    ],
                    [
                      "female"
                    ],
                    [
                      "female"
                    ],
                    [
                      "male"
                    ],
                    [
                      "male"
                    ],
                    [
                      "male"
                    ],
                    [
                      "male"
                    ],
                    [
                      "female"
                    ],
                    [
                      "female"
                    ],
                    [
                      "female"
                    ],
                    [
                      "female"
                    ],
                    [
                      "female"
                    ],
                    [
                      "female"
                    ],
                    [
                      "male"
                    ],
                    [
                      "male"
                    ],
                    [
                      "male"
                    ],
                    [
                      "female"
                    ],
                    [
                      "male"
                    ],
                    [
                      "male"
                    ],
                    [
                      "female"
                    ],
                    [
                      "female"
                    ],
                    [
                      "female"
                    ],
                    [
                      "male"
                    ],
                    [
                      "male"
                    ],
                    [
                      "female"
                    ],
                    [
                      "male"
                    ],
                    [
                      "male"
                    ],
                    [
                      "female"
                    ],
                    [
                      "female"
                    ],
                    [
                      "male"
                    ],
                    [
                      "female"
                    ],
                    [
                      "female"
                    ],
                    [
                      "female"
                    ],
                    [
                      "male"
                    ],
                    [
                      "male"
                    ],
                    [
                      "female"
                    ],
                    [
                      "female"
                    ],
                    [
                      "male"
                    ],
                    [
                      "female"
                    ],
                    [
                      "female"
                    ],
                    [
                      "female"
                    ],
                    [
                      "female"
                    ],
                    [
                      "female"
                    ],
                    [
                      "male"
                    ],
                    [
                      "female"
                    ],
                    [
                      "male"
                    ],
                    [
                      "male"
                    ],
                    [
                      "female"
                    ],
                    [
                      "male"
                    ],
                    [
                      "male"
                    ],
                    [
                      "male"
                    ],
                    [
                      "female"
                    ],
                    [
                      "male"
                    ],
                    [
                      "male"
                    ],
                    [
                      "male"
                    ],
                    [
                      "female"
                    ],
                    [
                      "male"
                    ],
                    [
                      "male"
                    ],
                    [
                      "male"
                    ],
                    [
                      "male"
                    ],
                    [
                      "female"
                    ],
                    [
                      "male"
                    ],
                    [
                      "female"
                    ],
                    [
                      "female"
                    ],
                    [
                      "female"
                    ],
                    [
                      "male"
                    ],
                    [
                      "male"
                    ],
                    [
                      "female"
                    ],
                    [
                      "male"
                    ],
                    [
                      "male"
                    ],
                    [
                      "female"
                    ],
                    [
                      "male"
                    ],
                    [
                      "male"
                    ],
                    [
                      "male"
                    ],
                    [
                      "female"
                    ],
                    [
                      "male"
                    ],
                    [
                      "male"
                    ],
                    [
                      "female"
                    ],
                    [
                      "female"
                    ],
                    [
                      "male"
                    ],
                    [
                      "female"
                    ],
                    [
                      "male"
                    ],
                    [
                      "male"
                    ],
                    [
                      "female"
                    ],
                    [
                      "male"
                    ],
                    [
                      "male"
                    ],
                    [
                      "female"
                    ],
                    [
                      "female"
                    ],
                    [
                      "male"
                    ],
                    [
                      "female"
                    ],
                    [
                      "female"
                    ],
                    [
                      "female"
                    ],
                    [
                      "male"
                    ],
                    [
                      "male"
                    ],
                    [
                      "female"
                    ],
                    [
                      "female"
                    ],
                    [
                      "female"
                    ],
                    [
                      "female"
                    ],
                    [
                      "female"
                    ],
                    [
                      "female"
                    ],
                    [
                      "female"
                    ],
                    [
                      "female"
                    ],
                    [
                      "male"
                    ],
                    [
                      "female"
                    ],
                    [
                      "female"
                    ],
                    [
                      "female"
                    ],
                    [
                      "male"
                    ],
                    [
                      "male"
                    ],
                    [
                      "male"
                    ],
                    [
                      "male"
                    ],
                    [
                      "male"
                    ],
                    [
                      "female"
                    ],
                    [
                      "female"
                    ],
                    [
                      "male"
                    ],
                    [
                      "female"
                    ],
                    [
                      "male"
                    ],
                    [
                      "female"
                    ],
                    [
                      "male"
                    ],
                    [
                      "male"
                    ],
                    [
                      "male"
                    ],
                    [
                      "female"
                    ],
                    [
                      "female"
                    ],
                    [
                      "female"
                    ],
                    [
                      "female"
                    ],
                    [
                      "male"
                    ],
                    [
                      "female"
                    ],
                    [
                      "male"
                    ],
                    [
                      "male"
                    ],
                    [
                      "male"
                    ],
                    [
                      "male"
                    ],
                    [
                      "female"
                    ],
                    [
                      "female"
                    ],
                    [
                      "male"
                    ],
                    [
                      "male"
                    ],
                    [
                      "female"
                    ],
                    [
                      "male"
                    ],
                    [
                      "male"
                    ],
                    [
                      "male"
                    ],
                    [
                      "female"
                    ],
                    [
                      "female"
                    ],
                    [
                      "male"
                    ],
                    [
                      "male"
                    ],
                    [
                      "female"
                    ],
                    [
                      "male"
                    ],
                    [
                      "female"
                    ],
                    [
                      "male"
                    ],
                    [
                      "female"
                    ],
                    [
                      "female"
                    ],
                    [
                      "female"
                    ],
                    [
                      "male"
                    ],
                    [
                      "male"
                    ],
                    [
                      "female"
                    ],
                    [
                      "male"
                    ],
                    [
                      "male"
                    ],
                    [
                      "female"
                    ],
                    [
                      "male"
                    ],
                    [
                      "male"
                    ],
                    [
                      "male"
                    ],
                    [
                      "male"
                    ],
                    [
                      "female"
                    ],
                    [
                      "male"
                    ],
                    [
                      "male"
                    ],
                    [
                      "male"
                    ],
                    [
                      "female"
                    ],
                    [
                      "female"
                    ],
                    [
                      "male"
                    ],
                    [
                      "male"
                    ],
                    [
                      "male"
                    ],
                    [
                      "male"
                    ],
                    [
                      "female"
                    ],
                    [
                      "female"
                    ],
                    [
                      "male"
                    ],
                    [
                      "male"
                    ],
                    [
                      "female"
                    ],
                    [
                      "female"
                    ],
                    [
                      "male"
                    ],
                    [
                      "male"
                    ],
                    [
                      "female"
                    ],
                    [
                      "female"
                    ],
                    [
                      "male"
                    ],
                    [
                      "female"
                    ],
                    [
                      "female"
                    ],
                    [
                      "female"
                    ],
                    [
                      "male"
                    ],
                    [
                      "female"
                    ],
                    [
                      "female"
                    ],
                    [
                      "male"
                    ],
                    [
                      "male"
                    ],
                    [
                      "female"
                    ],
                    [
                      "female"
                    ],
                    [
                      "female"
                    ],
                    [
                      "female"
                    ],
                    [
                      "male"
                    ],
                    [
                      "male"
                    ],
                    [
                      "female"
                    ],
                    [
                      "female"
                    ],
                    [
                      "male"
                    ],
                    [
                      "male"
                    ],
                    [
                      "female"
                    ],
                    [
                      "female"
                    ],
                    [
                      "female"
                    ],
                    [
                      "male"
                    ],
                    [
                      "male"
                    ],
                    [
                      "male"
                    ],
                    [
                      "female"
                    ],
                    [
                      "female"
                    ],
                    [
                      "female"
                    ],
                    [
                      "male"
                    ],
                    [
                      "male"
                    ],
                    [
                      "female"
                    ],
                    [
                      "male"
                    ],
                    [
                      "male"
                    ],
                    [
                      "male"
                    ],
                    [
                      "male"
                    ],
                    [
                      "male"
                    ],
                    [
                      "female"
                    ],
                    [
                      "male"
                    ],
                    [
                      "male"
                    ],
                    [
                      "male"
                    ],
                    [
                      "male"
                    ],
                    [
                      "male"
                    ],
                    [
                      "male"
                    ],
                    [
                      "male"
                    ],
                    [
                      "male"
                    ],
                    [
                      "female"
                    ],
                    [
                      "male"
                    ],
                    [
                      "female"
                    ],
                    [
                      "male"
                    ],
                    [
                      "male"
                    ],
                    [
                      "male"
                    ],
                    [
                      "female"
                    ],
                    [
                      "female"
                    ],
                    [
                      "female"
                    ],
                    [
                      "male"
                    ],
                    [
                      "male"
                    ],
                    [
                      "female"
                    ],
                    [
                      "female"
                    ],
                    [
                      "male"
                    ],
                    [
                      "female"
                    ],
                    [
                      "male"
                    ],
                    [
                      "male"
                    ],
                    [
                      "female"
                    ],
                    [
                      "female"
                    ],
                    [
                      "female"
                    ],
                    [
                      "female"
                    ],
                    [
                      "female"
                    ],
                    [
                      "female"
                    ],
                    [
                      "female"
                    ],
                    [
                      "male"
                    ],
                    [
                      "male"
                    ],
                    [
                      "male"
                    ],
                    [
                      "female"
                    ],
                    [
                      "male"
                    ],
                    [
                      "male"
                    ],
                    [
                      "male"
                    ],
                    [
                      "male"
                    ],
                    [
                      "female"
                    ],
                    [
                      "female"
                    ],
                    [
                      "male"
                    ],
                    [
                      "male"
                    ],
                    [
                      "female"
                    ],
                    [
                      "female"
                    ],
                    [
                      "male"
                    ],
                    [
                      "female"
                    ],
                    [
                      "female"
                    ],
                    [
                      "male"
                    ],
                    [
                      "male"
                    ],
                    [
                      "female"
                    ],
                    [
                      "male"
                    ],
                    [
                      "female"
                    ],
                    [
                      "male"
                    ],
                    [
                      "male"
                    ],
                    [
                      "female"
                    ],
                    [
                      "male"
                    ],
                    [
                      "female"
                    ],
                    [
                      "female"
                    ],
                    [
                      "female"
                    ],
                    [
                      "female"
                    ],
                    [
                      "male"
                    ],
                    [
                      "female"
                    ],
                    [
                      "male"
                    ],
                    [
                      "female"
                    ],
                    [
                      "female"
                    ],
                    [
                      "male"
                    ],
                    [
                      "female"
                    ],
                    [
                      "female"
                    ],
                    [
                      "male"
                    ],
                    [
                      "male"
                    ],
                    [
                      "male"
                    ],
                    [
                      "male"
                    ],
                    [
                      "female"
                    ],
                    [
                      "female"
                    ],
                    [
                      "male"
                    ],
                    [
                      "female"
                    ],
                    [
                      "male"
                    ],
                    [
                      "female"
                    ],
                    [
                      "female"
                    ],
                    [
                      "male"
                    ],
                    [
                      "female"
                    ],
                    [
                      "female"
                    ],
                    [
                      "female"
                    ],
                    [
                      "male"
                    ],
                    [
                      "female"
                    ],
                    [
                      "male"
                    ],
                    [
                      "male"
                    ],
                    [
                      "female"
                    ],
                    [
                      "female"
                    ],
                    [
                      "female"
                    ],
                    [
                      "female"
                    ],
                    [
                      "female"
                    ],
                    [
                      "female"
                    ],
                    [
                      "male"
                    ],
                    [
                      "male"
                    ],
                    [
                      "female"
                    ],
                    [
                      "male"
                    ],
                    [
                      "male"
                    ],
                    [
                      "female"
                    ],
                    [
                      "male"
                    ],
                    [
                      "female"
                    ],
                    [
                      "female"
                    ],
                    [
                      "male"
                    ],
                    [
                      "male"
                    ],
                    [
                      "female"
                    ],
                    [
                      "male"
                    ],
                    [
                      "female"
                    ],
                    [
                      "female"
                    ],
                    [
                      "female"
                    ],
                    [
                      "female"
                    ],
                    [
                      "male"
                    ],
                    [
                      "female"
                    ],
                    [
                      "female"
                    ],
                    [
                      "male"
                    ],
                    [
                      "female"
                    ],
                    [
                      "male"
                    ],
                    [
                      "male"
                    ],
                    [
                      "male"
                    ],
                    [
                      "female"
                    ],
                    [
                      "male"
                    ],
                    [
                      "male"
                    ],
                    [
                      "male"
                    ],
                    [
                      "male"
                    ],
                    [
                      "male"
                    ],
                    [
                      "female"
                    ],
                    [
                      "female"
                    ],
                    [
                      "female"
                    ],
                    [
                      "female"
                    ],
                    [
                      "male"
                    ],
                    [
                      "female"
                    ],
                    [
                      "male"
                    ],
                    [
                      "male"
                    ],
                    [
                      "male"
                    ],
                    [
                      "male"
                    ],
                    [
                      "male"
                    ],
                    [
                      "female"
                    ],
                    [
                      "male"
                    ],
                    [
                      "female"
                    ],
                    [
                      "male"
                    ],
                    [
                      "male"
                    ],
                    [
                      "male"
                    ],
                    [
                      "male"
                    ],
                    [
                      "male"
                    ],
                    [
                      "male"
                    ],
                    [
                      "female"
                    ],
                    [
                      "female"
                    ],
                    [
                      "female"
                    ],
                    [
                      "female"
                    ],
                    [
                      "male"
                    ],
                    [
                      "female"
                    ],
                    [
                      "male"
                    ],
                    [
                      "male"
                    ],
                    [
                      "male"
                    ],
                    [
                      "male"
                    ],
                    [
                      "female"
                    ],
                    [
                      "female"
                    ],
                    [
                      "female"
                    ],
                    [
                      "male"
                    ],
                    [
                      "female"
                    ],
                    [
                      "male"
                    ],
                    [
                      "female"
                    ],
                    [
                      "male"
                    ],
                    [
                      "female"
                    ],
                    [
                      "male"
                    ],
                    [
                      "male"
                    ],
                    [
                      "male"
                    ],
                    [
                      "female"
                    ],
                    [
                      "female"
                    ],
                    [
                      "male"
                    ],
                    [
                      "female"
                    ],
                    [
                      "female"
                    ],
                    [
                      "male"
                    ],
                    [
                      "female"
                    ],
                    [
                      "male"
                    ],
                    [
                      "female"
                    ],
                    [
                      "female"
                    ],
                    [
                      "female"
                    ],
                    [
                      "female"
                    ],
                    [
                      "female"
                    ],
                    [
                      "female"
                    ],
                    [
                      "male"
                    ],
                    [
                      "male"
                    ],
                    [
                      "female"
                    ],
                    [
                      "male"
                    ],
                    [
                      "male"
                    ],
                    [
                      "female"
                    ],
                    [
                      "male"
                    ],
                    [
                      "male"
                    ],
                    [
                      "female"
                    ],
                    [
                      "male"
                    ],
                    [
                      "male"
                    ],
                    [
                      "female"
                    ],
                    [
                      "male"
                    ],
                    [
                      "male"
                    ],
                    [
                      "female"
                    ],
                    [
                      "female"
                    ],
                    [
                      "female"
                    ],
                    [
                      "female"
                    ],
                    [
                      "female"
                    ],
                    [
                      "male"
                    ],
                    [
                      "female"
                    ],
                    [
                      "female"
                    ],
                    [
                      "female"
                    ],
                    [
                      "male"
                    ],
                    [
                      "female"
                    ],
                    [
                      "female"
                    ],
                    [
                      "male"
                    ],
                    [
                      "female"
                    ],
                    [
                      "female"
                    ],
                    [
                      "female"
                    ],
                    [
                      "male"
                    ],
                    [
                      "male"
                    ],
                    [
                      "male"
                    ],
                    [
                      "female"
                    ],
                    [
                      "male"
                    ],
                    [
                      "male"
                    ],
                    [
                      "male"
                    ],
                    [
                      "female"
                    ],
                    [
                      "female"
                    ],
                    [
                      "female"
                    ],
                    [
                      "female"
                    ],
                    [
                      "female"
                    ],
                    [
                      "female"
                    ],
                    [
                      "female"
                    ],
                    [
                      "male"
                    ],
                    [
                      "female"
                    ],
                    [
                      "male"
                    ],
                    [
                      "male"
                    ],
                    [
                      "male"
                    ],
                    [
                      "male"
                    ],
                    [
                      "male"
                    ],
                    [
                      "female"
                    ],
                    [
                      "female"
                    ],
                    [
                      "female"
                    ],
                    [
                      "female"
                    ],
                    [
                      "female"
                    ],
                    [
                      "male"
                    ],
                    [
                      "female"
                    ],
                    [
                      "male"
                    ],
                    [
                      "female"
                    ],
                    [
                      "male"
                    ],
                    [
                      "female"
                    ],
                    [
                      "male"
                    ],
                    [
                      "male"
                    ],
                    [
                      "male"
                    ],
                    [
                      "male"
                    ],
                    [
                      "female"
                    ],
                    [
                      "female"
                    ],
                    [
                      "female"
                    ],
                    [
                      "male"
                    ],
                    [
                      "female"
                    ],
                    [
                      "male"
                    ],
                    [
                      "female"
                    ],
                    [
                      "male"
                    ],
                    [
                      "male"
                    ],
                    [
                      "male"
                    ],
                    [
                      "female"
                    ],
                    [
                      "male"
                    ],
                    [
                      "male"
                    ],
                    [
                      "female"
                    ],
                    [
                      "female"
                    ],
                    [
                      "male"
                    ],
                    [
                      "female"
                    ],
                    [
                      "male"
                    ],
                    [
                      "female"
                    ],
                    [
                      "female"
                    ],
                    [
                      "male"
                    ],
                    [
                      "female"
                    ],
                    [
                      "male"
                    ],
                    [
                      "male"
                    ],
                    [
                      "female"
                    ],
                    [
                      "female"
                    ],
                    [
                      "male"
                    ],
                    [
                      "male"
                    ],
                    [
                      "male"
                    ],
                    [
                      "male"
                    ],
                    [
                      "female"
                    ],
                    [
                      "female"
                    ],
                    [
                      "female"
                    ],
                    [
                      "male"
                    ],
                    [
                      "male"
                    ],
                    [
                      "female"
                    ],
                    [
                      "female"
                    ],
                    [
                      "female"
                    ],
                    [
                      "female"
                    ],
                    [
                      "female"
                    ],
                    [
                      "female"
                    ],
                    [
                      "female"
                    ],
                    [
                      "female"
                    ],
                    [
                      "female"
                    ],
                    [
                      "female"
                    ],
                    [
                      "female"
                    ],
                    [
                      "female"
                    ],
                    [
                      "female"
                    ],
                    [
                      "male"
                    ],
                    [
                      "male"
                    ],
                    [
                      "male"
                    ],
                    [
                      "female"
                    ],
                    [
                      "female"
                    ],
                    [
                      "female"
                    ],
                    [
                      "male"
                    ],
                    [
                      "male"
                    ],
                    [
                      "female"
                    ],
                    [
                      "female"
                    ],
                    [
                      "female"
                    ],
                    [
                      "female"
                    ],
                    [
                      "female"
                    ],
                    [
                      "male"
                    ],
                    [
                      "male"
                    ],
                    [
                      "male"
                    ],
                    [
                      "female"
                    ],
                    [
                      "female"
                    ],
                    [
                      "female"
                    ],
                    [
                      "female"
                    ],
                    [
                      "male"
                    ],
                    [
                      "female"
                    ],
                    [
                      "male"
                    ],
                    [
                      "female"
                    ],
                    [
                      "female"
                    ],
                    [
                      "female"
                    ],
                    [
                      "female"
                    ],
                    [
                      "male"
                    ],
                    [
                      "male"
                    ],
                    [
                      "male"
                    ],
                    [
                      "female"
                    ],
                    [
                      "male"
                    ],
                    [
                      "male"
                    ],
                    [
                      "male"
                    ],
                    [
                      "female"
                    ],
                    [
                      "male"
                    ],
                    [
                      "male"
                    ],
                    [
                      "male"
                    ],
                    [
                      "male"
                    ],
                    [
                      "female"
                    ],
                    [
                      "male"
                    ],
                    [
                      "male"
                    ],
                    [
                      "female"
                    ],
                    [
                      "female"
                    ],
                    [
                      "male"
                    ],
                    [
                      "male"
                    ],
                    [
                      "female"
                    ],
                    [
                      "female"
                    ],
                    [
                      "male"
                    ],
                    [
                      "female"
                    ],
                    [
                      "male"
                    ],
                    [
                      "female"
                    ],
                    [
                      "female"
                    ],
                    [
                      "female"
                    ],
                    [
                      "male"
                    ],
                    [
                      "female"
                    ],
                    [
                      "female"
                    ],
                    [
                      "female"
                    ],
                    [
                      "female"
                    ],
                    [
                      "female"
                    ],
                    [
                      "male"
                    ],
                    [
                      "female"
                    ],
                    [
                      "female"
                    ],
                    [
                      "female"
                    ],
                    [
                      "female"
                    ],
                    [
                      "female"
                    ],
                    [
                      "male"
                    ],
                    [
                      "male"
                    ],
                    [
                      "female"
                    ],
                    [
                      "male"
                    ],
                    [
                      "male"
                    ],
                    [
                      "male"
                    ],
                    [
                      "female"
                    ],
                    [
                      "female"
                    ],
                    [
                      "male"
                    ],
                    [
                      "female"
                    ],
                    [
                      "female"
                    ],
                    [
                      "female"
                    ],
                    [
                      "male"
                    ],
                    [
                      "male"
                    ],
                    [
                      "female"
                    ],
                    [
                      "male"
                    ],
                    [
                      "female"
                    ],
                    [
                      "female"
                    ],
                    [
                      "female"
                    ],
                    [
                      "female"
                    ],
                    [
                      "female"
                    ],
                    [
                      "female"
                    ],
                    [
                      "male"
                    ],
                    [
                      "male"
                    ],
                    [
                      "female"
                    ],
                    [
                      "male"
                    ],
                    [
                      "male"
                    ],
                    [
                      "female"
                    ],
                    [
                      "male"
                    ],
                    [
                      "female"
                    ],
                    [
                      "male"
                    ],
                    [
                      "male"
                    ],
                    [
                      "male"
                    ],
                    [
                      "male"
                    ],
                    [
                      "female"
                    ],
                    [
                      "female"
                    ],
                    [
                      "female"
                    ],
                    [
                      "female"
                    ],
                    [
                      "female"
                    ],
                    [
                      "female"
                    ],
                    [
                      "female"
                    ],
                    [
                      "female"
                    ],
                    [
                      "female"
                    ],
                    [
                      "male"
                    ],
                    [
                      "female"
                    ],
                    [
                      "female"
                    ],
                    [
                      "male"
                    ],
                    [
                      "female"
                    ],
                    [
                      "female"
                    ],
                    [
                      "male"
                    ],
                    [
                      "male"
                    ],
                    [
                      "male"
                    ],
                    [
                      "male"
                    ],
                    [
                      "female"
                    ],
                    [
                      "male"
                    ],
                    [
                      "female"
                    ],
                    [
                      "female"
                    ],
                    [
                      "male"
                    ],
                    [
                      "female"
                    ],
                    [
                      "female"
                    ],
                    [
                      "male"
                    ],
                    [
                      "female"
                    ],
                    [
                      "female"
                    ],
                    [
                      "male"
                    ],
                    [
                      "female"
                    ],
                    [
                      "male"
                    ],
                    [
                      "female"
                    ],
                    [
                      "male"
                    ],
                    [
                      "male"
                    ],
                    [
                      "male"
                    ],
                    [
                      "female"
                    ],
                    [
                      "male"
                    ],
                    [
                      "female"
                    ],
                    [
                      "male"
                    ],
                    [
                      "female"
                    ],
                    [
                      "male"
                    ],
                    [
                      "female"
                    ],
                    [
                      "male"
                    ],
                    [
                      "female"
                    ],
                    [
                      "male"
                    ],
                    [
                      "male"
                    ],
                    [
                      "female"
                    ],
                    [
                      "male"
                    ],
                    [
                      "male"
                    ],
                    [
                      "male"
                    ],
                    [
                      "female"
                    ],
                    [
                      "female"
                    ],
                    [
                      "female"
                    ],
                    [
                      "male"
                    ],
                    [
                      "male"
                    ],
                    [
                      "male"
                    ],
                    [
                      "male"
                    ],
                    [
                      "female"
                    ],
                    [
                      "male"
                    ],
                    [
                      "male"
                    ],
                    [
                      "male"
                    ],
                    [
                      "male"
                    ],
                    [
                      "female"
                    ],
                    [
                      "male"
                    ],
                    [
                      "female"
                    ],
                    [
                      "male"
                    ],
                    [
                      "male"
                    ],
                    [
                      "female"
                    ],
                    [
                      "male"
                    ],
                    [
                      "female"
                    ],
                    [
                      "female"
                    ],
                    [
                      "male"
                    ],
                    [
                      "female"
                    ],
                    [
                      "male"
                    ],
                    [
                      "female"
                    ],
                    [
                      "female"
                    ],
                    [
                      "male"
                    ],
                    [
                      "female"
                    ],
                    [
                      "male"
                    ],
                    [
                      "male"
                    ],
                    [
                      "male"
                    ],
                    [
                      "female"
                    ],
                    [
                      "female"
                    ],
                    [
                      "male"
                    ],
                    [
                      "female"
                    ],
                    [
                      "female"
                    ],
                    [
                      "female"
                    ],
                    [
                      "female"
                    ],
                    [
                      "male"
                    ],
                    [
                      "female"
                    ],
                    [
                      "female"
                    ],
                    [
                      "female"
                    ],
                    [
                      "female"
                    ],
                    [
                      "male"
                    ],
                    [
                      "female"
                    ],
                    [
                      "female"
                    ],
                    [
                      "female"
                    ],
                    [
                      "male"
                    ],
                    [
                      "female"
                    ],
                    [
                      "female"
                    ],
                    [
                      "female"
                    ],
                    [
                      "male"
                    ],
                    [
                      "male"
                    ],
                    [
                      "female"
                    ],
                    [
                      "female"
                    ],
                    [
                      "male"
                    ],
                    [
                      "female"
                    ],
                    [
                      "male"
                    ],
                    [
                      "female"
                    ],
                    [
                      "male"
                    ],
                    [
                      "male"
                    ],
                    [
                      "female"
                    ],
                    [
                      "female"
                    ],
                    [
                      "female"
                    ],
                    [
                      "male"
                    ],
                    [
                      "female"
                    ],
                    [
                      "female"
                    ],
                    [
                      "male"
                    ],
                    [
                      "male"
                    ],
                    [
                      "male"
                    ],
                    [
                      "male"
                    ],
                    [
                      "female"
                    ],
                    [
                      "male"
                    ],
                    [
                      "female"
                    ],
                    [
                      "male"
                    ],
                    [
                      "female"
                    ],
                    [
                      "male"
                    ],
                    [
                      "female"
                    ],
                    [
                      "female"
                    ],
                    [
                      "female"
                    ],
                    [
                      "female"
                    ],
                    [
                      "male"
                    ],
                    [
                      "female"
                    ],
                    [
                      "female"
                    ],
                    [
                      "male"
                    ],
                    [
                      "female"
                    ],
                    [
                      "female"
                    ],
                    [
                      "female"
                    ],
                    [
                      "male"
                    ],
                    [
                      "female"
                    ],
                    [
                      "female"
                    ],
                    [
                      "male"
                    ],
                    [
                      "female"
                    ],
                    [
                      "male"
                    ],
                    [
                      "female"
                    ],
                    [
                      "male"
                    ],
                    [
                      "female"
                    ],
                    [
                      "male"
                    ],
                    [
                      "female"
                    ],
                    [
                      "female"
                    ],
                    [
                      "male"
                    ],
                    [
                      "female"
                    ],
                    [
                      "male"
                    ],
                    [
                      "female"
                    ],
                    [
                      "male"
                    ],
                    [
                      "male"
                    ],
                    [
                      "male"
                    ],
                    [
                      "female"
                    ],
                    [
                      "male"
                    ],
                    [
                      "male"
                    ],
                    [
                      "female"
                    ],
                    [
                      "female"
                    ],
                    [
                      "male"
                    ],
                    [
                      "male"
                    ],
                    [
                      "female"
                    ],
                    [
                      "male"
                    ],
                    [
                      "female"
                    ],
                    [
                      "male"
                    ],
                    [
                      "male"
                    ],
                    [
                      "female"
                    ],
                    [
                      "female"
                    ],
                    [
                      "male"
                    ],
                    [
                      "female"
                    ],
                    [
                      "male"
                    ],
                    [
                      "male"
                    ],
                    [
                      "male"
                    ],
                    [
                      "male"
                    ],
                    [
                      "male"
                    ],
                    [
                      "male"
                    ],
                    [
                      "male"
                    ],
                    [
                      "female"
                    ],
                    [
                      "male"
                    ],
                    [
                      "male"
                    ],
                    [
                      "female"
                    ],
                    [
                      "male"
                    ],
                    [
                      "male"
                    ],
                    [
                      "male"
                    ],
                    [
                      "female"
                    ],
                    [
                      "female"
                    ],
                    [
                      "male"
                    ],
                    [
                      "female"
                    ],
                    [
                      "female"
                    ],
                    [
                      "male"
                    ],
                    [
                      "female"
                    ],
                    [
                      "female"
                    ],
                    [
                      "female"
                    ],
                    [
                      "male"
                    ],
                    [
                      "female"
                    ],
                    [
                      "male"
                    ],
                    [
                      "female"
                    ],
                    [
                      "female"
                    ],
                    [
                      "female"
                    ],
                    [
                      "male"
                    ],
                    [
                      "female"
                    ],
                    [
                      "female"
                    ],
                    [
                      "male"
                    ],
                    [
                      "female"
                    ],
                    [
                      "male"
                    ],
                    [
                      "female"
                    ],
                    [
                      "male"
                    ],
                    [
                      "female"
                    ],
                    [
                      "female"
                    ],
                    [
                      "female"
                    ],
                    [
                      "female"
                    ],
                    [
                      "male"
                    ],
                    [
                      "male"
                    ],
                    [
                      "female"
                    ],
                    [
                      "female"
                    ],
                    [
                      "male"
                    ],
                    [
                      "male"
                    ],
                    [
                      "female"
                    ],
                    [
                      "female"
                    ],
                    [
                      "female"
                    ],
                    [
                      "female"
                    ],
                    [
                      "female"
                    ],
                    [
                      "male"
                    ],
                    [
                      "female"
                    ],
                    [
                      "female"
                    ],
                    [
                      "male"
                    ],
                    [
                      "male"
                    ],
                    [
                      "female"
                    ],
                    [
                      "male"
                    ],
                    [
                      "female"
                    ],
                    [
                      "male"
                    ],
                    [
                      "male"
                    ],
                    [
                      "male"
                    ],
                    [
                      "female"
                    ],
                    [
                      "male"
                    ],
                    [
                      "female"
                    ],
                    [
                      "male"
                    ],
                    [
                      "male"
                    ],
                    [
                      "male"
                    ],
                    [
                      "male"
                    ],
                    [
                      "male"
                    ],
                    [
                      "male"
                    ],
                    [
                      "male"
                    ],
                    [
                      "female"
                    ],
                    [
                      "male"
                    ],
                    [
                      "male"
                    ],
                    [
                      "male"
                    ],
                    [
                      "female"
                    ],
                    [
                      "male"
                    ],
                    [
                      "male"
                    ],
                    [
                      "female"
                    ],
                    [
                      "female"
                    ],
                    [
                      "male"
                    ],
                    [
                      "female"
                    ],
                    [
                      "male"
                    ],
                    [
                      "female"
                    ],
                    [
                      "male"
                    ],
                    [
                      "female"
                    ],
                    [
                      "female"
                    ],
                    [
                      "male"
                    ],
                    [
                      "female"
                    ],
                    [
                      "male"
                    ],
                    [
                      "male"
                    ],
                    [
                      "female"
                    ],
                    [
                      "female"
                    ],
                    [
                      "male"
                    ],
                    [
                      "female"
                    ],
                    [
                      "female"
                    ],
                    [
                      "female"
                    ],
                    [
                      "female"
                    ],
                    [
                      "male"
                    ],
                    [
                      "female"
                    ],
                    [
                      "male"
                    ],
                    [
                      "male"
                    ],
                    [
                      "female"
                    ],
                    [
                      "female"
                    ],
                    [
                      "female"
                    ],
                    [
                      "male"
                    ],
                    [
                      "female"
                    ],
                    [
                      "female"
                    ],
                    [
                      "female"
                    ],
                    [
                      "female"
                    ],
                    [
                      "male"
                    ],
                    [
                      "male"
                    ],
                    [
                      "male"
                    ],
                    [
                      "female"
                    ],
                    [
                      "female"
                    ],
                    [
                      "male"
                    ],
                    [
                      "male"
                    ],
                    [
                      "female"
                    ],
                    [
                      "female"
                    ],
                    [
                      "male"
                    ],
                    [
                      "female"
                    ],
                    [
                      "male"
                    ],
                    [
                      "female"
                    ],
                    [
                      "female"
                    ],
                    [
                      "male"
                    ],
                    [
                      "female"
                    ],
                    [
                      "female"
                    ],
                    [
                      "female"
                    ],
                    [
                      "male"
                    ],
                    [
                      "female"
                    ],
                    [
                      "male"
                    ],
                    [
                      "female"
                    ],
                    [
                      "female"
                    ],
                    [
                      "female"
                    ]
                  ],
                  "domain": {
                    "x": [
                      0,
                      1
                    ],
                    "y": [
                      0,
                      1
                    ]
                  },
                  "hole": 0.5,
                  "hovertemplate": "gender=%{customdata[0]}<extra></extra>",
                  "labels": [
                    "female",
                    "female",
                    "female",
                    "male",
                    "male",
                    "female",
                    "female",
                    "male",
                    "male",
                    "female",
                    "male",
                    "male",
                    "female",
                    "male",
                    "female",
                    "female",
                    "male",
                    "female",
                    "male",
                    "female",
                    "male",
                    "female",
                    "male",
                    "female",
                    "male",
                    "male",
                    "male",
                    "female",
                    "male",
                    "female",
                    "female",
                    "female",
                    "female",
                    "male",
                    "male",
                    "male",
                    "female",
                    "female",
                    "female",
                    "male",
                    "male",
                    "female",
                    "female",
                    "male",
                    "female",
                    "male",
                    "female",
                    "female",
                    "female",
                    "male",
                    "male",
                    "male",
                    "male",
                    "male",
                    "female",
                    "female",
                    "female",
                    "male",
                    "male",
                    "female",
                    "male",
                    "male",
                    "male",
                    "female",
                    "female",
                    "male",
                    "male",
                    "female",
                    "male",
                    "female",
                    "female",
                    "male",
                    "female",
                    "male",
                    "male",
                    "male",
                    "male",
                    "male",
                    "female",
                    "female",
                    "female",
                    "male",
                    "male",
                    "male",
                    "male",
                    "female",
                    "female",
                    "female",
                    "female",
                    "female",
                    "female",
                    "male",
                    "male",
                    "male",
                    "female",
                    "male",
                    "male",
                    "female",
                    "female",
                    "female",
                    "male",
                    "male",
                    "female",
                    "male",
                    "male",
                    "female",
                    "female",
                    "male",
                    "female",
                    "female",
                    "female",
                    "male",
                    "male",
                    "female",
                    "female",
                    "male",
                    "female",
                    "female",
                    "female",
                    "female",
                    "female",
                    "male",
                    "female",
                    "male",
                    "male",
                    "female",
                    "male",
                    "male",
                    "male",
                    "female",
                    "male",
                    "male",
                    "male",
                    "female",
                    "male",
                    "male",
                    "male",
                    "male",
                    "female",
                    "male",
                    "female",
                    "female",
                    "female",
                    "male",
                    "male",
                    "female",
                    "male",
                    "male",
                    "female",
                    "male",
                    "male",
                    "male",
                    "female",
                    "male",
                    "male",
                    "female",
                    "female",
                    "male",
                    "female",
                    "male",
                    "male",
                    "female",
                    "male",
                    "male",
                    "female",
                    "female",
                    "male",
                    "female",
                    "female",
                    "female",
                    "male",
                    "male",
                    "female",
                    "female",
                    "female",
                    "female",
                    "female",
                    "female",
                    "female",
                    "female",
                    "male",
                    "female",
                    "female",
                    "female",
                    "male",
                    "male",
                    "male",
                    "male",
                    "male",
                    "female",
                    "female",
                    "male",
                    "female",
                    "male",
                    "female",
                    "male",
                    "male",
                    "male",
                    "female",
                    "female",
                    "female",
                    "female",
                    "male",
                    "female",
                    "male",
                    "male",
                    "male",
                    "male",
                    "female",
                    "female",
                    "male",
                    "male",
                    "female",
                    "male",
                    "male",
                    "male",
                    "female",
                    "female",
                    "male",
                    "male",
                    "female",
                    "male",
                    "female",
                    "male",
                    "female",
                    "female",
                    "female",
                    "male",
                    "male",
                    "female",
                    "male",
                    "male",
                    "female",
                    "male",
                    "male",
                    "male",
                    "male",
                    "female",
                    "male",
                    "male",
                    "male",
                    "female",
                    "female",
                    "male",
                    "male",
                    "male",
                    "male",
                    "female",
                    "female",
                    "male",
                    "male",
                    "female",
                    "female",
                    "male",
                    "male",
                    "female",
                    "female",
                    "male",
                    "female",
                    "female",
                    "female",
                    "male",
                    "female",
                    "female",
                    "male",
                    "male",
                    "female",
                    "female",
                    "female",
                    "female",
                    "male",
                    "male",
                    "female",
                    "female",
                    "male",
                    "male",
                    "female",
                    "female",
                    "female",
                    "male",
                    "male",
                    "male",
                    "female",
                    "female",
                    "female",
                    "male",
                    "male",
                    "female",
                    "male",
                    "male",
                    "male",
                    "male",
                    "male",
                    "female",
                    "male",
                    "male",
                    "male",
                    "male",
                    "male",
                    "male",
                    "male",
                    "male",
                    "female",
                    "male",
                    "female",
                    "male",
                    "male",
                    "male",
                    "female",
                    "female",
                    "female",
                    "male",
                    "male",
                    "female",
                    "female",
                    "male",
                    "female",
                    "male",
                    "male",
                    "female",
                    "female",
                    "female",
                    "female",
                    "female",
                    "female",
                    "female",
                    "male",
                    "male",
                    "male",
                    "female",
                    "male",
                    "male",
                    "male",
                    "male",
                    "female",
                    "female",
                    "male",
                    "male",
                    "female",
                    "female",
                    "male",
                    "female",
                    "female",
                    "male",
                    "male",
                    "female",
                    "male",
                    "female",
                    "male",
                    "male",
                    "female",
                    "male",
                    "female",
                    "female",
                    "female",
                    "female",
                    "male",
                    "female",
                    "male",
                    "female",
                    "female",
                    "male",
                    "female",
                    "female",
                    "male",
                    "male",
                    "male",
                    "male",
                    "female",
                    "female",
                    "male",
                    "female",
                    "male",
                    "female",
                    "female",
                    "male",
                    "female",
                    "female",
                    "female",
                    "male",
                    "female",
                    "male",
                    "male",
                    "female",
                    "female",
                    "female",
                    "female",
                    "female",
                    "female",
                    "male",
                    "male",
                    "female",
                    "male",
                    "male",
                    "female",
                    "male",
                    "female",
                    "female",
                    "male",
                    "male",
                    "female",
                    "male",
                    "female",
                    "female",
                    "female",
                    "female",
                    "male",
                    "female",
                    "female",
                    "male",
                    "female",
                    "male",
                    "male",
                    "male",
                    "female",
                    "male",
                    "male",
                    "male",
                    "male",
                    "male",
                    "female",
                    "female",
                    "female",
                    "female",
                    "male",
                    "female",
                    "male",
                    "male",
                    "male",
                    "male",
                    "male",
                    "female",
                    "male",
                    "female",
                    "male",
                    "male",
                    "male",
                    "male",
                    "male",
                    "male",
                    "female",
                    "female",
                    "female",
                    "female",
                    "male",
                    "female",
                    "male",
                    "male",
                    "male",
                    "male",
                    "female",
                    "female",
                    "female",
                    "male",
                    "female",
                    "male",
                    "female",
                    "male",
                    "female",
                    "male",
                    "male",
                    "male",
                    "female",
                    "female",
                    "male",
                    "female",
                    "female",
                    "male",
                    "female",
                    "male",
                    "female",
                    "female",
                    "female",
                    "female",
                    "female",
                    "female",
                    "male",
                    "male",
                    "female",
                    "male",
                    "male",
                    "female",
                    "male",
                    "male",
                    "female",
                    "male",
                    "male",
                    "female",
                    "male",
                    "male",
                    "female",
                    "female",
                    "female",
                    "female",
                    "female",
                    "male",
                    "female",
                    "female",
                    "female",
                    "male",
                    "female",
                    "female",
                    "male",
                    "female",
                    "female",
                    "female",
                    "male",
                    "male",
                    "male",
                    "female",
                    "male",
                    "male",
                    "male",
                    "female",
                    "female",
                    "female",
                    "female",
                    "female",
                    "female",
                    "female",
                    "male",
                    "female",
                    "male",
                    "male",
                    "male",
                    "male",
                    "male",
                    "female",
                    "female",
                    "female",
                    "female",
                    "female",
                    "male",
                    "female",
                    "male",
                    "female",
                    "male",
                    "female",
                    "male",
                    "male",
                    "male",
                    "male",
                    "female",
                    "female",
                    "female",
                    "male",
                    "female",
                    "male",
                    "female",
                    "male",
                    "male",
                    "male",
                    "female",
                    "male",
                    "male",
                    "female",
                    "female",
                    "male",
                    "female",
                    "male",
                    "female",
                    "female",
                    "male",
                    "female",
                    "male",
                    "male",
                    "female",
                    "female",
                    "male",
                    "male",
                    "male",
                    "male",
                    "female",
                    "female",
                    "female",
                    "male",
                    "male",
                    "female",
                    "female",
                    "female",
                    "female",
                    "female",
                    "female",
                    "female",
                    "female",
                    "female",
                    "female",
                    "female",
                    "female",
                    "female",
                    "male",
                    "male",
                    "male",
                    "female",
                    "female",
                    "female",
                    "male",
                    "male",
                    "female",
                    "female",
                    "female",
                    "female",
                    "female",
                    "male",
                    "male",
                    "male",
                    "female",
                    "female",
                    "female",
                    "female",
                    "male",
                    "female",
                    "male",
                    "female",
                    "female",
                    "female",
                    "female",
                    "male",
                    "male",
                    "male",
                    "female",
                    "male",
                    "male",
                    "male",
                    "female",
                    "male",
                    "male",
                    "male",
                    "male",
                    "female",
                    "male",
                    "male",
                    "female",
                    "female",
                    "male",
                    "male",
                    "female",
                    "female",
                    "male",
                    "female",
                    "male",
                    "female",
                    "female",
                    "female",
                    "male",
                    "female",
                    "female",
                    "female",
                    "female",
                    "female",
                    "male",
                    "female",
                    "female",
                    "female",
                    "female",
                    "female",
                    "male",
                    "male",
                    "female",
                    "male",
                    "male",
                    "male",
                    "female",
                    "female",
                    "male",
                    "female",
                    "female",
                    "female",
                    "male",
                    "male",
                    "female",
                    "male",
                    "female",
                    "female",
                    "female",
                    "female",
                    "female",
                    "female",
                    "male",
                    "male",
                    "female",
                    "male",
                    "male",
                    "female",
                    "male",
                    "female",
                    "male",
                    "male",
                    "male",
                    "male",
                    "female",
                    "female",
                    "female",
                    "female",
                    "female",
                    "female",
                    "female",
                    "female",
                    "female",
                    "male",
                    "female",
                    "female",
                    "male",
                    "female",
                    "female",
                    "male",
                    "male",
                    "male",
                    "male",
                    "female",
                    "male",
                    "female",
                    "female",
                    "male",
                    "female",
                    "female",
                    "male",
                    "female",
                    "female",
                    "male",
                    "female",
                    "male",
                    "female",
                    "male",
                    "male",
                    "male",
                    "female",
                    "male",
                    "female",
                    "male",
                    "female",
                    "male",
                    "female",
                    "male",
                    "female",
                    "male",
                    "male",
                    "female",
                    "male",
                    "male",
                    "male",
                    "female",
                    "female",
                    "female",
                    "male",
                    "male",
                    "male",
                    "male",
                    "female",
                    "male",
                    "male",
                    "male",
                    "male",
                    "female",
                    "male",
                    "female",
                    "male",
                    "male",
                    "female",
                    "male",
                    "female",
                    "female",
                    "male",
                    "female",
                    "male",
                    "female",
                    "female",
                    "male",
                    "female",
                    "male",
                    "male",
                    "male",
                    "female",
                    "female",
                    "male",
                    "female",
                    "female",
                    "female",
                    "female",
                    "male",
                    "female",
                    "female",
                    "female",
                    "female",
                    "male",
                    "female",
                    "female",
                    "female",
                    "male",
                    "female",
                    "female",
                    "female",
                    "male",
                    "male",
                    "female",
                    "female",
                    "male",
                    "female",
                    "male",
                    "female",
                    "male",
                    "male",
                    "female",
                    "female",
                    "female",
                    "male",
                    "female",
                    "female",
                    "male",
                    "male",
                    "male",
                    "male",
                    "female",
                    "male",
                    "female",
                    "male",
                    "female",
                    "male",
                    "female",
                    "female",
                    "female",
                    "female",
                    "male",
                    "female",
                    "female",
                    "male",
                    "female",
                    "female",
                    "female",
                    "male",
                    "female",
                    "female",
                    "male",
                    "female",
                    "male",
                    "female",
                    "male",
                    "female",
                    "male",
                    "female",
                    "female",
                    "male",
                    "female",
                    "male",
                    "female",
                    "male",
                    "male",
                    "male",
                    "female",
                    "male",
                    "male",
                    "female",
                    "female",
                    "male",
                    "male",
                    "female",
                    "male",
                    "female",
                    "male",
                    "male",
                    "female",
                    "female",
                    "male",
                    "female",
                    "male",
                    "male",
                    "male",
                    "male",
                    "male",
                    "male",
                    "male",
                    "female",
                    "male",
                    "male",
                    "female",
                    "male",
                    "male",
                    "male",
                    "female",
                    "female",
                    "male",
                    "female",
                    "female",
                    "male",
                    "female",
                    "female",
                    "female",
                    "male",
                    "female",
                    "male",
                    "female",
                    "female",
                    "female",
                    "male",
                    "female",
                    "female",
                    "male",
                    "female",
                    "male",
                    "female",
                    "male",
                    "female",
                    "female",
                    "female",
                    "female",
                    "male",
                    "male",
                    "female",
                    "female",
                    "male",
                    "male",
                    "female",
                    "female",
                    "female",
                    "female",
                    "female",
                    "male",
                    "female",
                    "female",
                    "male",
                    "male",
                    "female",
                    "male",
                    "female",
                    "male",
                    "male",
                    "male",
                    "female",
                    "male",
                    "female",
                    "male",
                    "male",
                    "male",
                    "male",
                    "male",
                    "male",
                    "male",
                    "female",
                    "male",
                    "male",
                    "male",
                    "female",
                    "male",
                    "male",
                    "female",
                    "female",
                    "male",
                    "female",
                    "male",
                    "female",
                    "male",
                    "female",
                    "female",
                    "male",
                    "female",
                    "male",
                    "male",
                    "female",
                    "female",
                    "male",
                    "female",
                    "female",
                    "female",
                    "female",
                    "male",
                    "female",
                    "male",
                    "male",
                    "female",
                    "female",
                    "female",
                    "male",
                    "female",
                    "female",
                    "female",
                    "female",
                    "male",
                    "male",
                    "male",
                    "female",
                    "female",
                    "male",
                    "male",
                    "female",
                    "female",
                    "male",
                    "female",
                    "male",
                    "female",
                    "female",
                    "male",
                    "female",
                    "female",
                    "female",
                    "male",
                    "female",
                    "male",
                    "female",
                    "female",
                    "female"
                  ],
                  "legendgroup": "",
                  "marker": {
                    "colors": [
                      "rgb(103,0,31)",
                      "rgb(103,0,31)",
                      "rgb(103,0,31)",
                      "rgb(178,24,43)",
                      "rgb(178,24,43)",
                      "rgb(103,0,31)",
                      "rgb(103,0,31)",
                      "rgb(178,24,43)",
                      "rgb(178,24,43)",
                      "rgb(103,0,31)",
                      "rgb(178,24,43)",
                      "rgb(178,24,43)",
                      "rgb(103,0,31)",
                      "rgb(178,24,43)",
                      "rgb(103,0,31)",
                      "rgb(103,0,31)",
                      "rgb(178,24,43)",
                      "rgb(103,0,31)",
                      "rgb(178,24,43)",
                      "rgb(103,0,31)",
                      "rgb(178,24,43)",
                      "rgb(103,0,31)",
                      "rgb(178,24,43)",
                      "rgb(103,0,31)",
                      "rgb(178,24,43)",
                      "rgb(178,24,43)",
                      "rgb(178,24,43)",
                      "rgb(103,0,31)",
                      "rgb(178,24,43)",
                      "rgb(103,0,31)",
                      "rgb(103,0,31)",
                      "rgb(103,0,31)",
                      "rgb(103,0,31)",
                      "rgb(178,24,43)",
                      "rgb(178,24,43)",
                      "rgb(178,24,43)",
                      "rgb(103,0,31)",
                      "rgb(103,0,31)",
                      "rgb(103,0,31)",
                      "rgb(178,24,43)",
                      "rgb(178,24,43)",
                      "rgb(103,0,31)",
                      "rgb(103,0,31)",
                      "rgb(178,24,43)",
                      "rgb(103,0,31)",
                      "rgb(178,24,43)",
                      "rgb(103,0,31)",
                      "rgb(103,0,31)",
                      "rgb(103,0,31)",
                      "rgb(178,24,43)",
                      "rgb(178,24,43)",
                      "rgb(178,24,43)",
                      "rgb(178,24,43)",
                      "rgb(178,24,43)",
                      "rgb(103,0,31)",
                      "rgb(103,0,31)",
                      "rgb(103,0,31)",
                      "rgb(178,24,43)",
                      "rgb(178,24,43)",
                      "rgb(103,0,31)",
                      "rgb(178,24,43)",
                      "rgb(178,24,43)",
                      "rgb(178,24,43)",
                      "rgb(103,0,31)",
                      "rgb(103,0,31)",
                      "rgb(178,24,43)",
                      "rgb(178,24,43)",
                      "rgb(103,0,31)",
                      "rgb(178,24,43)",
                      "rgb(103,0,31)",
                      "rgb(103,0,31)",
                      "rgb(178,24,43)",
                      "rgb(103,0,31)",
                      "rgb(178,24,43)",
                      "rgb(178,24,43)",
                      "rgb(178,24,43)",
                      "rgb(178,24,43)",
                      "rgb(178,24,43)",
                      "rgb(103,0,31)",
                      "rgb(103,0,31)",
                      "rgb(103,0,31)",
                      "rgb(178,24,43)",
                      "rgb(178,24,43)",
                      "rgb(178,24,43)",
                      "rgb(178,24,43)",
                      "rgb(103,0,31)",
                      "rgb(103,0,31)",
                      "rgb(103,0,31)",
                      "rgb(103,0,31)",
                      "rgb(103,0,31)",
                      "rgb(103,0,31)",
                      "rgb(178,24,43)",
                      "rgb(178,24,43)",
                      "rgb(178,24,43)",
                      "rgb(103,0,31)",
                      "rgb(178,24,43)",
                      "rgb(178,24,43)",
                      "rgb(103,0,31)",
                      "rgb(103,0,31)",
                      "rgb(103,0,31)",
                      "rgb(178,24,43)",
                      "rgb(178,24,43)",
                      "rgb(103,0,31)",
                      "rgb(178,24,43)",
                      "rgb(178,24,43)",
                      "rgb(103,0,31)",
                      "rgb(103,0,31)",
                      "rgb(178,24,43)",
                      "rgb(103,0,31)",
                      "rgb(103,0,31)",
                      "rgb(103,0,31)",
                      "rgb(178,24,43)",
                      "rgb(178,24,43)",
                      "rgb(103,0,31)",
                      "rgb(103,0,31)",
                      "rgb(178,24,43)",
                      "rgb(103,0,31)",
                      "rgb(103,0,31)",
                      "rgb(103,0,31)",
                      "rgb(103,0,31)",
                      "rgb(103,0,31)",
                      "rgb(178,24,43)",
                      "rgb(103,0,31)",
                      "rgb(178,24,43)",
                      "rgb(178,24,43)",
                      "rgb(103,0,31)",
                      "rgb(178,24,43)",
                      "rgb(178,24,43)",
                      "rgb(178,24,43)",
                      "rgb(103,0,31)",
                      "rgb(178,24,43)",
                      "rgb(178,24,43)",
                      "rgb(178,24,43)",
                      "rgb(103,0,31)",
                      "rgb(178,24,43)",
                      "rgb(178,24,43)",
                      "rgb(178,24,43)",
                      "rgb(178,24,43)",
                      "rgb(103,0,31)",
                      "rgb(178,24,43)",
                      "rgb(103,0,31)",
                      "rgb(103,0,31)",
                      "rgb(103,0,31)",
                      "rgb(178,24,43)",
                      "rgb(178,24,43)",
                      "rgb(103,0,31)",
                      "rgb(178,24,43)",
                      "rgb(178,24,43)",
                      "rgb(103,0,31)",
                      "rgb(178,24,43)",
                      "rgb(178,24,43)",
                      "rgb(178,24,43)",
                      "rgb(103,0,31)",
                      "rgb(178,24,43)",
                      "rgb(178,24,43)",
                      "rgb(103,0,31)",
                      "rgb(103,0,31)",
                      "rgb(178,24,43)",
                      "rgb(103,0,31)",
                      "rgb(178,24,43)",
                      "rgb(178,24,43)",
                      "rgb(103,0,31)",
                      "rgb(178,24,43)",
                      "rgb(178,24,43)",
                      "rgb(103,0,31)",
                      "rgb(103,0,31)",
                      "rgb(178,24,43)",
                      "rgb(103,0,31)",
                      "rgb(103,0,31)",
                      "rgb(103,0,31)",
                      "rgb(178,24,43)",
                      "rgb(178,24,43)",
                      "rgb(103,0,31)",
                      "rgb(103,0,31)",
                      "rgb(103,0,31)",
                      "rgb(103,0,31)",
                      "rgb(103,0,31)",
                      "rgb(103,0,31)",
                      "rgb(103,0,31)",
                      "rgb(103,0,31)",
                      "rgb(178,24,43)",
                      "rgb(103,0,31)",
                      "rgb(103,0,31)",
                      "rgb(103,0,31)",
                      "rgb(178,24,43)",
                      "rgb(178,24,43)",
                      "rgb(178,24,43)",
                      "rgb(178,24,43)",
                      "rgb(178,24,43)",
                      "rgb(103,0,31)",
                      "rgb(103,0,31)",
                      "rgb(178,24,43)",
                      "rgb(103,0,31)",
                      "rgb(178,24,43)",
                      "rgb(103,0,31)",
                      "rgb(178,24,43)",
                      "rgb(178,24,43)",
                      "rgb(178,24,43)",
                      "rgb(103,0,31)",
                      "rgb(103,0,31)",
                      "rgb(103,0,31)",
                      "rgb(103,0,31)",
                      "rgb(178,24,43)",
                      "rgb(103,0,31)",
                      "rgb(178,24,43)",
                      "rgb(178,24,43)",
                      "rgb(178,24,43)",
                      "rgb(178,24,43)",
                      "rgb(103,0,31)",
                      "rgb(103,0,31)",
                      "rgb(178,24,43)",
                      "rgb(178,24,43)",
                      "rgb(103,0,31)",
                      "rgb(178,24,43)",
                      "rgb(178,24,43)",
                      "rgb(178,24,43)",
                      "rgb(103,0,31)",
                      "rgb(103,0,31)",
                      "rgb(178,24,43)",
                      "rgb(178,24,43)",
                      "rgb(103,0,31)",
                      "rgb(178,24,43)",
                      "rgb(103,0,31)",
                      "rgb(178,24,43)",
                      "rgb(103,0,31)",
                      "rgb(103,0,31)",
                      "rgb(103,0,31)",
                      "rgb(178,24,43)",
                      "rgb(178,24,43)",
                      "rgb(103,0,31)",
                      "rgb(178,24,43)",
                      "rgb(178,24,43)",
                      "rgb(103,0,31)",
                      "rgb(178,24,43)",
                      "rgb(178,24,43)",
                      "rgb(178,24,43)",
                      "rgb(178,24,43)",
                      "rgb(103,0,31)",
                      "rgb(178,24,43)",
                      "rgb(178,24,43)",
                      "rgb(178,24,43)",
                      "rgb(103,0,31)",
                      "rgb(103,0,31)",
                      "rgb(178,24,43)",
                      "rgb(178,24,43)",
                      "rgb(178,24,43)",
                      "rgb(178,24,43)",
                      "rgb(103,0,31)",
                      "rgb(103,0,31)",
                      "rgb(178,24,43)",
                      "rgb(178,24,43)",
                      "rgb(103,0,31)",
                      "rgb(103,0,31)",
                      "rgb(178,24,43)",
                      "rgb(178,24,43)",
                      "rgb(103,0,31)",
                      "rgb(103,0,31)",
                      "rgb(178,24,43)",
                      "rgb(103,0,31)",
                      "rgb(103,0,31)",
                      "rgb(103,0,31)",
                      "rgb(178,24,43)",
                      "rgb(103,0,31)",
                      "rgb(103,0,31)",
                      "rgb(178,24,43)",
                      "rgb(178,24,43)",
                      "rgb(103,0,31)",
                      "rgb(103,0,31)",
                      "rgb(103,0,31)",
                      "rgb(103,0,31)",
                      "rgb(178,24,43)",
                      "rgb(178,24,43)",
                      "rgb(103,0,31)",
                      "rgb(103,0,31)",
                      "rgb(178,24,43)",
                      "rgb(178,24,43)",
                      "rgb(103,0,31)",
                      "rgb(103,0,31)",
                      "rgb(103,0,31)",
                      "rgb(178,24,43)",
                      "rgb(178,24,43)",
                      "rgb(178,24,43)",
                      "rgb(103,0,31)",
                      "rgb(103,0,31)",
                      "rgb(103,0,31)",
                      "rgb(178,24,43)",
                      "rgb(178,24,43)",
                      "rgb(103,0,31)",
                      "rgb(178,24,43)",
                      "rgb(178,24,43)",
                      "rgb(178,24,43)",
                      "rgb(178,24,43)",
                      "rgb(178,24,43)",
                      "rgb(103,0,31)",
                      "rgb(178,24,43)",
                      "rgb(178,24,43)",
                      "rgb(178,24,43)",
                      "rgb(178,24,43)",
                      "rgb(178,24,43)",
                      "rgb(178,24,43)",
                      "rgb(178,24,43)",
                      "rgb(178,24,43)",
                      "rgb(103,0,31)",
                      "rgb(178,24,43)",
                      "rgb(103,0,31)",
                      "rgb(178,24,43)",
                      "rgb(178,24,43)",
                      "rgb(178,24,43)",
                      "rgb(103,0,31)",
                      "rgb(103,0,31)",
                      "rgb(103,0,31)",
                      "rgb(178,24,43)",
                      "rgb(178,24,43)",
                      "rgb(103,0,31)",
                      "rgb(103,0,31)",
                      "rgb(178,24,43)",
                      "rgb(103,0,31)",
                      "rgb(178,24,43)",
                      "rgb(178,24,43)",
                      "rgb(103,0,31)",
                      "rgb(103,0,31)",
                      "rgb(103,0,31)",
                      "rgb(103,0,31)",
                      "rgb(103,0,31)",
                      "rgb(103,0,31)",
                      "rgb(103,0,31)",
                      "rgb(178,24,43)",
                      "rgb(178,24,43)",
                      "rgb(178,24,43)",
                      "rgb(103,0,31)",
                      "rgb(178,24,43)",
                      "rgb(178,24,43)",
                      "rgb(178,24,43)",
                      "rgb(178,24,43)",
                      "rgb(103,0,31)",
                      "rgb(103,0,31)",
                      "rgb(178,24,43)",
                      "rgb(178,24,43)",
                      "rgb(103,0,31)",
                      "rgb(103,0,31)",
                      "rgb(178,24,43)",
                      "rgb(103,0,31)",
                      "rgb(103,0,31)",
                      "rgb(178,24,43)",
                      "rgb(178,24,43)",
                      "rgb(103,0,31)",
                      "rgb(178,24,43)",
                      "rgb(103,0,31)",
                      "rgb(178,24,43)",
                      "rgb(178,24,43)",
                      "rgb(103,0,31)",
                      "rgb(178,24,43)",
                      "rgb(103,0,31)",
                      "rgb(103,0,31)",
                      "rgb(103,0,31)",
                      "rgb(103,0,31)",
                      "rgb(178,24,43)",
                      "rgb(103,0,31)",
                      "rgb(178,24,43)",
                      "rgb(103,0,31)",
                      "rgb(103,0,31)",
                      "rgb(178,24,43)",
                      "rgb(103,0,31)",
                      "rgb(103,0,31)",
                      "rgb(178,24,43)",
                      "rgb(178,24,43)",
                      "rgb(178,24,43)",
                      "rgb(178,24,43)",
                      "rgb(103,0,31)",
                      "rgb(103,0,31)",
                      "rgb(178,24,43)",
                      "rgb(103,0,31)",
                      "rgb(178,24,43)",
                      "rgb(103,0,31)",
                      "rgb(103,0,31)",
                      "rgb(178,24,43)",
                      "rgb(103,0,31)",
                      "rgb(103,0,31)",
                      "rgb(103,0,31)",
                      "rgb(178,24,43)",
                      "rgb(103,0,31)",
                      "rgb(178,24,43)",
                      "rgb(178,24,43)",
                      "rgb(103,0,31)",
                      "rgb(103,0,31)",
                      "rgb(103,0,31)",
                      "rgb(103,0,31)",
                      "rgb(103,0,31)",
                      "rgb(103,0,31)",
                      "rgb(178,24,43)",
                      "rgb(178,24,43)",
                      "rgb(103,0,31)",
                      "rgb(178,24,43)",
                      "rgb(178,24,43)",
                      "rgb(103,0,31)",
                      "rgb(178,24,43)",
                      "rgb(103,0,31)",
                      "rgb(103,0,31)",
                      "rgb(178,24,43)",
                      "rgb(178,24,43)",
                      "rgb(103,0,31)",
                      "rgb(178,24,43)",
                      "rgb(103,0,31)",
                      "rgb(103,0,31)",
                      "rgb(103,0,31)",
                      "rgb(103,0,31)",
                      "rgb(178,24,43)",
                      "rgb(103,0,31)",
                      "rgb(103,0,31)",
                      "rgb(178,24,43)",
                      "rgb(103,0,31)",
                      "rgb(178,24,43)",
                      "rgb(178,24,43)",
                      "rgb(178,24,43)",
                      "rgb(103,0,31)",
                      "rgb(178,24,43)",
                      "rgb(178,24,43)",
                      "rgb(178,24,43)",
                      "rgb(178,24,43)",
                      "rgb(178,24,43)",
                      "rgb(103,0,31)",
                      "rgb(103,0,31)",
                      "rgb(103,0,31)",
                      "rgb(103,0,31)",
                      "rgb(178,24,43)",
                      "rgb(103,0,31)",
                      "rgb(178,24,43)",
                      "rgb(178,24,43)",
                      "rgb(178,24,43)",
                      "rgb(178,24,43)",
                      "rgb(178,24,43)",
                      "rgb(103,0,31)",
                      "rgb(178,24,43)",
                      "rgb(103,0,31)",
                      "rgb(178,24,43)",
                      "rgb(178,24,43)",
                      "rgb(178,24,43)",
                      "rgb(178,24,43)",
                      "rgb(178,24,43)",
                      "rgb(178,24,43)",
                      "rgb(103,0,31)",
                      "rgb(103,0,31)",
                      "rgb(103,0,31)",
                      "rgb(103,0,31)",
                      "rgb(178,24,43)",
                      "rgb(103,0,31)",
                      "rgb(178,24,43)",
                      "rgb(178,24,43)",
                      "rgb(178,24,43)",
                      "rgb(178,24,43)",
                      "rgb(103,0,31)",
                      "rgb(103,0,31)",
                      "rgb(103,0,31)",
                      "rgb(178,24,43)",
                      "rgb(103,0,31)",
                      "rgb(178,24,43)",
                      "rgb(103,0,31)",
                      "rgb(178,24,43)",
                      "rgb(103,0,31)",
                      "rgb(178,24,43)",
                      "rgb(178,24,43)",
                      "rgb(178,24,43)",
                      "rgb(103,0,31)",
                      "rgb(103,0,31)",
                      "rgb(178,24,43)",
                      "rgb(103,0,31)",
                      "rgb(103,0,31)",
                      "rgb(178,24,43)",
                      "rgb(103,0,31)",
                      "rgb(178,24,43)",
                      "rgb(103,0,31)",
                      "rgb(103,0,31)",
                      "rgb(103,0,31)",
                      "rgb(103,0,31)",
                      "rgb(103,0,31)",
                      "rgb(103,0,31)",
                      "rgb(178,24,43)",
                      "rgb(178,24,43)",
                      "rgb(103,0,31)",
                      "rgb(178,24,43)",
                      "rgb(178,24,43)",
                      "rgb(103,0,31)",
                      "rgb(178,24,43)",
                      "rgb(178,24,43)",
                      "rgb(103,0,31)",
                      "rgb(178,24,43)",
                      "rgb(178,24,43)",
                      "rgb(103,0,31)",
                      "rgb(178,24,43)",
                      "rgb(178,24,43)",
                      "rgb(103,0,31)",
                      "rgb(103,0,31)",
                      "rgb(103,0,31)",
                      "rgb(103,0,31)",
                      "rgb(103,0,31)",
                      "rgb(178,24,43)",
                      "rgb(103,0,31)",
                      "rgb(103,0,31)",
                      "rgb(103,0,31)",
                      "rgb(178,24,43)",
                      "rgb(103,0,31)",
                      "rgb(103,0,31)",
                      "rgb(178,24,43)",
                      "rgb(103,0,31)",
                      "rgb(103,0,31)",
                      "rgb(103,0,31)",
                      "rgb(178,24,43)",
                      "rgb(178,24,43)",
                      "rgb(178,24,43)",
                      "rgb(103,0,31)",
                      "rgb(178,24,43)",
                      "rgb(178,24,43)",
                      "rgb(178,24,43)",
                      "rgb(103,0,31)",
                      "rgb(103,0,31)",
                      "rgb(103,0,31)",
                      "rgb(103,0,31)",
                      "rgb(103,0,31)",
                      "rgb(103,0,31)",
                      "rgb(103,0,31)",
                      "rgb(178,24,43)",
                      "rgb(103,0,31)",
                      "rgb(178,24,43)",
                      "rgb(178,24,43)",
                      "rgb(178,24,43)",
                      "rgb(178,24,43)",
                      "rgb(178,24,43)",
                      "rgb(103,0,31)",
                      "rgb(103,0,31)",
                      "rgb(103,0,31)",
                      "rgb(103,0,31)",
                      "rgb(103,0,31)",
                      "rgb(178,24,43)",
                      "rgb(103,0,31)",
                      "rgb(178,24,43)",
                      "rgb(103,0,31)",
                      "rgb(178,24,43)",
                      "rgb(103,0,31)",
                      "rgb(178,24,43)",
                      "rgb(178,24,43)",
                      "rgb(178,24,43)",
                      "rgb(178,24,43)",
                      "rgb(103,0,31)",
                      "rgb(103,0,31)",
                      "rgb(103,0,31)",
                      "rgb(178,24,43)",
                      "rgb(103,0,31)",
                      "rgb(178,24,43)",
                      "rgb(103,0,31)",
                      "rgb(178,24,43)",
                      "rgb(178,24,43)",
                      "rgb(178,24,43)",
                      "rgb(103,0,31)",
                      "rgb(178,24,43)",
                      "rgb(178,24,43)",
                      "rgb(103,0,31)",
                      "rgb(103,0,31)",
                      "rgb(178,24,43)",
                      "rgb(103,0,31)",
                      "rgb(178,24,43)",
                      "rgb(103,0,31)",
                      "rgb(103,0,31)",
                      "rgb(178,24,43)",
                      "rgb(103,0,31)",
                      "rgb(178,24,43)",
                      "rgb(178,24,43)",
                      "rgb(103,0,31)",
                      "rgb(103,0,31)",
                      "rgb(178,24,43)",
                      "rgb(178,24,43)",
                      "rgb(178,24,43)",
                      "rgb(178,24,43)",
                      "rgb(103,0,31)",
                      "rgb(103,0,31)",
                      "rgb(103,0,31)",
                      "rgb(178,24,43)",
                      "rgb(178,24,43)",
                      "rgb(103,0,31)",
                      "rgb(103,0,31)",
                      "rgb(103,0,31)",
                      "rgb(103,0,31)",
                      "rgb(103,0,31)",
                      "rgb(103,0,31)",
                      "rgb(103,0,31)",
                      "rgb(103,0,31)",
                      "rgb(103,0,31)",
                      "rgb(103,0,31)",
                      "rgb(103,0,31)",
                      "rgb(103,0,31)",
                      "rgb(103,0,31)",
                      "rgb(178,24,43)",
                      "rgb(178,24,43)",
                      "rgb(178,24,43)",
                      "rgb(103,0,31)",
                      "rgb(103,0,31)",
                      "rgb(103,0,31)",
                      "rgb(178,24,43)",
                      "rgb(178,24,43)",
                      "rgb(103,0,31)",
                      "rgb(103,0,31)",
                      "rgb(103,0,31)",
                      "rgb(103,0,31)",
                      "rgb(103,0,31)",
                      "rgb(178,24,43)",
                      "rgb(178,24,43)",
                      "rgb(178,24,43)",
                      "rgb(103,0,31)",
                      "rgb(103,0,31)",
                      "rgb(103,0,31)",
                      "rgb(103,0,31)",
                      "rgb(178,24,43)",
                      "rgb(103,0,31)",
                      "rgb(178,24,43)",
                      "rgb(103,0,31)",
                      "rgb(103,0,31)",
                      "rgb(103,0,31)",
                      "rgb(103,0,31)",
                      "rgb(178,24,43)",
                      "rgb(178,24,43)",
                      "rgb(178,24,43)",
                      "rgb(103,0,31)",
                      "rgb(178,24,43)",
                      "rgb(178,24,43)",
                      "rgb(178,24,43)",
                      "rgb(103,0,31)",
                      "rgb(178,24,43)",
                      "rgb(178,24,43)",
                      "rgb(178,24,43)",
                      "rgb(178,24,43)",
                      "rgb(103,0,31)",
                      "rgb(178,24,43)",
                      "rgb(178,24,43)",
                      "rgb(103,0,31)",
                      "rgb(103,0,31)",
                      "rgb(178,24,43)",
                      "rgb(178,24,43)",
                      "rgb(103,0,31)",
                      "rgb(103,0,31)",
                      "rgb(178,24,43)",
                      "rgb(103,0,31)",
                      "rgb(178,24,43)",
                      "rgb(103,0,31)",
                      "rgb(103,0,31)",
                      "rgb(103,0,31)",
                      "rgb(178,24,43)",
                      "rgb(103,0,31)",
                      "rgb(103,0,31)",
                      "rgb(103,0,31)",
                      "rgb(103,0,31)",
                      "rgb(103,0,31)",
                      "rgb(178,24,43)",
                      "rgb(103,0,31)",
                      "rgb(103,0,31)",
                      "rgb(103,0,31)",
                      "rgb(103,0,31)",
                      "rgb(103,0,31)",
                      "rgb(178,24,43)",
                      "rgb(178,24,43)",
                      "rgb(103,0,31)",
                      "rgb(178,24,43)",
                      "rgb(178,24,43)",
                      "rgb(178,24,43)",
                      "rgb(103,0,31)",
                      "rgb(103,0,31)",
                      "rgb(178,24,43)",
                      "rgb(103,0,31)",
                      "rgb(103,0,31)",
                      "rgb(103,0,31)",
                      "rgb(178,24,43)",
                      "rgb(178,24,43)",
                      "rgb(103,0,31)",
                      "rgb(178,24,43)",
                      "rgb(103,0,31)",
                      "rgb(103,0,31)",
                      "rgb(103,0,31)",
                      "rgb(103,0,31)",
                      "rgb(103,0,31)",
                      "rgb(103,0,31)",
                      "rgb(178,24,43)",
                      "rgb(178,24,43)",
                      "rgb(103,0,31)",
                      "rgb(178,24,43)",
                      "rgb(178,24,43)",
                      "rgb(103,0,31)",
                      "rgb(178,24,43)",
                      "rgb(103,0,31)",
                      "rgb(178,24,43)",
                      "rgb(178,24,43)",
                      "rgb(178,24,43)",
                      "rgb(178,24,43)",
                      "rgb(103,0,31)",
                      "rgb(103,0,31)",
                      "rgb(103,0,31)",
                      "rgb(103,0,31)",
                      "rgb(103,0,31)",
                      "rgb(103,0,31)",
                      "rgb(103,0,31)",
                      "rgb(103,0,31)",
                      "rgb(103,0,31)",
                      "rgb(178,24,43)",
                      "rgb(103,0,31)",
                      "rgb(103,0,31)",
                      "rgb(178,24,43)",
                      "rgb(103,0,31)",
                      "rgb(103,0,31)",
                      "rgb(178,24,43)",
                      "rgb(178,24,43)",
                      "rgb(178,24,43)",
                      "rgb(178,24,43)",
                      "rgb(103,0,31)",
                      "rgb(178,24,43)",
                      "rgb(103,0,31)",
                      "rgb(103,0,31)",
                      "rgb(178,24,43)",
                      "rgb(103,0,31)",
                      "rgb(103,0,31)",
                      "rgb(178,24,43)",
                      "rgb(103,0,31)",
                      "rgb(103,0,31)",
                      "rgb(178,24,43)",
                      "rgb(103,0,31)",
                      "rgb(178,24,43)",
                      "rgb(103,0,31)",
                      "rgb(178,24,43)",
                      "rgb(178,24,43)",
                      "rgb(178,24,43)",
                      "rgb(103,0,31)",
                      "rgb(178,24,43)",
                      "rgb(103,0,31)",
                      "rgb(178,24,43)",
                      "rgb(103,0,31)",
                      "rgb(178,24,43)",
                      "rgb(103,0,31)",
                      "rgb(178,24,43)",
                      "rgb(103,0,31)",
                      "rgb(178,24,43)",
                      "rgb(178,24,43)",
                      "rgb(103,0,31)",
                      "rgb(178,24,43)",
                      "rgb(178,24,43)",
                      "rgb(178,24,43)",
                      "rgb(103,0,31)",
                      "rgb(103,0,31)",
                      "rgb(103,0,31)",
                      "rgb(178,24,43)",
                      "rgb(178,24,43)",
                      "rgb(178,24,43)",
                      "rgb(178,24,43)",
                      "rgb(103,0,31)",
                      "rgb(178,24,43)",
                      "rgb(178,24,43)",
                      "rgb(178,24,43)",
                      "rgb(178,24,43)",
                      "rgb(103,0,31)",
                      "rgb(178,24,43)",
                      "rgb(103,0,31)",
                      "rgb(178,24,43)",
                      "rgb(178,24,43)",
                      "rgb(103,0,31)",
                      "rgb(178,24,43)",
                      "rgb(103,0,31)",
                      "rgb(103,0,31)",
                      "rgb(178,24,43)",
                      "rgb(103,0,31)",
                      "rgb(178,24,43)",
                      "rgb(103,0,31)",
                      "rgb(103,0,31)",
                      "rgb(178,24,43)",
                      "rgb(103,0,31)",
                      "rgb(178,24,43)",
                      "rgb(178,24,43)",
                      "rgb(178,24,43)",
                      "rgb(103,0,31)",
                      "rgb(103,0,31)",
                      "rgb(178,24,43)",
                      "rgb(103,0,31)",
                      "rgb(103,0,31)",
                      "rgb(103,0,31)",
                      "rgb(103,0,31)",
                      "rgb(178,24,43)",
                      "rgb(103,0,31)",
                      "rgb(103,0,31)",
                      "rgb(103,0,31)",
                      "rgb(103,0,31)",
                      "rgb(178,24,43)",
                      "rgb(103,0,31)",
                      "rgb(103,0,31)",
                      "rgb(103,0,31)",
                      "rgb(178,24,43)",
                      "rgb(103,0,31)",
                      "rgb(103,0,31)",
                      "rgb(103,0,31)",
                      "rgb(178,24,43)",
                      "rgb(178,24,43)",
                      "rgb(103,0,31)",
                      "rgb(103,0,31)",
                      "rgb(178,24,43)",
                      "rgb(103,0,31)",
                      "rgb(178,24,43)",
                      "rgb(103,0,31)",
                      "rgb(178,24,43)",
                      "rgb(178,24,43)",
                      "rgb(103,0,31)",
                      "rgb(103,0,31)",
                      "rgb(103,0,31)",
                      "rgb(178,24,43)",
                      "rgb(103,0,31)",
                      "rgb(103,0,31)",
                      "rgb(178,24,43)",
                      "rgb(178,24,43)",
                      "rgb(178,24,43)",
                      "rgb(178,24,43)",
                      "rgb(103,0,31)",
                      "rgb(178,24,43)",
                      "rgb(103,0,31)",
                      "rgb(178,24,43)",
                      "rgb(103,0,31)",
                      "rgb(178,24,43)",
                      "rgb(103,0,31)",
                      "rgb(103,0,31)",
                      "rgb(103,0,31)",
                      "rgb(103,0,31)",
                      "rgb(178,24,43)",
                      "rgb(103,0,31)",
                      "rgb(103,0,31)",
                      "rgb(178,24,43)",
                      "rgb(103,0,31)",
                      "rgb(103,0,31)",
                      "rgb(103,0,31)",
                      "rgb(178,24,43)",
                      "rgb(103,0,31)",
                      "rgb(103,0,31)",
                      "rgb(178,24,43)",
                      "rgb(103,0,31)",
                      "rgb(178,24,43)",
                      "rgb(103,0,31)",
                      "rgb(178,24,43)",
                      "rgb(103,0,31)",
                      "rgb(178,24,43)",
                      "rgb(103,0,31)",
                      "rgb(103,0,31)",
                      "rgb(178,24,43)",
                      "rgb(103,0,31)",
                      "rgb(178,24,43)",
                      "rgb(103,0,31)",
                      "rgb(178,24,43)",
                      "rgb(178,24,43)",
                      "rgb(178,24,43)",
                      "rgb(103,0,31)",
                      "rgb(178,24,43)",
                      "rgb(178,24,43)",
                      "rgb(103,0,31)",
                      "rgb(103,0,31)",
                      "rgb(178,24,43)",
                      "rgb(178,24,43)",
                      "rgb(103,0,31)",
                      "rgb(178,24,43)",
                      "rgb(103,0,31)",
                      "rgb(178,24,43)",
                      "rgb(178,24,43)",
                      "rgb(103,0,31)",
                      "rgb(103,0,31)",
                      "rgb(178,24,43)",
                      "rgb(103,0,31)",
                      "rgb(178,24,43)",
                      "rgb(178,24,43)",
                      "rgb(178,24,43)",
                      "rgb(178,24,43)",
                      "rgb(178,24,43)",
                      "rgb(178,24,43)",
                      "rgb(178,24,43)",
                      "rgb(103,0,31)",
                      "rgb(178,24,43)",
                      "rgb(178,24,43)",
                      "rgb(103,0,31)",
                      "rgb(178,24,43)",
                      "rgb(178,24,43)",
                      "rgb(178,24,43)",
                      "rgb(103,0,31)",
                      "rgb(103,0,31)",
                      "rgb(178,24,43)",
                      "rgb(103,0,31)",
                      "rgb(103,0,31)",
                      "rgb(178,24,43)",
                      "rgb(103,0,31)",
                      "rgb(103,0,31)",
                      "rgb(103,0,31)",
                      "rgb(178,24,43)",
                      "rgb(103,0,31)",
                      "rgb(178,24,43)",
                      "rgb(103,0,31)",
                      "rgb(103,0,31)",
                      "rgb(103,0,31)",
                      "rgb(178,24,43)",
                      "rgb(103,0,31)",
                      "rgb(103,0,31)",
                      "rgb(178,24,43)",
                      "rgb(103,0,31)",
                      "rgb(178,24,43)",
                      "rgb(103,0,31)",
                      "rgb(178,24,43)",
                      "rgb(103,0,31)",
                      "rgb(103,0,31)",
                      "rgb(103,0,31)",
                      "rgb(103,0,31)",
                      "rgb(178,24,43)",
                      "rgb(178,24,43)",
                      "rgb(103,0,31)",
                      "rgb(103,0,31)",
                      "rgb(178,24,43)",
                      "rgb(178,24,43)",
                      "rgb(103,0,31)",
                      "rgb(103,0,31)",
                      "rgb(103,0,31)",
                      "rgb(103,0,31)",
                      "rgb(103,0,31)",
                      "rgb(178,24,43)",
                      "rgb(103,0,31)",
                      "rgb(103,0,31)",
                      "rgb(178,24,43)",
                      "rgb(178,24,43)",
                      "rgb(103,0,31)",
                      "rgb(178,24,43)",
                      "rgb(103,0,31)",
                      "rgb(178,24,43)",
                      "rgb(178,24,43)",
                      "rgb(178,24,43)",
                      "rgb(103,0,31)",
                      "rgb(178,24,43)",
                      "rgb(103,0,31)",
                      "rgb(178,24,43)",
                      "rgb(178,24,43)",
                      "rgb(178,24,43)",
                      "rgb(178,24,43)",
                      "rgb(178,24,43)",
                      "rgb(178,24,43)",
                      "rgb(178,24,43)",
                      "rgb(103,0,31)",
                      "rgb(178,24,43)",
                      "rgb(178,24,43)",
                      "rgb(178,24,43)",
                      "rgb(103,0,31)",
                      "rgb(178,24,43)",
                      "rgb(178,24,43)",
                      "rgb(103,0,31)",
                      "rgb(103,0,31)",
                      "rgb(178,24,43)",
                      "rgb(103,0,31)",
                      "rgb(178,24,43)",
                      "rgb(103,0,31)",
                      "rgb(178,24,43)",
                      "rgb(103,0,31)",
                      "rgb(103,0,31)",
                      "rgb(178,24,43)",
                      "rgb(103,0,31)",
                      "rgb(178,24,43)",
                      "rgb(178,24,43)",
                      "rgb(103,0,31)",
                      "rgb(103,0,31)",
                      "rgb(178,24,43)",
                      "rgb(103,0,31)",
                      "rgb(103,0,31)",
                      "rgb(103,0,31)",
                      "rgb(103,0,31)",
                      "rgb(178,24,43)",
                      "rgb(103,0,31)",
                      "rgb(178,24,43)",
                      "rgb(178,24,43)",
                      "rgb(103,0,31)",
                      "rgb(103,0,31)",
                      "rgb(103,0,31)",
                      "rgb(178,24,43)",
                      "rgb(103,0,31)",
                      "rgb(103,0,31)",
                      "rgb(103,0,31)",
                      "rgb(103,0,31)",
                      "rgb(178,24,43)",
                      "rgb(178,24,43)",
                      "rgb(178,24,43)",
                      "rgb(103,0,31)",
                      "rgb(103,0,31)",
                      "rgb(178,24,43)",
                      "rgb(178,24,43)",
                      "rgb(103,0,31)",
                      "rgb(103,0,31)",
                      "rgb(178,24,43)",
                      "rgb(103,0,31)",
                      "rgb(178,24,43)",
                      "rgb(103,0,31)",
                      "rgb(103,0,31)",
                      "rgb(178,24,43)",
                      "rgb(103,0,31)",
                      "rgb(103,0,31)",
                      "rgb(103,0,31)",
                      "rgb(178,24,43)",
                      "rgb(103,0,31)",
                      "rgb(178,24,43)",
                      "rgb(103,0,31)",
                      "rgb(103,0,31)",
                      "rgb(103,0,31)"
                    ]
                  },
                  "name": "",
                  "showlegend": true,
                  "type": "pie"
                }
              ],
              "layout": {
                "legend": {
                  "tracegroupgap": 0
                },
                "piecolorway": [
                  "rgb(103,0,31)",
                  "rgb(178,24,43)",
                  "rgb(214,96,77)",
                  "rgb(244,165,130)",
                  "rgb(253,219,199)",
                  "rgb(247,247,247)",
                  "rgb(209,229,240)",
                  "rgb(146,197,222)",
                  "rgb(67,147,195)",
                  "rgb(33,102,172)",
                  "rgb(5,48,97)"
                ],
                "template": {
                  "data": {
                    "bar": [
                      {
                        "error_x": {
                          "color": "#2a3f5f"
                        },
                        "error_y": {
                          "color": "#2a3f5f"
                        },
                        "marker": {
                          "line": {
                            "color": "#E5ECF6",
                            "width": 0.5
                          },
                          "pattern": {
                            "fillmode": "overlay",
                            "size": 10,
                            "solidity": 0.2
                          }
                        },
                        "type": "bar"
                      }
                    ],
                    "barpolar": [
                      {
                        "marker": {
                          "line": {
                            "color": "#E5ECF6",
                            "width": 0.5
                          },
                          "pattern": {
                            "fillmode": "overlay",
                            "size": 10,
                            "solidity": 0.2
                          }
                        },
                        "type": "barpolar"
                      }
                    ],
                    "carpet": [
                      {
                        "aaxis": {
                          "endlinecolor": "#2a3f5f",
                          "gridcolor": "white",
                          "linecolor": "white",
                          "minorgridcolor": "white",
                          "startlinecolor": "#2a3f5f"
                        },
                        "baxis": {
                          "endlinecolor": "#2a3f5f",
                          "gridcolor": "white",
                          "linecolor": "white",
                          "minorgridcolor": "white",
                          "startlinecolor": "#2a3f5f"
                        },
                        "type": "carpet"
                      }
                    ],
                    "choropleth": [
                      {
                        "colorbar": {
                          "outlinewidth": 0,
                          "ticks": ""
                        },
                        "type": "choropleth"
                      }
                    ],
                    "contour": [
                      {
                        "colorbar": {
                          "outlinewidth": 0,
                          "ticks": ""
                        },
                        "colorscale": [
                          [
                            0,
                            "#0d0887"
                          ],
                          [
                            0.1111111111111111,
                            "#46039f"
                          ],
                          [
                            0.2222222222222222,
                            "#7201a8"
                          ],
                          [
                            0.3333333333333333,
                            "#9c179e"
                          ],
                          [
                            0.4444444444444444,
                            "#bd3786"
                          ],
                          [
                            0.5555555555555556,
                            "#d8576b"
                          ],
                          [
                            0.6666666666666666,
                            "#ed7953"
                          ],
                          [
                            0.7777777777777778,
                            "#fb9f3a"
                          ],
                          [
                            0.8888888888888888,
                            "#fdca26"
                          ],
                          [
                            1,
                            "#f0f921"
                          ]
                        ],
                        "type": "contour"
                      }
                    ],
                    "contourcarpet": [
                      {
                        "colorbar": {
                          "outlinewidth": 0,
                          "ticks": ""
                        },
                        "type": "contourcarpet"
                      }
                    ],
                    "heatmap": [
                      {
                        "colorbar": {
                          "outlinewidth": 0,
                          "ticks": ""
                        },
                        "colorscale": [
                          [
                            0,
                            "#0d0887"
                          ],
                          [
                            0.1111111111111111,
                            "#46039f"
                          ],
                          [
                            0.2222222222222222,
                            "#7201a8"
                          ],
                          [
                            0.3333333333333333,
                            "#9c179e"
                          ],
                          [
                            0.4444444444444444,
                            "#bd3786"
                          ],
                          [
                            0.5555555555555556,
                            "#d8576b"
                          ],
                          [
                            0.6666666666666666,
                            "#ed7953"
                          ],
                          [
                            0.7777777777777778,
                            "#fb9f3a"
                          ],
                          [
                            0.8888888888888888,
                            "#fdca26"
                          ],
                          [
                            1,
                            "#f0f921"
                          ]
                        ],
                        "type": "heatmap"
                      }
                    ],
                    "heatmapgl": [
                      {
                        "colorbar": {
                          "outlinewidth": 0,
                          "ticks": ""
                        },
                        "colorscale": [
                          [
                            0,
                            "#0d0887"
                          ],
                          [
                            0.1111111111111111,
                            "#46039f"
                          ],
                          [
                            0.2222222222222222,
                            "#7201a8"
                          ],
                          [
                            0.3333333333333333,
                            "#9c179e"
                          ],
                          [
                            0.4444444444444444,
                            "#bd3786"
                          ],
                          [
                            0.5555555555555556,
                            "#d8576b"
                          ],
                          [
                            0.6666666666666666,
                            "#ed7953"
                          ],
                          [
                            0.7777777777777778,
                            "#fb9f3a"
                          ],
                          [
                            0.8888888888888888,
                            "#fdca26"
                          ],
                          [
                            1,
                            "#f0f921"
                          ]
                        ],
                        "type": "heatmapgl"
                      }
                    ],
                    "histogram": [
                      {
                        "marker": {
                          "pattern": {
                            "fillmode": "overlay",
                            "size": 10,
                            "solidity": 0.2
                          }
                        },
                        "type": "histogram"
                      }
                    ],
                    "histogram2d": [
                      {
                        "colorbar": {
                          "outlinewidth": 0,
                          "ticks": ""
                        },
                        "colorscale": [
                          [
                            0,
                            "#0d0887"
                          ],
                          [
                            0.1111111111111111,
                            "#46039f"
                          ],
                          [
                            0.2222222222222222,
                            "#7201a8"
                          ],
                          [
                            0.3333333333333333,
                            "#9c179e"
                          ],
                          [
                            0.4444444444444444,
                            "#bd3786"
                          ],
                          [
                            0.5555555555555556,
                            "#d8576b"
                          ],
                          [
                            0.6666666666666666,
                            "#ed7953"
                          ],
                          [
                            0.7777777777777778,
                            "#fb9f3a"
                          ],
                          [
                            0.8888888888888888,
                            "#fdca26"
                          ],
                          [
                            1,
                            "#f0f921"
                          ]
                        ],
                        "type": "histogram2d"
                      }
                    ],
                    "histogram2dcontour": [
                      {
                        "colorbar": {
                          "outlinewidth": 0,
                          "ticks": ""
                        },
                        "colorscale": [
                          [
                            0,
                            "#0d0887"
                          ],
                          [
                            0.1111111111111111,
                            "#46039f"
                          ],
                          [
                            0.2222222222222222,
                            "#7201a8"
                          ],
                          [
                            0.3333333333333333,
                            "#9c179e"
                          ],
                          [
                            0.4444444444444444,
                            "#bd3786"
                          ],
                          [
                            0.5555555555555556,
                            "#d8576b"
                          ],
                          [
                            0.6666666666666666,
                            "#ed7953"
                          ],
                          [
                            0.7777777777777778,
                            "#fb9f3a"
                          ],
                          [
                            0.8888888888888888,
                            "#fdca26"
                          ],
                          [
                            1,
                            "#f0f921"
                          ]
                        ],
                        "type": "histogram2dcontour"
                      }
                    ],
                    "mesh3d": [
                      {
                        "colorbar": {
                          "outlinewidth": 0,
                          "ticks": ""
                        },
                        "type": "mesh3d"
                      }
                    ],
                    "parcoords": [
                      {
                        "line": {
                          "colorbar": {
                            "outlinewidth": 0,
                            "ticks": ""
                          }
                        },
                        "type": "parcoords"
                      }
                    ],
                    "pie": [
                      {
                        "automargin": true,
                        "type": "pie"
                      }
                    ],
                    "scatter": [
                      {
                        "fillpattern": {
                          "fillmode": "overlay",
                          "size": 10,
                          "solidity": 0.2
                        },
                        "type": "scatter"
                      }
                    ],
                    "scatter3d": [
                      {
                        "line": {
                          "colorbar": {
                            "outlinewidth": 0,
                            "ticks": ""
                          }
                        },
                        "marker": {
                          "colorbar": {
                            "outlinewidth": 0,
                            "ticks": ""
                          }
                        },
                        "type": "scatter3d"
                      }
                    ],
                    "scattercarpet": [
                      {
                        "marker": {
                          "colorbar": {
                            "outlinewidth": 0,
                            "ticks": ""
                          }
                        },
                        "type": "scattercarpet"
                      }
                    ],
                    "scattergeo": [
                      {
                        "marker": {
                          "colorbar": {
                            "outlinewidth": 0,
                            "ticks": ""
                          }
                        },
                        "type": "scattergeo"
                      }
                    ],
                    "scattergl": [
                      {
                        "marker": {
                          "colorbar": {
                            "outlinewidth": 0,
                            "ticks": ""
                          }
                        },
                        "type": "scattergl"
                      }
                    ],
                    "scattermapbox": [
                      {
                        "marker": {
                          "colorbar": {
                            "outlinewidth": 0,
                            "ticks": ""
                          }
                        },
                        "type": "scattermapbox"
                      }
                    ],
                    "scatterpolar": [
                      {
                        "marker": {
                          "colorbar": {
                            "outlinewidth": 0,
                            "ticks": ""
                          }
                        },
                        "type": "scatterpolar"
                      }
                    ],
                    "scatterpolargl": [
                      {
                        "marker": {
                          "colorbar": {
                            "outlinewidth": 0,
                            "ticks": ""
                          }
                        },
                        "type": "scatterpolargl"
                      }
                    ],
                    "scatterternary": [
                      {
                        "marker": {
                          "colorbar": {
                            "outlinewidth": 0,
                            "ticks": ""
                          }
                        },
                        "type": "scatterternary"
                      }
                    ],
                    "surface": [
                      {
                        "colorbar": {
                          "outlinewidth": 0,
                          "ticks": ""
                        },
                        "colorscale": [
                          [
                            0,
                            "#0d0887"
                          ],
                          [
                            0.1111111111111111,
                            "#46039f"
                          ],
                          [
                            0.2222222222222222,
                            "#7201a8"
                          ],
                          [
                            0.3333333333333333,
                            "#9c179e"
                          ],
                          [
                            0.4444444444444444,
                            "#bd3786"
                          ],
                          [
                            0.5555555555555556,
                            "#d8576b"
                          ],
                          [
                            0.6666666666666666,
                            "#ed7953"
                          ],
                          [
                            0.7777777777777778,
                            "#fb9f3a"
                          ],
                          [
                            0.8888888888888888,
                            "#fdca26"
                          ],
                          [
                            1,
                            "#f0f921"
                          ]
                        ],
                        "type": "surface"
                      }
                    ],
                    "table": [
                      {
                        "cells": {
                          "fill": {
                            "color": "#EBF0F8"
                          },
                          "line": {
                            "color": "white"
                          }
                        },
                        "header": {
                          "fill": {
                            "color": "#C8D4E3"
                          },
                          "line": {
                            "color": "white"
                          }
                        },
                        "type": "table"
                      }
                    ]
                  },
                  "layout": {
                    "annotationdefaults": {
                      "arrowcolor": "#2a3f5f",
                      "arrowhead": 0,
                      "arrowwidth": 1
                    },
                    "autotypenumbers": "strict",
                    "coloraxis": {
                      "colorbar": {
                        "outlinewidth": 0,
                        "ticks": ""
                      }
                    },
                    "colorscale": {
                      "diverging": [
                        [
                          0,
                          "#8e0152"
                        ],
                        [
                          0.1,
                          "#c51b7d"
                        ],
                        [
                          0.2,
                          "#de77ae"
                        ],
                        [
                          0.3,
                          "#f1b6da"
                        ],
                        [
                          0.4,
                          "#fde0ef"
                        ],
                        [
                          0.5,
                          "#f7f7f7"
                        ],
                        [
                          0.6,
                          "#e6f5d0"
                        ],
                        [
                          0.7,
                          "#b8e186"
                        ],
                        [
                          0.8,
                          "#7fbc41"
                        ],
                        [
                          0.9,
                          "#4d9221"
                        ],
                        [
                          1,
                          "#276419"
                        ]
                      ],
                      "sequential": [
                        [
                          0,
                          "#0d0887"
                        ],
                        [
                          0.1111111111111111,
                          "#46039f"
                        ],
                        [
                          0.2222222222222222,
                          "#7201a8"
                        ],
                        [
                          0.3333333333333333,
                          "#9c179e"
                        ],
                        [
                          0.4444444444444444,
                          "#bd3786"
                        ],
                        [
                          0.5555555555555556,
                          "#d8576b"
                        ],
                        [
                          0.6666666666666666,
                          "#ed7953"
                        ],
                        [
                          0.7777777777777778,
                          "#fb9f3a"
                        ],
                        [
                          0.8888888888888888,
                          "#fdca26"
                        ],
                        [
                          1,
                          "#f0f921"
                        ]
                      ],
                      "sequentialminus": [
                        [
                          0,
                          "#0d0887"
                        ],
                        [
                          0.1111111111111111,
                          "#46039f"
                        ],
                        [
                          0.2222222222222222,
                          "#7201a8"
                        ],
                        [
                          0.3333333333333333,
                          "#9c179e"
                        ],
                        [
                          0.4444444444444444,
                          "#bd3786"
                        ],
                        [
                          0.5555555555555556,
                          "#d8576b"
                        ],
                        [
                          0.6666666666666666,
                          "#ed7953"
                        ],
                        [
                          0.7777777777777778,
                          "#fb9f3a"
                        ],
                        [
                          0.8888888888888888,
                          "#fdca26"
                        ],
                        [
                          1,
                          "#f0f921"
                        ]
                      ]
                    },
                    "colorway": [
                      "#636efa",
                      "#EF553B",
                      "#00cc96",
                      "#ab63fa",
                      "#FFA15A",
                      "#19d3f3",
                      "#FF6692",
                      "#B6E880",
                      "#FF97FF",
                      "#FECB52"
                    ],
                    "font": {
                      "color": "#2a3f5f"
                    },
                    "geo": {
                      "bgcolor": "white",
                      "lakecolor": "white",
                      "landcolor": "#E5ECF6",
                      "showlakes": true,
                      "showland": true,
                      "subunitcolor": "white"
                    },
                    "hoverlabel": {
                      "align": "left"
                    },
                    "hovermode": "closest",
                    "mapbox": {
                      "style": "light"
                    },
                    "paper_bgcolor": "white",
                    "plot_bgcolor": "#E5ECF6",
                    "polar": {
                      "angularaxis": {
                        "gridcolor": "white",
                        "linecolor": "white",
                        "ticks": ""
                      },
                      "bgcolor": "#E5ECF6",
                      "radialaxis": {
                        "gridcolor": "white",
                        "linecolor": "white",
                        "ticks": ""
                      }
                    },
                    "scene": {
                      "xaxis": {
                        "backgroundcolor": "#E5ECF6",
                        "gridcolor": "white",
                        "gridwidth": 2,
                        "linecolor": "white",
                        "showbackground": true,
                        "ticks": "",
                        "zerolinecolor": "white"
                      },
                      "yaxis": {
                        "backgroundcolor": "#E5ECF6",
                        "gridcolor": "white",
                        "gridwidth": 2,
                        "linecolor": "white",
                        "showbackground": true,
                        "ticks": "",
                        "zerolinecolor": "white"
                      },
                      "zaxis": {
                        "backgroundcolor": "#E5ECF6",
                        "gridcolor": "white",
                        "gridwidth": 2,
                        "linecolor": "white",
                        "showbackground": true,
                        "ticks": "",
                        "zerolinecolor": "white"
                      }
                    },
                    "shapedefaults": {
                      "line": {
                        "color": "#2a3f5f"
                      }
                    },
                    "ternary": {
                      "aaxis": {
                        "gridcolor": "white",
                        "linecolor": "white",
                        "ticks": ""
                      },
                      "baxis": {
                        "gridcolor": "white",
                        "linecolor": "white",
                        "ticks": ""
                      },
                      "bgcolor": "#E5ECF6",
                      "caxis": {
                        "gridcolor": "white",
                        "linecolor": "white",
                        "ticks": ""
                      }
                    },
                    "title": {
                      "x": 0.05
                    },
                    "xaxis": {
                      "automargin": true,
                      "gridcolor": "white",
                      "linecolor": "white",
                      "ticks": "",
                      "title": {
                        "standoff": 15
                      },
                      "zerolinecolor": "white",
                      "zerolinewidth": 2
                    },
                    "yaxis": {
                      "automargin": true,
                      "gridcolor": "white",
                      "linecolor": "white",
                      "ticks": "",
                      "title": {
                        "standoff": 15
                      },
                      "zerolinecolor": "white",
                      "zerolinewidth": 2
                    }
                  }
                },
                "title": {
                  "text": "Percentage Per Gender"
                }
              }
            }
          },
          "metadata": {},
          "output_type": "display_data"
        }
      ],
      "source": [
        "fig = px.pie(law,\n",
        "             names = \"gender\",\n",
        "             template = \"plotly\",\n",
        "             color_discrete_sequence = px.colors.sequential.RdBu,\n",
        "             color = \"gender\",\n",
        "             hole = 0.5,\n",
        "             title = \"Percentage Per Gender\")\n",
        "iplot(fig)"
      ]
    },
    {
      "cell_type": "code",
      "execution_count": null,
      "metadata": {},
      "outputs": [],
      "source": [
        "fig, ax = plt.subplots()\n",
        "ax.plot(law.index, law[\"math score\"], \"v\", label =\"math score\")\n",
        "ax.plot(law.index, law[\"reading score\"], \"s\", label =\"reading score\")\n",
        "ax.legend()\n",
        "\n",
        "ax.set_title(\"Math and Reading Scores\")\n",
        "ax.set_xlabel(\"Index\")\n",
        "ax.set_ylabel(\"Scores\")\n",
        "\n",
        "plt.show()"
      ]
    },
    {
      "cell_type": "code",
      "execution_count": null,
      "metadata": {},
      "outputs": [],
      "source": [
        "female_data = law[law[\"gender\"] == \"female\"]\n",
        "male_data = law[law[\"gender\"] == \"male\"]\n",
        "grouped = law.groupby(\"gender\")[[\"math score\", \"reading score\"]].mean()\n",
        "\n",
        "fig, ax = plt.subplots()\n",
        "\n",
        "# Plot for females\n",
        "ax.plot(female_data.index, female_data[\"math score\"], \"d\", label=\"Female - Math\")\n",
        "ax.plot(female_data.index, female_data[\"reading score\"], \"v\", label=\"Female - Reading\")\n",
        "\n",
        "# Plot for males\n",
        "ax.plot(male_data.index, male_data[\"math score\"], \"s\", label=\"Male - Math\")\n",
        "ax.plot(male_data.index, male_data[\"reading score\"], \"o\", label=\"Male - Reading\")\n",
        "\n",
        "# Add labels and legend\n",
        "ax.set_title(\"Scores by Gender\")\n",
        "ax.set_xlabel(\"Index\")\n",
        "ax.set_ylabel(\"Scores\")\n",
        "ax.legend()\n",
        "\n",
        "plt.show()\n"
      ]
    },
    {
      "cell_type": "code",
      "execution_count": null,
      "metadata": {},
      "outputs": [],
      "source": []
    }
  ],
  "metadata": {
    "colab": {
      "provenance": []
    },
    "kernelspec": {
      "display_name": "Python 3",
      "name": "python3"
    },
    "language_info": {
      "codemirror_mode": {
        "name": "ipython",
        "version": 3
      },
      "file_extension": ".py",
      "mimetype": "text/x-python",
      "name": "python",
      "nbconvert_exporter": "python",
      "pygments_lexer": "ipython3",
      "version": "3.11.5"
    }
  },
  "nbformat": 4,
  "nbformat_minor": 0
}
