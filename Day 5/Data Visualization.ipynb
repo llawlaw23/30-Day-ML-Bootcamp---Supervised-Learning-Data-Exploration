{
  "cells": [
    {
      "cell_type": "markdown",
      "metadata": {
        "id": "Qh0xLYRSqdUJ"
      },
      "source": [
        "# Data Visualization\n",
        "Using Matplotlib and Seadorn"
      ]
    },
    {
      "cell_type": "code",
      "execution_count": 1,
      "metadata": {
        "id": "J0i14nX5qr7C"
      },
      "outputs": [],
      "source": [
        "import matplotlib.pyplot as plt\n",
        "import seaborn as sns\n",
        "import pandas as pd\n",
        "import numpy as np"
      ]
    },
    {
      "cell_type": "code",
      "execution_count": null,
      "metadata": {
        "colab": {
          "base_uri": "https://localhost:8080/",
          "height": 430
        },
        "id": "qzimmElAqves",
        "outputId": "b4483583-9e95-4525-8333-029196d7ab00"
      },
      "outputs": [],
      "source": [
        "# The plot function\n",
        "plt.plot([2, 14, 8, 5, 10, 4])\n",
        "plt.show()"
      ]
    },
    {
      "cell_type": "code",
      "execution_count": 2,
      "metadata": {
        "colab": {
          "base_uri": "https://localhost:8080/",
          "height": 255
        },
        "id": "NHvfXy1frHF6",
        "outputId": "8da97e15-7bc6-4b4d-b917-311256f3bbe3"
      },
      "outputs": [
        {
          "data": {
            "text/html": [
              "<div>\n",
              "<style scoped>\n",
              "    .dataframe tbody tr th:only-of-type {\n",
              "        vertical-align: middle;\n",
              "    }\n",
              "\n",
              "    .dataframe tbody tr th {\n",
              "        vertical-align: top;\n",
              "    }\n",
              "\n",
              "    .dataframe thead th {\n",
              "        text-align: right;\n",
              "    }\n",
              "</style>\n",
              "<table border=\"1\" class=\"dataframe\">\n",
              "  <thead>\n",
              "    <tr style=\"text-align: right;\">\n",
              "      <th></th>\n",
              "      <th>Id</th>\n",
              "      <th>MSSubClass</th>\n",
              "      <th>LotArea</th>\n",
              "      <th>Street</th>\n",
              "      <th>LotShape</th>\n",
              "      <th>LandContour</th>\n",
              "      <th>LotConfig</th>\n",
              "      <th>LandSlope</th>\n",
              "      <th>Neighborhood</th>\n",
              "      <th>Condition1</th>\n",
              "      <th>...</th>\n",
              "      <th>WoodDeckSF</th>\n",
              "      <th>OpenPorchSF</th>\n",
              "      <th>EnclosedPorch</th>\n",
              "      <th>3SsnPorch</th>\n",
              "      <th>ScreenPorch</th>\n",
              "      <th>PoolArea</th>\n",
              "      <th>MiscVal</th>\n",
              "      <th>MoSold</th>\n",
              "      <th>YrSold</th>\n",
              "      <th>SaleCondition</th>\n",
              "    </tr>\n",
              "  </thead>\n",
              "  <tbody>\n",
              "    <tr>\n",
              "      <th>0</th>\n",
              "      <td>1461</td>\n",
              "      <td>20</td>\n",
              "      <td>11622</td>\n",
              "      <td>Pave</td>\n",
              "      <td>Reg</td>\n",
              "      <td>Lvl</td>\n",
              "      <td>Inside</td>\n",
              "      <td>Gtl</td>\n",
              "      <td>NAmes</td>\n",
              "      <td>Feedr</td>\n",
              "      <td>...</td>\n",
              "      <td>140</td>\n",
              "      <td>0</td>\n",
              "      <td>0</td>\n",
              "      <td>0</td>\n",
              "      <td>120</td>\n",
              "      <td>0</td>\n",
              "      <td>0</td>\n",
              "      <td>6</td>\n",
              "      <td>2010</td>\n",
              "      <td>Normal</td>\n",
              "    </tr>\n",
              "    <tr>\n",
              "      <th>1</th>\n",
              "      <td>1462</td>\n",
              "      <td>20</td>\n",
              "      <td>14267</td>\n",
              "      <td>Pave</td>\n",
              "      <td>IR1</td>\n",
              "      <td>Lvl</td>\n",
              "      <td>Corner</td>\n",
              "      <td>Gtl</td>\n",
              "      <td>NAmes</td>\n",
              "      <td>Norm</td>\n",
              "      <td>...</td>\n",
              "      <td>393</td>\n",
              "      <td>36</td>\n",
              "      <td>0</td>\n",
              "      <td>0</td>\n",
              "      <td>0</td>\n",
              "      <td>0</td>\n",
              "      <td>12500</td>\n",
              "      <td>6</td>\n",
              "      <td>2010</td>\n",
              "      <td>Normal</td>\n",
              "    </tr>\n",
              "    <tr>\n",
              "      <th>2</th>\n",
              "      <td>1463</td>\n",
              "      <td>60</td>\n",
              "      <td>13830</td>\n",
              "      <td>Pave</td>\n",
              "      <td>IR1</td>\n",
              "      <td>Lvl</td>\n",
              "      <td>Inside</td>\n",
              "      <td>Gtl</td>\n",
              "      <td>Gilbert</td>\n",
              "      <td>Norm</td>\n",
              "      <td>...</td>\n",
              "      <td>212</td>\n",
              "      <td>34</td>\n",
              "      <td>0</td>\n",
              "      <td>0</td>\n",
              "      <td>0</td>\n",
              "      <td>0</td>\n",
              "      <td>0</td>\n",
              "      <td>3</td>\n",
              "      <td>2010</td>\n",
              "      <td>Normal</td>\n",
              "    </tr>\n",
              "    <tr>\n",
              "      <th>3</th>\n",
              "      <td>1464</td>\n",
              "      <td>60</td>\n",
              "      <td>9978</td>\n",
              "      <td>Pave</td>\n",
              "      <td>IR1</td>\n",
              "      <td>Lvl</td>\n",
              "      <td>Inside</td>\n",
              "      <td>Gtl</td>\n",
              "      <td>Gilbert</td>\n",
              "      <td>Norm</td>\n",
              "      <td>...</td>\n",
              "      <td>360</td>\n",
              "      <td>36</td>\n",
              "      <td>0</td>\n",
              "      <td>0</td>\n",
              "      <td>0</td>\n",
              "      <td>0</td>\n",
              "      <td>0</td>\n",
              "      <td>6</td>\n",
              "      <td>2010</td>\n",
              "      <td>Normal</td>\n",
              "    </tr>\n",
              "    <tr>\n",
              "      <th>4</th>\n",
              "      <td>1465</td>\n",
              "      <td>120</td>\n",
              "      <td>5005</td>\n",
              "      <td>Pave</td>\n",
              "      <td>IR1</td>\n",
              "      <td>HLS</td>\n",
              "      <td>Inside</td>\n",
              "      <td>Gtl</td>\n",
              "      <td>StoneBr</td>\n",
              "      <td>Norm</td>\n",
              "      <td>...</td>\n",
              "      <td>0</td>\n",
              "      <td>82</td>\n",
              "      <td>0</td>\n",
              "      <td>0</td>\n",
              "      <td>144</td>\n",
              "      <td>0</td>\n",
              "      <td>0</td>\n",
              "      <td>1</td>\n",
              "      <td>2010</td>\n",
              "      <td>Normal</td>\n",
              "    </tr>\n",
              "  </tbody>\n",
              "</table>\n",
              "<p>5 rows × 47 columns</p>\n",
              "</div>"
            ],
            "text/plain": [
              "     Id  MSSubClass  LotArea Street LotShape LandContour LotConfig LandSlope  \\\n",
              "0  1461          20    11622   Pave      Reg         Lvl    Inside       Gtl   \n",
              "1  1462          20    14267   Pave      IR1         Lvl    Corner       Gtl   \n",
              "2  1463          60    13830   Pave      IR1         Lvl    Inside       Gtl   \n",
              "3  1464          60     9978   Pave      IR1         Lvl    Inside       Gtl   \n",
              "4  1465         120     5005   Pave      IR1         HLS    Inside       Gtl   \n",
              "\n",
              "  Neighborhood Condition1  ... WoodDeckSF OpenPorchSF EnclosedPorch  \\\n",
              "0        NAmes      Feedr  ...        140           0             0   \n",
              "1        NAmes       Norm  ...        393          36             0   \n",
              "2      Gilbert       Norm  ...        212          34             0   \n",
              "3      Gilbert       Norm  ...        360          36             0   \n",
              "4      StoneBr       Norm  ...          0          82             0   \n",
              "\n",
              "   3SsnPorch  ScreenPorch  PoolArea  MiscVal MoSold YrSold SaleCondition  \n",
              "0          0          120         0        0      6   2010        Normal  \n",
              "1          0            0         0    12500      6   2010        Normal  \n",
              "2          0            0         0        0      3   2010        Normal  \n",
              "3          0            0         0        0      6   2010        Normal  \n",
              "4          0          144         0        0      1   2010        Normal  \n",
              "\n",
              "[5 rows x 47 columns]"
            ]
          },
          "execution_count": 2,
          "metadata": {},
          "output_type": "execute_result"
        }
      ],
      "source": [
        "law = pd.read_csv('test.csv')\n",
        "law.dropna( axis=1, inplace=True)\n",
        "law.head()"
      ]
    },
    {
      "cell_type": "code",
      "execution_count": null,
      "metadata": {
        "colab": {
          "base_uri": "https://localhost:8080/"
        },
        "id": "6o-K-sqVOGYb",
        "outputId": "ca7ebedb-33a9-43f6-e9a9-6869bb493764"
      },
      "outputs": [],
      "source": [
        "# Checking the various columns in the DataFrame\n",
        "law.columns"
      ]
    },
    {
      "cell_type": "code",
      "execution_count": null,
      "metadata": {
        "colab": {
          "base_uri": "https://localhost:8080/"
        },
        "id": "tgTurf-D4P39",
        "outputId": "0b626d9b-45d7-4ced-d22c-6c139e9d13eb"
      },
      "outputs": [],
      "source": [
        "law.info()"
      ]
    },
    {
      "cell_type": "code",
      "execution_count": null,
      "metadata": {
        "colab": {
          "base_uri": "https://localhost:8080/",
          "height": 349
        },
        "id": "uBNFaPmqOfLM",
        "outputId": "721228fd-4eb5-40d8-a6e8-c77b47301b51"
      },
      "outputs": [],
      "source": [
        "law.groupby(\"PoolArea\").count()"
      ]
    },
    {
      "cell_type": "code",
      "execution_count": null,
      "metadata": {
        "colab": {
          "base_uri": "https://localhost:8080/",
          "height": 443
        },
        "id": "hNk3KH9UOt6v",
        "outputId": "5c59b6be-1156-404c-ef91-edb796a69009"
      },
      "outputs": [],
      "source": [
        "# Changing zeros to NaN\n",
        "law.replace(0, \"-\")"
      ]
    },
    {
      "cell_type": "code",
      "execution_count": null,
      "metadata": {
        "colab": {
          "base_uri": "https://localhost:8080/",
          "height": 475
        },
        "id": "-J9oZOKtPyXM",
        "outputId": "f926da7d-d2ee-4840-85ba-6809e90d8d76"
      },
      "outputs": [],
      "source": [
        "law.groupby(\"2ndFlrSF\").count()"
      ]
    },
    {
      "cell_type": "code",
      "execution_count": null,
      "metadata": {
        "colab": {
          "base_uri": "https://localhost:8080/",
          "height": 449
        },
        "id": "_Uxp_VDlRH2z",
        "outputId": "62a003e2-7ed4-4ab3-ef51-f2b150791001"
      },
      "outputs": [],
      "source": [
        "# Scatter Graph\n",
        "plt.scatter(x = law[\"2ndFlrSF\"],  y = law[\"LotArea\"])\n",
        "plt.ylabel(\"LotArea\")\n",
        "plt.xlabel(\"2ndFlrSF\")\n",
        "plt.show()"
      ]
    },
    {
      "cell_type": "code",
      "execution_count": null,
      "metadata": {
        "colab": {
          "base_uri": "https://localhost:8080/",
          "height": 449
        },
        "id": "DrmVCLcHQH6V",
        "outputId": "5d8377c7-0e4c-4f65-b419-2ea5dbcb0fe4"
      },
      "outputs": [],
      "source": [
        "# Bar Graph\n",
        "plt.bar(law[\"2ndFlrSF\"], law[\"LotArea\"])\n",
        "plt.ylabel(\"LotArea\")\n",
        "plt.xlabel(\"2ndFlrSF\")\n",
        "plt.show()"
      ]
    },
    {
      "cell_type": "code",
      "execution_count": null,
      "metadata": {
        "id": "YtseVq6bR9tm"
      },
      "outputs": [],
      "source": [
        "# Pie Chart\n",
        "values = data[\"WoodDeckSF\"].count(), data[\"OpenPorchSF\"].count(), data[\"MSSubClass\"].count(), data[\"LotArea\"].count()\n",
        "labels = [\"WoodDeckSF\", \"OpenPorchSF\", \"MSSubClass\", \"LotArea\"]\n",
        "plt.pie(values, labels=labels, autopct='%1.1f%%')\n",
        "plt.title(\"My Trial\")\n",
        "plt.show()"
      ]
    },
    {
      "cell_type": "code",
      "execution_count": null,
      "metadata": {},
      "outputs": [],
      "source": [
        "x = law[\"LotArea\"]\n",
        "y = law[\"WoodDeckSF\"]\n",
        "plt.plot(x, y)\n",
        "plt.xlabel(\"X axis\")\n",
        "plt.ylabel(\"Y axis\")"
      ]
    },
    {
      "cell_type": "code",
      "execution_count": null,
      "metadata": {},
      "outputs": [],
      "source": [
        "law = pd.read_csv(\"StudentsPerformance.csv\")\n",
        "law.head()"
      ]
    },
    {
      "cell_type": "code",
      "execution_count": null,
      "metadata": {},
      "outputs": [],
      "source": [
        "law[\"Average Score\"] = (law[\"math score\"] + law[\"reading score\"] + law[\"writing score\"]) / 3\n",
        "law.head()"
      ]
    },
    {
      "cell_type": "code",
      "execution_count": null,
      "metadata": {},
      "outputs": [],
      "source": [
        "law.describe().T"
      ]
    },
    {
      "cell_type": "code",
      "execution_count": null,
      "metadata": {},
      "outputs": [],
      "source": [
        "law.sample(5)"
      ]
    },
    {
      "cell_type": "code",
      "execution_count": null,
      "metadata": {},
      "outputs": [],
      "source": [
        "law[\"gender\"].value_counts()"
      ]
    },
    {
      "cell_type": "code",
      "execution_count": null,
      "metadata": {},
      "outputs": [],
      "source": [
        "fig, ax = plt.subplots()\n",
        "ax.plot(law.index, law[\"math score\"], \"v\", label =\"math score\")\n",
        "ax.plot(law.index, law[\"reading score\"], \"s\", label =\"reading score\")\n",
        "ax.legend()\n",
        "\n",
        "ax.set_title(\"Math and Reading Scores\")\n",
        "ax.set_xlabel(\"Index\")\n",
        "ax.set_ylabel(\"Scores\")\n",
        "\n",
        "plt.show()"
      ]
    },
    {
      "cell_type": "code",
      "execution_count": null,
      "metadata": {},
      "outputs": [],
      "source": [
        "female_data = law[law[\"gender\"] == \"female\"]\n",
        "male_data = law[law[\"gender\"] == \"male\"]\n",
        "grouped = law.groupby(\"gender\")[[\"math score\", \"reading score\"]].mean()\n",
        "\n",
        "fig, ax = plt.subplots()\n",
        "\n",
        "# Plot for females\n",
        "ax.plot(female_data.index, female_data[\"math score\"], \"d\", label=\"Female - Math\")\n",
        "ax.plot(female_data.index, female_data[\"reading score\"], \"v\", label=\"Female - Reading\")\n",
        "\n",
        "# Plot for males\n",
        "ax.plot(male_data.index, male_data[\"math score\"], \"s\", label=\"Male - Math\")\n",
        "ax.plot(male_data.index, male_data[\"reading score\"], \"o\", label=\"Male - Reading\")\n",
        "\n",
        "# Add labels and legend\n",
        "ax.set_title(\"Scores by Gender\")\n",
        "ax.set_xlabel(\"Index\")\n",
        "ax.set_ylabel(\"Scores\")\n",
        "ax.legend()\n",
        "\n",
        "plt.show()\n"
      ]
    },
    {
      "cell_type": "code",
      "execution_count": null,
      "metadata": {},
      "outputs": [],
      "source": []
    }
  ],
  "metadata": {
    "colab": {
      "provenance": []
    },
    "kernelspec": {
      "display_name": "Python 3",
      "name": "python3"
    },
    "language_info": {
      "codemirror_mode": {
        "name": "ipython",
        "version": 3
      },
      "file_extension": ".py",
      "mimetype": "text/x-python",
      "name": "python",
      "nbconvert_exporter": "python",
      "pygments_lexer": "ipython3",
      "version": "3.11.5"
    }
  },
  "nbformat": 4,
  "nbformat_minor": 0
}
