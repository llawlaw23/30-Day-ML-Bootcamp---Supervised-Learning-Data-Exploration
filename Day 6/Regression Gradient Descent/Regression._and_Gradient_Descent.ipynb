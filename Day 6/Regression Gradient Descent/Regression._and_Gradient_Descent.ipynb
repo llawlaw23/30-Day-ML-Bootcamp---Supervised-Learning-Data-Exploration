{
 "cells": [
  {
   "cell_type": "markdown",
   "metadata": {},
   "source": [
    "# Linear Regression"
   ]
  },
  {
   "cell_type": "code",
   "execution_count": 21,
   "metadata": {},
   "outputs": [],
   "source": [
    "import pandas as pd \n",
    "import numpy as np \n",
    "import matplotlib.pyplot as plt\n",
    "from sklearn import linear_model\n",
    "import math"
   ]
  },
  {
   "cell_type": "code",
   "execution_count": null,
   "metadata": {},
   "outputs": [],
   "source": [
    "# Reading CSV file\n",
    "df = pd.read_csv(\"linearregressionex.csv\")\n",
    "df.head()"
   ]
  },
  {
   "cell_type": "code",
   "execution_count": null,
   "metadata": {},
   "outputs": [],
   "source": [
    "# Statistical Representation \n",
    "plt.xlabel(\"Year\", size = 15)\n",
    "plt.ylabel(\"Income\", size = 15)\n",
    "plt.scatter(df.year, df[\"per capita income (US$)\"], color = \"black\", marker = \"p\")"
   ]
  },
  {
   "cell_type": "code",
   "execution_count": null,
   "metadata": {},
   "outputs": [],
   "source": [
    "# Model Fitting\n",
    "reg = linear_model.LinearRegression()\n",
    "reg.fit(df[[\"year\"]], df[\"per capita income (US$)\"])"
   ]
  },
  {
   "cell_type": "code",
   "execution_count": null,
   "metadata": {},
   "outputs": [],
   "source": [
    "# Model Prediction\n",
    "reg.predict([[2020]])"
   ]
  },
  {
   "cell_type": "markdown",
   "metadata": {},
   "source": [
    "# Multivariate Regression"
   ]
  },
  {
   "cell_type": "markdown",
   "metadata": {},
   "source": [
    "### Handling missing data"
   ]
  },
  {
   "cell_type": "code",
   "execution_count": null,
   "metadata": {},
   "outputs": [],
   "source": [
    "# Reading CSV file\n",
    "me = pd.read_csv(\"multivariateEx.csv\")\n",
    "me "
   ]
  },
  {
   "cell_type": "code",
   "execution_count": null,
   "metadata": {},
   "outputs": [],
   "source": [
    "# Checking for null values and filling them\n",
    "me.info()"
   ]
  },
  {
   "cell_type": "code",
   "execution_count": 50,
   "metadata": {},
   "outputs": [],
   "source": [
    "# filling the null values in tes score \n",
    "# Using the mean of the rest of the score \n",
    "import math\n",
    "t = math.floor(me[\"test_score(out of 10)\"].mean())\n"
   ]
  },
  {
   "cell_type": "code",
   "execution_count": null,
   "metadata": {},
   "outputs": [],
   "source": [
    "me[\"test_score(out of 10)\"] = me[\"test_score(out of 10)\"].fillna(t)\n",
    "me"
   ]
  },
  {
   "cell_type": "code",
   "execution_count": null,
   "metadata": {},
   "outputs": [],
   "source": [
    "# filling null value sin experience\n",
    "me.experience = me.experience.fillna(\"zero\")\n",
    "me"
   ]
  },
  {
   "cell_type": "code",
   "execution_count": 53,
   "metadata": {},
   "outputs": [],
   "source": [
    "# Changing experience from words to numbers\n",
    "from word2number import w2n\n",
    "me.experience = me.experience.apply(w2n.word_to_num)"
   ]
  },
  {
   "cell_type": "code",
   "execution_count": null,
   "metadata": {},
   "outputs": [],
   "source": [
    "reg = linear_model.LinearRegression()\n",
    "reg.fit(me[[\"experience\", \"test_score(out of 10)\", \"interview_score(out of 10)\"]], me[\"salary($)\"])"
   ]
  },
  {
   "cell_type": "code",
   "execution_count": null,
   "metadata": {},
   "outputs": [],
   "source": [
    "reg.predict([[9, 5, 7]])"
   ]
  },
  {
   "cell_type": "code",
   "execution_count": null,
   "metadata": {},
   "outputs": [],
   "source": [
    "reg.coef_"
   ]
  },
  {
   "cell_type": "code",
   "execution_count": null,
   "metadata": {},
   "outputs": [],
   "source": [
    "reg.intercept_"
   ]
  },
  {
   "cell_type": "markdown",
   "metadata": {},
   "source": [
    "### Gradient Descent and Cost Function"
   ]
  },
  {
   "cell_type": "code",
   "execution_count": null,
   "metadata": {},
   "outputs": [],
   "source": [
    "def predict_using_sklearn():\n",
    "    gd = pd.read_csv(\"GradientDescent Ex.csv\")\n",
    "    r =linear_model.LinearRegression()\n",
    "    r.fit(gd[[\"math\"]], gd[\"cs\"])\n",
    "    return r.coef_, r.intercept_\n",
    "\n",
    "\n",
    "def gradient_descent(x, y):\n",
    "    m_curr = 0\n",
    "    b_curr = 0\n",
    "    iterations  = 1000000\n",
    "    n = len(x)\n",
    "    learning_rate = 0.0002\n",
    "\n",
    "    cost_previous = 0\n",
    "\n",
    "    for i in range(iterations):\n",
    "        y_predict = m_curr * x + b_curr\n",
    "        cost = (1/n) * sum([Val**2 for Val in (y - y_predict)])\n",
    "        md = -(2/n)*sum(x * (y - y_predict))\n",
    "        bd = -(2/n)*sum((y - y_predict))\n",
    "        m_curr = m_curr - learning_rate * md\n",
    "        b_curr = b_curr - learning_rate* bd\n",
    "        if math.isclose(cost, cost_previous, rel_tol = 1e-20):\n",
    "            break\n",
    "        cost_previous = cost\n",
    "        print(\"m {}, b {}, cost {}, iteration {}\".format(m_curr, b_curr, cost, i))\n",
    "\n",
    "    return m_curr, b_curr\n",
    "\n",
    "\n",
    "if __name__ == \"__main__\":\n",
    "    gd = pd.read_csv(\"GradientDescent Ex.csv\")\n",
    "    x = np.array(gd[\"math\"])\n",
    "    y = np.array(gd[\"cs\"])\n",
    "\n",
    "\n",
    "    m, b = gradient_descent(x, y)\n",
    "    print(\"Using gradient decent function: Coef{} Intercept {}\".format(m, b))\n",
    "\n",
    "    m_sklearn, b_sklearn = predict_using_sklearn()\n",
    "    print(\"using sklearn: Coef {} Intercept {}\".format(m_sklearn, b_sklearn))"
   ]
  },
  {
   "cell_type": "code",
   "execution_count": null,
   "metadata": {},
   "outputs": [],
   "source": []
  }
 ],
 "metadata": {
  "kernelspec": {
   "display_name": "Python 3",
   "language": "python",
   "name": "python3"
  },
  "language_info": {
   "codemirror_mode": {
    "name": "ipython",
    "version": 3
   },
   "file_extension": ".py",
   "mimetype": "text/x-python",
   "name": "python",
   "nbconvert_exporter": "python",
   "pygments_lexer": "ipython3",
   "version": "3.11.5"
  }
 },
 "nbformat": 4,
 "nbformat_minor": 2
}
